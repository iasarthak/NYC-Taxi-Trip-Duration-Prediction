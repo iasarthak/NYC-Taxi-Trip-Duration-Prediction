{
 "cells": [
  {
   "cell_type": "code",
   "execution_count": 1,
   "metadata": {},
   "outputs": [],
   "source": [
    "# Importing the required libraries\n",
    "\n",
    "import pandas as pd\n",
    "import numpy as np\n",
    "import matplotlib.pyplot as plt\n",
    "import seaborn as sns\n",
    "\n",
    "from IPython.display import display,clear_output"
   ]
  },
  {
   "cell_type": "code",
   "execution_count": 2,
   "metadata": {},
   "outputs": [
    {
     "name": "stderr",
     "output_type": "stream",
     "text": [
      "C:\\ProgramData\\Anaconda3\\lib\\site-packages\\IPython\\core\\interactiveshell.py:3063: DtypeWarning: Columns (12) have mixed types.Specify dtype option on import or set low_memory=False.\n",
      "  interactivity=interactivity, compiler=compiler, result=result)\n"
     ]
    },
    {
     "data": {
      "text/html": [
       "<div>\n",
       "<style scoped>\n",
       "    .dataframe tbody tr th:only-of-type {\n",
       "        vertical-align: middle;\n",
       "    }\n",
       "\n",
       "    .dataframe tbody tr th {\n",
       "        vertical-align: top;\n",
       "    }\n",
       "\n",
       "    .dataframe thead th {\n",
       "        text-align: right;\n",
       "    }\n",
       "</style>\n",
       "<table border=\"1\" class=\"dataframe\">\n",
       "  <thead>\n",
       "    <tr style=\"text-align: right;\">\n",
       "      <th></th>\n",
       "      <th>id</th>\n",
       "      <th>vendor_id</th>\n",
       "      <th>pickup_datetime</th>\n",
       "      <th>dropoff_datetime</th>\n",
       "      <th>passenger_count</th>\n",
       "      <th>pickup_longitude</th>\n",
       "      <th>pickup_latitude</th>\n",
       "      <th>dropoff_longitude</th>\n",
       "      <th>dropoff_latitude</th>\n",
       "      <th>store_and_fwd_flag</th>\n",
       "      <th>trip_duration</th>\n",
       "    </tr>\n",
       "  </thead>\n",
       "  <tbody>\n",
       "    <tr>\n",
       "      <th>0</th>\n",
       "      <td>id1080784</td>\n",
       "      <td>2</td>\n",
       "      <td>29-02-2016 16:40</td>\n",
       "      <td>29-02-2016 16:47</td>\n",
       "      <td>1</td>\n",
       "      <td>-73.953918</td>\n",
       "      <td>40.778873</td>\n",
       "      <td>-73.963875</td>\n",
       "      <td>40.771164</td>\n",
       "      <td>N</td>\n",
       "      <td>400</td>\n",
       "    </tr>\n",
       "    <tr>\n",
       "      <th>1</th>\n",
       "      <td>id0889885</td>\n",
       "      <td>1</td>\n",
       "      <td>11-03-2016 23:35</td>\n",
       "      <td>11-03-2016 23:53</td>\n",
       "      <td>2</td>\n",
       "      <td>-73.988312</td>\n",
       "      <td>40.731743</td>\n",
       "      <td>-73.994751</td>\n",
       "      <td>40.694931</td>\n",
       "      <td>N</td>\n",
       "      <td>1100</td>\n",
       "    </tr>\n",
       "    <tr>\n",
       "      <th>2</th>\n",
       "      <td>id0857912</td>\n",
       "      <td>2</td>\n",
       "      <td>21-02-2016 17:59</td>\n",
       "      <td>21-02-2016 18:26</td>\n",
       "      <td>2</td>\n",
       "      <td>-73.997314</td>\n",
       "      <td>40.721458</td>\n",
       "      <td>-73.948029</td>\n",
       "      <td>40.774918</td>\n",
       "      <td>N</td>\n",
       "      <td>1635</td>\n",
       "    </tr>\n",
       "    <tr>\n",
       "      <th>3</th>\n",
       "      <td>id3744273</td>\n",
       "      <td>2</td>\n",
       "      <td>05-01-2016 9:44</td>\n",
       "      <td>05-01-2016 10:03</td>\n",
       "      <td>6</td>\n",
       "      <td>-73.961670</td>\n",
       "      <td>40.759720</td>\n",
       "      <td>-73.956779</td>\n",
       "      <td>40.780628</td>\n",
       "      <td>N</td>\n",
       "      <td>1141</td>\n",
       "    </tr>\n",
       "    <tr>\n",
       "      <th>4</th>\n",
       "      <td>id0232939</td>\n",
       "      <td>1</td>\n",
       "      <td>17-02-2016 6:42</td>\n",
       "      <td>17-02-2016 6:56</td>\n",
       "      <td>1</td>\n",
       "      <td>-74.017120</td>\n",
       "      <td>40.708469</td>\n",
       "      <td>-73.988182</td>\n",
       "      <td>40.740631</td>\n",
       "      <td>N</td>\n",
       "      <td>848</td>\n",
       "    </tr>\n",
       "  </tbody>\n",
       "</table>\n",
       "</div>"
      ],
      "text/plain": [
       "          id  vendor_id   pickup_datetime  dropoff_datetime  passenger_count  \\\n",
       "0  id1080784          2  29-02-2016 16:40  29-02-2016 16:47                1   \n",
       "1  id0889885          1  11-03-2016 23:35  11-03-2016 23:53                2   \n",
       "2  id0857912          2  21-02-2016 17:59  21-02-2016 18:26                2   \n",
       "3  id3744273          2   05-01-2016 9:44  05-01-2016 10:03                6   \n",
       "4  id0232939          1   17-02-2016 6:42   17-02-2016 6:56                1   \n",
       "\n",
       "   pickup_longitude  pickup_latitude  dropoff_longitude  dropoff_latitude  \\\n",
       "0        -73.953918        40.778873         -73.963875         40.771164   \n",
       "1        -73.988312        40.731743         -73.994751         40.694931   \n",
       "2        -73.997314        40.721458         -73.948029         40.774918   \n",
       "3        -73.961670        40.759720         -73.956779         40.780628   \n",
       "4        -74.017120        40.708469         -73.988182         40.740631   \n",
       "\n",
       "  store_and_fwd_flag  trip_duration  \n",
       "0                  N            400  \n",
       "1                  N           1100  \n",
       "2                  N           1635  \n",
       "3                  N           1141  \n",
       "4                  N            848  "
      ]
     },
     "execution_count": 2,
     "metadata": {},
     "output_type": "execute_result"
    }
   ],
   "source": [
    "# Importing the Dataset\n",
    "\n",
    "dataset=pd.read_csv(r\"C:\\Users\\Sarthak Arora\\Analytics Vidhya\\BOOTCAMP CLASSES\\NYC Trip Data Duration\\nyc_taxi_trip_duration.csv\")\n",
    "dataset.drop(columns=[\"Unnamed: 11\",\"Unnamed: 12\"],inplace=True)\n",
    "dataset.head()"
   ]
  },
  {
   "cell_type": "code",
   "execution_count": 3,
   "metadata": {},
   "outputs": [
    {
     "data": {
      "text/plain": [
       "id                            object\n",
       "vendor_id                   category\n",
       "pickup_datetime       datetime64[ns]\n",
       "dropoff_datetime      datetime64[ns]\n",
       "passenger_count                int64\n",
       "pickup_longitude             float64\n",
       "pickup_latitude              float64\n",
       "dropoff_longitude            float64\n",
       "dropoff_latitude             float64\n",
       "store_and_fwd_flag          category\n",
       "trip_duration                  int64\n",
       "distance                     float64\n",
       "avg_speed                    float64\n",
       "pickup_day_name             category\n",
       "dropoff_day_name            category\n",
       "pickup_time                    int64\n",
       "dropoff_time                   int64\n",
       "Pick_time_frame             category\n",
       "Drop_time_frame             category\n",
       "dtype: object"
      ]
     },
     "execution_count": 3,
     "metadata": {},
     "output_type": "execute_result"
    }
   ],
   "source": [
    "dataset.vendor_id=dataset[\"vendor_id\"].astype(\"category\")\n",
    "dataset.store_and_fwd_flag=dataset[\"store_and_fwd_flag\"].astype(\"category\")\n",
    "dataset.pickup_datetime = pd.to_datetime(dataset.pickup_datetime, format=\"%d-%m-%Y %H:%M\")\n",
    "dataset.dropoff_datetime = pd.to_datetime(dataset.dropoff_datetime, format=\"%d-%m-%Y %H:%M\")\n",
    "\n",
    "dataset[\"distance\"]=111139*abs(dataset.pickup_longitude-dataset.dropoff_longitude)+abs(dataset.pickup_latitude-dataset.dropoff_latitude)\n",
    "dataset[\"avg_speed\"]=dataset[\"distance\"]*60*60/(1000*dataset[\"trip_duration\"])\n",
    "\n",
    "dataset['pickup_day_name'] = dataset['pickup_datetime'].dt.day_name()\n",
    "dataset['dropoff_day_name']= dataset['dropoff_datetime'].dt.day_name()\n",
    "\n",
    "dataset['pickup_time'] = dataset['pickup_datetime'].dt.hour\n",
    "dataset['dropoff_time'] = dataset['dropoff_datetime'].dt.hour\n",
    "\n",
    "cut_bins = [0,5,10,15,20,24]\n",
    "names = ['Early Morning','Office Hours','Noon Hours','Evening','Night']\n",
    "\n",
    "dataset['Pick_time_frame'] = pd.cut(dataset['pickup_time'],bins=cut_bins,labels=names)\n",
    "dataset['Drop_time_frame'] = pd.cut(dataset['dropoff_time'],bins=cut_bins,labels=names)\n",
    "\n",
    "dataset.pickup_day_name=dataset[\"pickup_day_name\"].astype(\"category\")\n",
    "dataset.dropoff_day_name=dataset[\"dropoff_day_name\"].astype(\"category\")\n",
    "\n",
    "dataset.dtypes"
   ]
  },
  {
   "cell_type": "code",
   "execution_count": 4,
   "metadata": {},
   "outputs": [],
   "source": [
    "dataset=dataset[(dataset.trip_duration<250000)]"
   ]
  },
  {
   "cell_type": "code",
   "execution_count": 5,
   "metadata": {},
   "outputs": [],
   "source": [
    "from sklearn.metrics import mean_squared_log_error as msle\n",
    "from sklearn.metrics import mean_absolute_error as mae\n",
    "from sklearn.metrics import mean_squared_error as mse\n",
    "\n",
    "\n",
    "from sklearn.model_selection import train_test_split\n",
    "\n",
    "import category_encoders as ce"
   ]
  },
  {
   "cell_type": "code",
   "execution_count": 6,
   "metadata": {},
   "outputs": [],
   "source": [
    "dataset.drop(columns=[\"id\",\"pickup_datetime\",\"dropoff_datetime\"],inplace=True)"
   ]
  },
  {
   "cell_type": "code",
   "execution_count": 7,
   "metadata": {},
   "outputs": [
    {
     "data": {
      "text/plain": [
       "(729321, 16)"
      ]
     },
     "execution_count": 7,
     "metadata": {},
     "output_type": "execute_result"
    }
   ],
   "source": [
    "dataset.shape"
   ]
  },
  {
   "cell_type": "code",
   "execution_count": 8,
   "metadata": {},
   "outputs": [],
   "source": [
    "# dataset=dataset[(dataset.trip_duration<250000) & (dataset.distance <200000)]\n",
    "\n",
    "ohe= ce.OneHotEncoder(cols=[\"vendor_id\",\"store_and_fwd_flag\",\"pickup_day_name\",\"dropoff_day_name\",\"Pick_time_frame\",\"Drop_time_frame\"])\n",
    "dataset= ohe.fit_transform(dataset)"
   ]
  },
  {
   "cell_type": "code",
   "execution_count": 9,
   "metadata": {},
   "outputs": [
    {
     "data": {
      "text/plain": [
       "['vendor_id_1',\n",
       " 'vendor_id_2',\n",
       " 'passenger_count',\n",
       " 'pickup_longitude',\n",
       " 'pickup_latitude',\n",
       " 'dropoff_longitude',\n",
       " 'dropoff_latitude',\n",
       " 'store_and_fwd_flag_1',\n",
       " 'store_and_fwd_flag_2',\n",
       " 'trip_duration',\n",
       " 'distance',\n",
       " 'avg_speed',\n",
       " 'pickup_day_name_1',\n",
       " 'pickup_day_name_2',\n",
       " 'pickup_day_name_3',\n",
       " 'pickup_day_name_4',\n",
       " 'pickup_day_name_5',\n",
       " 'pickup_day_name_6',\n",
       " 'pickup_day_name_7',\n",
       " 'dropoff_day_name_1',\n",
       " 'dropoff_day_name_2',\n",
       " 'dropoff_day_name_3',\n",
       " 'dropoff_day_name_4',\n",
       " 'dropoff_day_name_5',\n",
       " 'dropoff_day_name_6',\n",
       " 'dropoff_day_name_7',\n",
       " 'pickup_time',\n",
       " 'dropoff_time',\n",
       " 'Pick_time_frame_1',\n",
       " 'Pick_time_frame_2',\n",
       " 'Pick_time_frame_3',\n",
       " 'Pick_time_frame_4',\n",
       " 'Pick_time_frame_5',\n",
       " 'Pick_time_frame_6',\n",
       " 'Drop_time_frame_1',\n",
       " 'Drop_time_frame_2',\n",
       " 'Drop_time_frame_3',\n",
       " 'Drop_time_frame_4',\n",
       " 'Drop_time_frame_5',\n",
       " 'Drop_time_frame_6']"
      ]
     },
     "execution_count": 9,
     "metadata": {},
     "output_type": "execute_result"
    }
   ],
   "source": [
    "dataset.columns.to_list()"
   ]
  },
  {
   "cell_type": "code",
   "execution_count": 10,
   "metadata": {},
   "outputs": [],
   "source": [
    "y=dataset[\"trip_duration\"]\n",
    "X=dataset[['vendor_id_1','vendor_id_2','passenger_count',\n",
    " 'pickup_longitude',\n",
    " 'pickup_latitude',\n",
    " 'dropoff_longitude',\n",
    " 'dropoff_latitude',\n",
    " 'store_and_fwd_flag_1',\n",
    " 'store_and_fwd_flag_2',\n",
    " 'distance',\n",
    " 'avg_speed',\n",
    " 'pickup_day_name_1',\n",
    " 'pickup_day_name_2',\n",
    " 'pickup_day_name_3',\n",
    " 'pickup_day_name_4',\n",
    " 'pickup_day_name_5',\n",
    " 'pickup_day_name_6',\n",
    " 'pickup_day_name_7',\n",
    " 'dropoff_day_name_1',\n",
    " 'dropoff_day_name_2',\n",
    " 'dropoff_day_name_3',\n",
    " 'dropoff_day_name_4',\n",
    " 'dropoff_day_name_5',\n",
    " 'dropoff_day_name_6',\n",
    " 'dropoff_day_name_7',\n",
    " 'pickup_time',\n",
    " 'dropoff_time',\n",
    " 'Pick_time_frame_1',\n",
    " 'Pick_time_frame_2',\n",
    " 'Pick_time_frame_3',\n",
    " 'Pick_time_frame_4',\n",
    " 'Pick_time_frame_5',\n",
    " 'Pick_time_frame_6',\n",
    " 'Drop_time_frame_1',\n",
    " 'Drop_time_frame_2',\n",
    " 'Drop_time_frame_3',\n",
    " 'Drop_time_frame_4',\n",
    " 'Drop_time_frame_5',\n",
    " 'Drop_time_frame_6']]"
   ]
  },
  {
   "cell_type": "markdown",
   "metadata": {},
   "source": [
    "# Mean Model"
   ]
  },
  {
   "cell_type": "code",
   "execution_count": 11,
   "metadata": {},
   "outputs": [],
   "source": [
    "from sklearn.preprocessing import MinMaxScaler"
   ]
  },
  {
   "cell_type": "code",
   "execution_count": 12,
   "metadata": {},
   "outputs": [],
   "source": [
    "X_train,X_test,y_train,y_test= train_test_split(X,y,test_size=0.2,random_state=70)"
   ]
  },
  {
   "cell_type": "code",
   "execution_count": 13,
   "metadata": {},
   "outputs": [
    {
     "data": {
      "text/html": [
       "<div>\n",
       "<style scoped>\n",
       "    .dataframe tbody tr th:only-of-type {\n",
       "        vertical-align: middle;\n",
       "    }\n",
       "\n",
       "    .dataframe tbody tr th {\n",
       "        vertical-align: top;\n",
       "    }\n",
       "\n",
       "    .dataframe thead th {\n",
       "        text-align: right;\n",
       "    }\n",
       "</style>\n",
       "<table border=\"1\" class=\"dataframe\">\n",
       "  <thead>\n",
       "    <tr style=\"text-align: right;\">\n",
       "      <th></th>\n",
       "      <th>vendor_id_1</th>\n",
       "      <th>vendor_id_2</th>\n",
       "      <th>passenger_count</th>\n",
       "      <th>pickup_longitude</th>\n",
       "      <th>pickup_latitude</th>\n",
       "      <th>dropoff_longitude</th>\n",
       "      <th>dropoff_latitude</th>\n",
       "      <th>store_and_fwd_flag_1</th>\n",
       "      <th>store_and_fwd_flag_2</th>\n",
       "      <th>distance</th>\n",
       "      <th>...</th>\n",
       "      <th>Pick_time_frame_3</th>\n",
       "      <th>Pick_time_frame_4</th>\n",
       "      <th>Pick_time_frame_5</th>\n",
       "      <th>Pick_time_frame_6</th>\n",
       "      <th>Drop_time_frame_1</th>\n",
       "      <th>Drop_time_frame_2</th>\n",
       "      <th>Drop_time_frame_3</th>\n",
       "      <th>Drop_time_frame_4</th>\n",
       "      <th>Drop_time_frame_5</th>\n",
       "      <th>Drop_time_frame_6</th>\n",
       "    </tr>\n",
       "  </thead>\n",
       "  <tbody>\n",
       "    <tr>\n",
       "      <th>258927</th>\n",
       "      <td>1</td>\n",
       "      <td>0</td>\n",
       "      <td>2</td>\n",
       "      <td>-74.012894</td>\n",
       "      <td>40.702141</td>\n",
       "      <td>-73.974403</td>\n",
       "      <td>40.756489</td>\n",
       "      <td>1</td>\n",
       "      <td>0</td>\n",
       "      <td>4277.827800</td>\n",
       "      <td>...</td>\n",
       "      <td>1</td>\n",
       "      <td>0</td>\n",
       "      <td>0</td>\n",
       "      <td>0</td>\n",
       "      <td>0</td>\n",
       "      <td>0</td>\n",
       "      <td>1</td>\n",
       "      <td>0</td>\n",
       "      <td>0</td>\n",
       "      <td>0</td>\n",
       "    </tr>\n",
       "    <tr>\n",
       "      <th>119654</th>\n",
       "      <td>0</td>\n",
       "      <td>1</td>\n",
       "      <td>1</td>\n",
       "      <td>-73.963783</td>\n",
       "      <td>40.761295</td>\n",
       "      <td>-73.968376</td>\n",
       "      <td>40.755054</td>\n",
       "      <td>1</td>\n",
       "      <td>0</td>\n",
       "      <td>510.456554</td>\n",
       "      <td>...</td>\n",
       "      <td>0</td>\n",
       "      <td>0</td>\n",
       "      <td>0</td>\n",
       "      <td>0</td>\n",
       "      <td>1</td>\n",
       "      <td>0</td>\n",
       "      <td>0</td>\n",
       "      <td>0</td>\n",
       "      <td>0</td>\n",
       "      <td>0</td>\n",
       "    </tr>\n",
       "    <tr>\n",
       "      <th>272899</th>\n",
       "      <td>1</td>\n",
       "      <td>0</td>\n",
       "      <td>1</td>\n",
       "      <td>-73.974953</td>\n",
       "      <td>40.761662</td>\n",
       "      <td>-73.980423</td>\n",
       "      <td>40.754261</td>\n",
       "      <td>1</td>\n",
       "      <td>0</td>\n",
       "      <td>607.967738</td>\n",
       "      <td>...</td>\n",
       "      <td>1</td>\n",
       "      <td>0</td>\n",
       "      <td>0</td>\n",
       "      <td>0</td>\n",
       "      <td>0</td>\n",
       "      <td>0</td>\n",
       "      <td>1</td>\n",
       "      <td>0</td>\n",
       "      <td>0</td>\n",
       "      <td>0</td>\n",
       "    </tr>\n",
       "    <tr>\n",
       "      <th>112447</th>\n",
       "      <td>0</td>\n",
       "      <td>1</td>\n",
       "      <td>1</td>\n",
       "      <td>-73.980064</td>\n",
       "      <td>40.738586</td>\n",
       "      <td>-73.976585</td>\n",
       "      <td>40.719097</td>\n",
       "      <td>1</td>\n",
       "      <td>0</td>\n",
       "      <td>386.672070</td>\n",
       "      <td>...</td>\n",
       "      <td>0</td>\n",
       "      <td>1</td>\n",
       "      <td>0</td>\n",
       "      <td>0</td>\n",
       "      <td>0</td>\n",
       "      <td>0</td>\n",
       "      <td>0</td>\n",
       "      <td>1</td>\n",
       "      <td>0</td>\n",
       "      <td>0</td>\n",
       "    </tr>\n",
       "    <tr>\n",
       "      <th>529225</th>\n",
       "      <td>1</td>\n",
       "      <td>0</td>\n",
       "      <td>1</td>\n",
       "      <td>-73.954498</td>\n",
       "      <td>40.781132</td>\n",
       "      <td>-73.977425</td>\n",
       "      <td>40.787308</td>\n",
       "      <td>1</td>\n",
       "      <td>0</td>\n",
       "      <td>2548.015566</td>\n",
       "      <td>...</td>\n",
       "      <td>0</td>\n",
       "      <td>1</td>\n",
       "      <td>0</td>\n",
       "      <td>0</td>\n",
       "      <td>0</td>\n",
       "      <td>0</td>\n",
       "      <td>0</td>\n",
       "      <td>1</td>\n",
       "      <td>0</td>\n",
       "      <td>0</td>\n",
       "    </tr>\n",
       "    <tr>\n",
       "      <th>...</th>\n",
       "      <td>...</td>\n",
       "      <td>...</td>\n",
       "      <td>...</td>\n",
       "      <td>...</td>\n",
       "      <td>...</td>\n",
       "      <td>...</td>\n",
       "      <td>...</td>\n",
       "      <td>...</td>\n",
       "      <td>...</td>\n",
       "      <td>...</td>\n",
       "      <td>...</td>\n",
       "      <td>...</td>\n",
       "      <td>...</td>\n",
       "      <td>...</td>\n",
       "      <td>...</td>\n",
       "      <td>...</td>\n",
       "      <td>...</td>\n",
       "      <td>...</td>\n",
       "      <td>...</td>\n",
       "      <td>...</td>\n",
       "      <td>...</td>\n",
       "    </tr>\n",
       "    <tr>\n",
       "      <th>605057</th>\n",
       "      <td>1</td>\n",
       "      <td>0</td>\n",
       "      <td>2</td>\n",
       "      <td>-73.981880</td>\n",
       "      <td>40.771309</td>\n",
       "      <td>-73.982712</td>\n",
       "      <td>40.762482</td>\n",
       "      <td>1</td>\n",
       "      <td>0</td>\n",
       "      <td>92.432020</td>\n",
       "      <td>...</td>\n",
       "      <td>0</td>\n",
       "      <td>0</td>\n",
       "      <td>0</td>\n",
       "      <td>0</td>\n",
       "      <td>0</td>\n",
       "      <td>1</td>\n",
       "      <td>0</td>\n",
       "      <td>0</td>\n",
       "      <td>0</td>\n",
       "      <td>0</td>\n",
       "    </tr>\n",
       "    <tr>\n",
       "      <th>152636</th>\n",
       "      <td>1</td>\n",
       "      <td>0</td>\n",
       "      <td>1</td>\n",
       "      <td>-74.009125</td>\n",
       "      <td>40.724602</td>\n",
       "      <td>-73.981407</td>\n",
       "      <td>40.768036</td>\n",
       "      <td>1</td>\n",
       "      <td>0</td>\n",
       "      <td>3080.548669</td>\n",
       "      <td>...</td>\n",
       "      <td>0</td>\n",
       "      <td>0</td>\n",
       "      <td>0</td>\n",
       "      <td>0</td>\n",
       "      <td>0</td>\n",
       "      <td>1</td>\n",
       "      <td>0</td>\n",
       "      <td>0</td>\n",
       "      <td>0</td>\n",
       "      <td>0</td>\n",
       "    </tr>\n",
       "    <tr>\n",
       "      <th>681277</th>\n",
       "      <td>0</td>\n",
       "      <td>1</td>\n",
       "      <td>1</td>\n",
       "      <td>-73.993843</td>\n",
       "      <td>40.741749</td>\n",
       "      <td>-73.977226</td>\n",
       "      <td>40.760284</td>\n",
       "      <td>1</td>\n",
       "      <td>0</td>\n",
       "      <td>1846.795294</td>\n",
       "      <td>...</td>\n",
       "      <td>0</td>\n",
       "      <td>0</td>\n",
       "      <td>0</td>\n",
       "      <td>0</td>\n",
       "      <td>0</td>\n",
       "      <td>1</td>\n",
       "      <td>0</td>\n",
       "      <td>0</td>\n",
       "      <td>0</td>\n",
       "      <td>0</td>\n",
       "    </tr>\n",
       "    <tr>\n",
       "      <th>241433</th>\n",
       "      <td>1</td>\n",
       "      <td>0</td>\n",
       "      <td>1</td>\n",
       "      <td>-74.004738</td>\n",
       "      <td>40.748531</td>\n",
       "      <td>-73.995071</td>\n",
       "      <td>40.733887</td>\n",
       "      <td>1</td>\n",
       "      <td>0</td>\n",
       "      <td>1074.333120</td>\n",
       "      <td>...</td>\n",
       "      <td>0</td>\n",
       "      <td>1</td>\n",
       "      <td>0</td>\n",
       "      <td>0</td>\n",
       "      <td>0</td>\n",
       "      <td>0</td>\n",
       "      <td>0</td>\n",
       "      <td>1</td>\n",
       "      <td>0</td>\n",
       "      <td>0</td>\n",
       "    </tr>\n",
       "    <tr>\n",
       "      <th>480371</th>\n",
       "      <td>1</td>\n",
       "      <td>0</td>\n",
       "      <td>1</td>\n",
       "      <td>-74.001190</td>\n",
       "      <td>40.751839</td>\n",
       "      <td>-73.999222</td>\n",
       "      <td>40.760731</td>\n",
       "      <td>1</td>\n",
       "      <td>0</td>\n",
       "      <td>218.773788</td>\n",
       "      <td>...</td>\n",
       "      <td>0</td>\n",
       "      <td>1</td>\n",
       "      <td>0</td>\n",
       "      <td>0</td>\n",
       "      <td>0</td>\n",
       "      <td>0</td>\n",
       "      <td>0</td>\n",
       "      <td>1</td>\n",
       "      <td>0</td>\n",
       "      <td>0</td>\n",
       "    </tr>\n",
       "  </tbody>\n",
       "</table>\n",
       "<p>583456 rows × 39 columns</p>\n",
       "</div>"
      ],
      "text/plain": [
       "        vendor_id_1  vendor_id_2  passenger_count  pickup_longitude  \\\n",
       "258927            1            0                2        -74.012894   \n",
       "119654            0            1                1        -73.963783   \n",
       "272899            1            0                1        -73.974953   \n",
       "112447            0            1                1        -73.980064   \n",
       "529225            1            0                1        -73.954498   \n",
       "...             ...          ...              ...               ...   \n",
       "605057            1            0                2        -73.981880   \n",
       "152636            1            0                1        -74.009125   \n",
       "681277            0            1                1        -73.993843   \n",
       "241433            1            0                1        -74.004738   \n",
       "480371            1            0                1        -74.001190   \n",
       "\n",
       "        pickup_latitude  dropoff_longitude  dropoff_latitude  \\\n",
       "258927        40.702141         -73.974403         40.756489   \n",
       "119654        40.761295         -73.968376         40.755054   \n",
       "272899        40.761662         -73.980423         40.754261   \n",
       "112447        40.738586         -73.976585         40.719097   \n",
       "529225        40.781132         -73.977425         40.787308   \n",
       "...                 ...                ...               ...   \n",
       "605057        40.771309         -73.982712         40.762482   \n",
       "152636        40.724602         -73.981407         40.768036   \n",
       "681277        40.741749         -73.977226         40.760284   \n",
       "241433        40.748531         -73.995071         40.733887   \n",
       "480371        40.751839         -73.999222         40.760731   \n",
       "\n",
       "        store_and_fwd_flag_1  store_and_fwd_flag_2     distance  ...  \\\n",
       "258927                     1                     0  4277.827800  ...   \n",
       "119654                     1                     0   510.456554  ...   \n",
       "272899                     1                     0   607.967738  ...   \n",
       "112447                     1                     0   386.672070  ...   \n",
       "529225                     1                     0  2548.015566  ...   \n",
       "...                      ...                   ...          ...  ...   \n",
       "605057                     1                     0    92.432020  ...   \n",
       "152636                     1                     0  3080.548669  ...   \n",
       "681277                     1                     0  1846.795294  ...   \n",
       "241433                     1                     0  1074.333120  ...   \n",
       "480371                     1                     0   218.773788  ...   \n",
       "\n",
       "        Pick_time_frame_3  Pick_time_frame_4  Pick_time_frame_5  \\\n",
       "258927                  1                  0                  0   \n",
       "119654                  0                  0                  0   \n",
       "272899                  1                  0                  0   \n",
       "112447                  0                  1                  0   \n",
       "529225                  0                  1                  0   \n",
       "...                   ...                ...                ...   \n",
       "605057                  0                  0                  0   \n",
       "152636                  0                  0                  0   \n",
       "681277                  0                  0                  0   \n",
       "241433                  0                  1                  0   \n",
       "480371                  0                  1                  0   \n",
       "\n",
       "        Pick_time_frame_6  Drop_time_frame_1  Drop_time_frame_2  \\\n",
       "258927                  0                  0                  0   \n",
       "119654                  0                  1                  0   \n",
       "272899                  0                  0                  0   \n",
       "112447                  0                  0                  0   \n",
       "529225                  0                  0                  0   \n",
       "...                   ...                ...                ...   \n",
       "605057                  0                  0                  1   \n",
       "152636                  0                  0                  1   \n",
       "681277                  0                  0                  1   \n",
       "241433                  0                  0                  0   \n",
       "480371                  0                  0                  0   \n",
       "\n",
       "        Drop_time_frame_3  Drop_time_frame_4  Drop_time_frame_5  \\\n",
       "258927                  1                  0                  0   \n",
       "119654                  0                  0                  0   \n",
       "272899                  1                  0                  0   \n",
       "112447                  0                  1                  0   \n",
       "529225                  0                  1                  0   \n",
       "...                   ...                ...                ...   \n",
       "605057                  0                  0                  0   \n",
       "152636                  0                  0                  0   \n",
       "681277                  0                  0                  0   \n",
       "241433                  0                  1                  0   \n",
       "480371                  0                  1                  0   \n",
       "\n",
       "        Drop_time_frame_6  \n",
       "258927                  0  \n",
       "119654                  0  \n",
       "272899                  0  \n",
       "112447                  0  \n",
       "529225                  0  \n",
       "...                   ...  \n",
       "605057                  0  \n",
       "152636                  0  \n",
       "681277                  0  \n",
       "241433                  0  \n",
       "480371                  0  \n",
       "\n",
       "[583456 rows x 39 columns]"
      ]
     },
     "execution_count": 13,
     "metadata": {},
     "output_type": "execute_result"
    }
   ],
   "source": [
    "X_train"
   ]
  },
  {
   "cell_type": "code",
   "execution_count": 14,
   "metadata": {},
   "outputs": [],
   "source": [
    "scaler=MinMaxScaler()\n",
    "scaler.fit(X_train)\n",
    "X_train=pd.DataFrame(scaler.transform(X_train),columns=X_train.columns)\n",
    "\n",
    "X_test=pd.DataFrame(scaler.transform(X_test),columns=X_test.columns)"
   ]
  },
  {
   "cell_type": "code",
   "execution_count": 15,
   "metadata": {},
   "outputs": [
    {
     "data": {
      "text/html": [
       "<div>\n",
       "<style scoped>\n",
       "    .dataframe tbody tr th:only-of-type {\n",
       "        vertical-align: middle;\n",
       "    }\n",
       "\n",
       "    .dataframe tbody tr th {\n",
       "        vertical-align: top;\n",
       "    }\n",
       "\n",
       "    .dataframe thead th {\n",
       "        text-align: right;\n",
       "    }\n",
       "</style>\n",
       "<table border=\"1\" class=\"dataframe\">\n",
       "  <thead>\n",
       "    <tr style=\"text-align: right;\">\n",
       "      <th></th>\n",
       "      <th>vendor_id_1</th>\n",
       "      <th>vendor_id_2</th>\n",
       "      <th>passenger_count</th>\n",
       "      <th>pickup_longitude</th>\n",
       "      <th>pickup_latitude</th>\n",
       "      <th>dropoff_longitude</th>\n",
       "      <th>dropoff_latitude</th>\n",
       "      <th>store_and_fwd_flag_1</th>\n",
       "      <th>store_and_fwd_flag_2</th>\n",
       "      <th>distance</th>\n",
       "      <th>...</th>\n",
       "      <th>Pick_time_frame_3</th>\n",
       "      <th>Pick_time_frame_4</th>\n",
       "      <th>Pick_time_frame_5</th>\n",
       "      <th>Pick_time_frame_6</th>\n",
       "      <th>Drop_time_frame_1</th>\n",
       "      <th>Drop_time_frame_2</th>\n",
       "      <th>Drop_time_frame_3</th>\n",
       "      <th>Drop_time_frame_4</th>\n",
       "      <th>Drop_time_frame_5</th>\n",
       "      <th>Drop_time_frame_6</th>\n",
       "    </tr>\n",
       "  </thead>\n",
       "  <tbody>\n",
       "    <tr>\n",
       "      <th>0</th>\n",
       "      <td>1.0</td>\n",
       "      <td>0.0</td>\n",
       "      <td>0.222222</td>\n",
       "      <td>0.855173</td>\n",
       "      <td>0.348882</td>\n",
       "      <td>0.855860</td>\n",
       "      <td>0.730446</td>\n",
       "      <td>1.0</td>\n",
       "      <td>0.0</td>\n",
       "      <td>0.006472</td>\n",
       "      <td>...</td>\n",
       "      <td>1.0</td>\n",
       "      <td>0.0</td>\n",
       "      <td>0.0</td>\n",
       "      <td>0.0</td>\n",
       "      <td>0.0</td>\n",
       "      <td>0.0</td>\n",
       "      <td>1.0</td>\n",
       "      <td>0.0</td>\n",
       "      <td>0.0</td>\n",
       "      <td>0.0</td>\n",
       "    </tr>\n",
       "    <tr>\n",
       "      <th>1</th>\n",
       "      <td>0.0</td>\n",
       "      <td>1.0</td>\n",
       "      <td>0.111111</td>\n",
       "      <td>0.856050</td>\n",
       "      <td>0.352328</td>\n",
       "      <td>0.855968</td>\n",
       "      <td>0.730323</td>\n",
       "      <td>1.0</td>\n",
       "      <td>0.0</td>\n",
       "      <td>0.000772</td>\n",
       "      <td>...</td>\n",
       "      <td>0.0</td>\n",
       "      <td>0.0</td>\n",
       "      <td>0.0</td>\n",
       "      <td>0.0</td>\n",
       "      <td>1.0</td>\n",
       "      <td>0.0</td>\n",
       "      <td>0.0</td>\n",
       "      <td>0.0</td>\n",
       "      <td>0.0</td>\n",
       "      <td>0.0</td>\n",
       "    </tr>\n",
       "    <tr>\n",
       "      <th>2</th>\n",
       "      <td>1.0</td>\n",
       "      <td>0.0</td>\n",
       "      <td>0.111111</td>\n",
       "      <td>0.855850</td>\n",
       "      <td>0.352349</td>\n",
       "      <td>0.855753</td>\n",
       "      <td>0.730256</td>\n",
       "      <td>1.0</td>\n",
       "      <td>0.0</td>\n",
       "      <td>0.000920</td>\n",
       "      <td>...</td>\n",
       "      <td>1.0</td>\n",
       "      <td>0.0</td>\n",
       "      <td>0.0</td>\n",
       "      <td>0.0</td>\n",
       "      <td>0.0</td>\n",
       "      <td>0.0</td>\n",
       "      <td>1.0</td>\n",
       "      <td>0.0</td>\n",
       "      <td>0.0</td>\n",
       "      <td>0.0</td>\n",
       "    </tr>\n",
       "    <tr>\n",
       "      <th>3</th>\n",
       "      <td>0.0</td>\n",
       "      <td>1.0</td>\n",
       "      <td>0.111111</td>\n",
       "      <td>0.855759</td>\n",
       "      <td>0.351005</td>\n",
       "      <td>0.855821</td>\n",
       "      <td>0.727260</td>\n",
       "      <td>1.0</td>\n",
       "      <td>0.0</td>\n",
       "      <td>0.000585</td>\n",
       "      <td>...</td>\n",
       "      <td>0.0</td>\n",
       "      <td>1.0</td>\n",
       "      <td>0.0</td>\n",
       "      <td>0.0</td>\n",
       "      <td>0.0</td>\n",
       "      <td>0.0</td>\n",
       "      <td>0.0</td>\n",
       "      <td>1.0</td>\n",
       "      <td>0.0</td>\n",
       "      <td>0.0</td>\n",
       "    </tr>\n",
       "    <tr>\n",
       "      <th>4</th>\n",
       "      <td>1.0</td>\n",
       "      <td>0.0</td>\n",
       "      <td>0.111111</td>\n",
       "      <td>0.856215</td>\n",
       "      <td>0.353483</td>\n",
       "      <td>0.855806</td>\n",
       "      <td>0.733071</td>\n",
       "      <td>1.0</td>\n",
       "      <td>0.0</td>\n",
       "      <td>0.003855</td>\n",
       "      <td>...</td>\n",
       "      <td>0.0</td>\n",
       "      <td>1.0</td>\n",
       "      <td>0.0</td>\n",
       "      <td>0.0</td>\n",
       "      <td>0.0</td>\n",
       "      <td>0.0</td>\n",
       "      <td>0.0</td>\n",
       "      <td>1.0</td>\n",
       "      <td>0.0</td>\n",
       "      <td>0.0</td>\n",
       "    </tr>\n",
       "    <tr>\n",
       "      <th>...</th>\n",
       "      <td>...</td>\n",
       "      <td>...</td>\n",
       "      <td>...</td>\n",
       "      <td>...</td>\n",
       "      <td>...</td>\n",
       "      <td>...</td>\n",
       "      <td>...</td>\n",
       "      <td>...</td>\n",
       "      <td>...</td>\n",
       "      <td>...</td>\n",
       "      <td>...</td>\n",
       "      <td>...</td>\n",
       "      <td>...</td>\n",
       "      <td>...</td>\n",
       "      <td>...</td>\n",
       "      <td>...</td>\n",
       "      <td>...</td>\n",
       "      <td>...</td>\n",
       "      <td>...</td>\n",
       "      <td>...</td>\n",
       "      <td>...</td>\n",
       "    </tr>\n",
       "    <tr>\n",
       "      <th>583451</th>\n",
       "      <td>1.0</td>\n",
       "      <td>0.0</td>\n",
       "      <td>0.222222</td>\n",
       "      <td>0.855727</td>\n",
       "      <td>0.352911</td>\n",
       "      <td>0.855712</td>\n",
       "      <td>0.730956</td>\n",
       "      <td>1.0</td>\n",
       "      <td>0.0</td>\n",
       "      <td>0.000140</td>\n",
       "      <td>...</td>\n",
       "      <td>0.0</td>\n",
       "      <td>0.0</td>\n",
       "      <td>0.0</td>\n",
       "      <td>0.0</td>\n",
       "      <td>0.0</td>\n",
       "      <td>1.0</td>\n",
       "      <td>0.0</td>\n",
       "      <td>0.0</td>\n",
       "      <td>0.0</td>\n",
       "      <td>0.0</td>\n",
       "    </tr>\n",
       "    <tr>\n",
       "      <th>583452</th>\n",
       "      <td>1.0</td>\n",
       "      <td>0.0</td>\n",
       "      <td>0.111111</td>\n",
       "      <td>0.855240</td>\n",
       "      <td>0.350190</td>\n",
       "      <td>0.855735</td>\n",
       "      <td>0.731429</td>\n",
       "      <td>1.0</td>\n",
       "      <td>0.0</td>\n",
       "      <td>0.004661</td>\n",
       "      <td>...</td>\n",
       "      <td>0.0</td>\n",
       "      <td>0.0</td>\n",
       "      <td>0.0</td>\n",
       "      <td>0.0</td>\n",
       "      <td>0.0</td>\n",
       "      <td>1.0</td>\n",
       "      <td>0.0</td>\n",
       "      <td>0.0</td>\n",
       "      <td>0.0</td>\n",
       "      <td>0.0</td>\n",
       "    </tr>\n",
       "    <tr>\n",
       "      <th>583453</th>\n",
       "      <td>0.0</td>\n",
       "      <td>1.0</td>\n",
       "      <td>0.111111</td>\n",
       "      <td>0.855513</td>\n",
       "      <td>0.351189</td>\n",
       "      <td>0.855810</td>\n",
       "      <td>0.730769</td>\n",
       "      <td>1.0</td>\n",
       "      <td>0.0</td>\n",
       "      <td>0.002794</td>\n",
       "      <td>...</td>\n",
       "      <td>0.0</td>\n",
       "      <td>0.0</td>\n",
       "      <td>0.0</td>\n",
       "      <td>0.0</td>\n",
       "      <td>0.0</td>\n",
       "      <td>1.0</td>\n",
       "      <td>0.0</td>\n",
       "      <td>0.0</td>\n",
       "      <td>0.0</td>\n",
       "      <td>0.0</td>\n",
       "    </tr>\n",
       "    <tr>\n",
       "      <th>583454</th>\n",
       "      <td>1.0</td>\n",
       "      <td>0.0</td>\n",
       "      <td>0.111111</td>\n",
       "      <td>0.855319</td>\n",
       "      <td>0.351584</td>\n",
       "      <td>0.855491</td>\n",
       "      <td>0.728520</td>\n",
       "      <td>1.0</td>\n",
       "      <td>0.0</td>\n",
       "      <td>0.001625</td>\n",
       "      <td>...</td>\n",
       "      <td>0.0</td>\n",
       "      <td>1.0</td>\n",
       "      <td>0.0</td>\n",
       "      <td>0.0</td>\n",
       "      <td>0.0</td>\n",
       "      <td>0.0</td>\n",
       "      <td>0.0</td>\n",
       "      <td>1.0</td>\n",
       "      <td>0.0</td>\n",
       "      <td>0.0</td>\n",
       "    </tr>\n",
       "    <tr>\n",
       "      <th>583455</th>\n",
       "      <td>1.0</td>\n",
       "      <td>0.0</td>\n",
       "      <td>0.111111</td>\n",
       "      <td>0.855382</td>\n",
       "      <td>0.351777</td>\n",
       "      <td>0.855417</td>\n",
       "      <td>0.730807</td>\n",
       "      <td>1.0</td>\n",
       "      <td>0.0</td>\n",
       "      <td>0.000331</td>\n",
       "      <td>...</td>\n",
       "      <td>0.0</td>\n",
       "      <td>1.0</td>\n",
       "      <td>0.0</td>\n",
       "      <td>0.0</td>\n",
       "      <td>0.0</td>\n",
       "      <td>0.0</td>\n",
       "      <td>0.0</td>\n",
       "      <td>1.0</td>\n",
       "      <td>0.0</td>\n",
       "      <td>0.0</td>\n",
       "    </tr>\n",
       "  </tbody>\n",
       "</table>\n",
       "<p>583456 rows × 39 columns</p>\n",
       "</div>"
      ],
      "text/plain": [
       "        vendor_id_1  vendor_id_2  passenger_count  pickup_longitude  \\\n",
       "0               1.0          0.0         0.222222          0.855173   \n",
       "1               0.0          1.0         0.111111          0.856050   \n",
       "2               1.0          0.0         0.111111          0.855850   \n",
       "3               0.0          1.0         0.111111          0.855759   \n",
       "4               1.0          0.0         0.111111          0.856215   \n",
       "...             ...          ...              ...               ...   \n",
       "583451          1.0          0.0         0.222222          0.855727   \n",
       "583452          1.0          0.0         0.111111          0.855240   \n",
       "583453          0.0          1.0         0.111111          0.855513   \n",
       "583454          1.0          0.0         0.111111          0.855319   \n",
       "583455          1.0          0.0         0.111111          0.855382   \n",
       "\n",
       "        pickup_latitude  dropoff_longitude  dropoff_latitude  \\\n",
       "0              0.348882           0.855860          0.730446   \n",
       "1              0.352328           0.855968          0.730323   \n",
       "2              0.352349           0.855753          0.730256   \n",
       "3              0.351005           0.855821          0.727260   \n",
       "4              0.353483           0.855806          0.733071   \n",
       "...                 ...                ...               ...   \n",
       "583451         0.352911           0.855712          0.730956   \n",
       "583452         0.350190           0.855735          0.731429   \n",
       "583453         0.351189           0.855810          0.730769   \n",
       "583454         0.351584           0.855491          0.728520   \n",
       "583455         0.351777           0.855417          0.730807   \n",
       "\n",
       "        store_and_fwd_flag_1  store_and_fwd_flag_2  distance  ...  \\\n",
       "0                        1.0                   0.0  0.006472  ...   \n",
       "1                        1.0                   0.0  0.000772  ...   \n",
       "2                        1.0                   0.0  0.000920  ...   \n",
       "3                        1.0                   0.0  0.000585  ...   \n",
       "4                        1.0                   0.0  0.003855  ...   \n",
       "...                      ...                   ...       ...  ...   \n",
       "583451                   1.0                   0.0  0.000140  ...   \n",
       "583452                   1.0                   0.0  0.004661  ...   \n",
       "583453                   1.0                   0.0  0.002794  ...   \n",
       "583454                   1.0                   0.0  0.001625  ...   \n",
       "583455                   1.0                   0.0  0.000331  ...   \n",
       "\n",
       "        Pick_time_frame_3  Pick_time_frame_4  Pick_time_frame_5  \\\n",
       "0                     1.0                0.0                0.0   \n",
       "1                     0.0                0.0                0.0   \n",
       "2                     1.0                0.0                0.0   \n",
       "3                     0.0                1.0                0.0   \n",
       "4                     0.0                1.0                0.0   \n",
       "...                   ...                ...                ...   \n",
       "583451                0.0                0.0                0.0   \n",
       "583452                0.0                0.0                0.0   \n",
       "583453                0.0                0.0                0.0   \n",
       "583454                0.0                1.0                0.0   \n",
       "583455                0.0                1.0                0.0   \n",
       "\n",
       "        Pick_time_frame_6  Drop_time_frame_1  Drop_time_frame_2  \\\n",
       "0                     0.0                0.0                0.0   \n",
       "1                     0.0                1.0                0.0   \n",
       "2                     0.0                0.0                0.0   \n",
       "3                     0.0                0.0                0.0   \n",
       "4                     0.0                0.0                0.0   \n",
       "...                   ...                ...                ...   \n",
       "583451                0.0                0.0                1.0   \n",
       "583452                0.0                0.0                1.0   \n",
       "583453                0.0                0.0                1.0   \n",
       "583454                0.0                0.0                0.0   \n",
       "583455                0.0                0.0                0.0   \n",
       "\n",
       "        Drop_time_frame_3  Drop_time_frame_4  Drop_time_frame_5  \\\n",
       "0                     1.0                0.0                0.0   \n",
       "1                     0.0                0.0                0.0   \n",
       "2                     1.0                0.0                0.0   \n",
       "3                     0.0                1.0                0.0   \n",
       "4                     0.0                1.0                0.0   \n",
       "...                   ...                ...                ...   \n",
       "583451                0.0                0.0                0.0   \n",
       "583452                0.0                0.0                0.0   \n",
       "583453                0.0                0.0                0.0   \n",
       "583454                0.0                1.0                0.0   \n",
       "583455                0.0                1.0                0.0   \n",
       "\n",
       "        Drop_time_frame_6  \n",
       "0                     0.0  \n",
       "1                     0.0  \n",
       "2                     0.0  \n",
       "3                     0.0  \n",
       "4                     0.0  \n",
       "...                   ...  \n",
       "583451                0.0  \n",
       "583452                0.0  \n",
       "583453                0.0  \n",
       "583454                0.0  \n",
       "583455                0.0  \n",
       "\n",
       "[583456 rows x 39 columns]"
      ]
     },
     "execution_count": 15,
     "metadata": {},
     "output_type": "execute_result"
    }
   ],
   "source": [
    "X_train"
   ]
  },
  {
   "cell_type": "code",
   "execution_count": 16,
   "metadata": {},
   "outputs": [],
   "source": [
    "y_train_pred=np.full(len(y_train),y_train.mean())\n",
    "y_pred=np.full(len(y_test),y_test.mean())"
   ]
  },
  {
   "cell_type": "code",
   "execution_count": 17,
   "metadata": {},
   "outputs": [
    {
     "name": "stdout",
     "output_type": "stream",
     "text": [
      "RMSLE_Train 0.8853992298080303\n",
      "RMSE_Train 3130.467781803805\n",
      "MAE_Train 615.5778700415087\n",
      "RMSLE_Test 0.8844115993549237\n",
      "RMSE_Test 3115.699414743687\n",
      "MAE_Test 613.1690180284917\n"
     ]
    }
   ],
   "source": [
    "print(f\"RMSLE_Train {np.sqrt(msle(y_train,y_train_pred))}\")\n",
    "print(f\"RMSE_Train {np.sqrt(mse(y_train,y_train_pred))}\")\n",
    "print(f\"MAE_Train {mae(y_train,y_train_pred)}\")\n",
    "print(f\"RMSLE_Test {np.sqrt(msle(y_test,y_pred))}\")\n",
    "print(f\"RMSE_Test {np.sqrt(mse(y_test,y_pred))}\")\n",
    "print(f\"MAE_Test {mae(y_test,y_pred)}\")"
   ]
  },
  {
   "cell_type": "code",
   "execution_count": 31,
   "metadata": {},
   "outputs": [],
   "source": [
    "from sklearn import linear_model as lm"
   ]
  },
  {
   "cell_type": "code",
   "execution_count": 19,
   "metadata": {},
   "outputs": [],
   "source": [
    "regr = lm.LinearRegression()"
   ]
  },
  {
   "cell_type": "code",
   "execution_count": 20,
   "metadata": {},
   "outputs": [
    {
     "data": {
      "text/plain": [
       "LinearRegression(copy_X=True, fit_intercept=True, n_jobs=None, normalize=False)"
      ]
     },
     "execution_count": 20,
     "metadata": {},
     "output_type": "execute_result"
    }
   ],
   "source": [
    "regr.fit(X_train,y_train)"
   ]
  },
  {
   "cell_type": "code",
   "execution_count": 21,
   "metadata": {},
   "outputs": [],
   "source": [
    "y_pred=regr.predict(X_test)\n",
    "y_train_pred=regr.predict(X_train)\n",
    "\n",
    "y_pred=list(map(lambda x: x if x>0 else 0, y_pred))\n",
    "y_train_pred=list(map(lambda x: x if x>0 else 0, y_train_pred))"
   ]
  },
  {
   "cell_type": "code",
   "execution_count": 22,
   "metadata": {},
   "outputs": [
    {
     "name": "stdout",
     "output_type": "stream",
     "text": [
      "RMSLE_Train 0.8322100643666741\n",
      "RMSE_Train 3039.811662091452\n",
      "MAE_Train 410.263481736412\n",
      "RMSLE_Test 0.831508427332238\n",
      "RMSE_Test 3030.910286448704\n",
      "MAE_Test 408.96860795941456\n"
     ]
    }
   ],
   "source": [
    "print(f\"RMSLE_Train {np.sqrt(msle(y_train,y_train_pred))}\")\n",
    "print(f\"RMSE_Train {np.sqrt(mse(y_train,y_train_pred))}\")\n",
    "print(f\"MAE_Train {mae(y_train,y_train_pred)}\")\n",
    "print(f\"RMSLE_Test {np.sqrt(msle(y_test,y_pred))}\")\n",
    "print(f\"RMSE_Test {np.sqrt(mse(y_test,y_pred))}\")\n",
    "print(f\"MAE_Test {mae(y_test,y_pred)}\")"
   ]
  },
  {
   "cell_type": "markdown",
   "metadata": {},
   "source": [
    "## Log Transformed Target Variable"
   ]
  },
  {
   "cell_type": "code",
   "execution_count": 23,
   "metadata": {},
   "outputs": [
    {
     "data": {
      "text/plain": [
       "LinearRegression(copy_X=True, fit_intercept=True, n_jobs=None, normalize=True)"
      ]
     },
     "execution_count": 23,
     "metadata": {},
     "output_type": "execute_result"
    }
   ],
   "source": [
    "X_train,X_test,y_train,y_test= train_test_split(X,y,test_size=0.2,random_state=70)\n",
    "regr = lm.LinearRegression(normalize=True)\n",
    "regr.fit(X_train,np.log(y_train))"
   ]
  },
  {
   "cell_type": "code",
   "execution_count": 24,
   "metadata": {},
   "outputs": [
    {
     "data": {
      "text/plain": [
       "array([ 2.20607569e+09,  2.20607569e+09,  5.73984343e-03, -1.32578939e+00,\n",
       "        6.14528642e-01,  1.10203510e+00, -1.22905417e+00,  2.47260260e+11,\n",
       "        2.47260260e+11,  1.38628484e-04, -2.89947222e-02,  1.19828032e+12,\n",
       "        1.19828032e+12,  1.19828032e+12,  1.19828032e+12,  1.19828032e+12,\n",
       "        1.19828032e+12,  1.19828032e+12,  1.85478507e+11,  1.85478507e+11,\n",
       "        1.85478507e+11,  1.85478507e+11,  1.85478507e+11,  1.85478507e+11,\n",
       "        1.85478507e+11, -3.76699270e-02,  4.50247558e-02, -1.71896249e+11,\n",
       "       -1.71896249e+11, -1.71896249e+11, -1.71896249e+11, -1.71896249e+11,\n",
       "       -1.71896249e+11, -1.41281884e+11, -1.41281884e+11, -1.41281884e+11,\n",
       "       -1.41281884e+11, -1.41281884e+11, -1.41281884e+11])"
      ]
     },
     "execution_count": 24,
     "metadata": {},
     "output_type": "execute_result"
    }
   ],
   "source": [
    "regr.coef_"
   ]
  },
  {
   "cell_type": "code",
   "execution_count": 25,
   "metadata": {},
   "outputs": [
    {
     "data": {
      "text/plain": [
       "-1320047026397.4446"
      ]
     },
     "execution_count": 25,
     "metadata": {},
     "output_type": "execute_result"
    }
   ],
   "source": [
    "regr.intercept_"
   ]
  },
  {
   "cell_type": "code",
   "execution_count": 26,
   "metadata": {},
   "outputs": [
    {
     "name": "stdout",
     "output_type": "stream",
     "text": [
      "RMSLE_Train 0.6097126528008578\n",
      "RMSE_Train 8.454860970242966e+25\n",
      "MAE_Train 1.1211834737308846e+23\n",
      "RMSLE_Test 0.5970427950092199\n",
      "RMSE_Test 561117.1589629903\n",
      "MAE_Test 2018.610400535444\n"
     ]
    }
   ],
   "source": [
    "y_pred=regr.predict(X_test)\n",
    "y_pred=np.exp(np.array(y_pred))\n",
    "\n",
    "y_train_pred=regr.predict(X_train)\n",
    "y_train_pred=np.exp(np.array(y_train_pred))\n",
    "\n",
    "print(f\"RMSLE_Train {np.sqrt(msle(y_train,y_train_pred))}\")\n",
    "print(f\"RMSE_Train {np.sqrt(mse(y_train,y_train_pred))}\")\n",
    "print(f\"MAE_Train {mae(y_train,y_train_pred)}\")\n",
    "print(f\"RMSLE_Test {np.sqrt(msle(y_test,y_pred))}\")\n",
    "print(f\"RMSE_Test {np.sqrt(mse(y_test,y_pred))}\")\n",
    "print(f\"MAE_Test {mae(y_test,y_pred)}\")"
   ]
  },
  {
   "cell_type": "code",
   "execution_count": 27,
   "metadata": {},
   "outputs": [
    {
     "ename": "NameError",
     "evalue": "name 'sm' is not defined",
     "output_type": "error",
     "traceback": [
      "\u001b[1;31m---------------------------------------------------------------------------\u001b[0m",
      "\u001b[1;31mNameError\u001b[0m                                 Traceback (most recent call last)",
      "\u001b[1;32m<ipython-input-27-f26c3044572a>\u001b[0m in \u001b[0;36m<module>\u001b[1;34m\u001b[0m\n\u001b[1;32m----> 1\u001b[1;33m \u001b[0mX_train\u001b[0m\u001b[1;33m=\u001b[0m\u001b[0msm\u001b[0m\u001b[1;33m.\u001b[0m\u001b[0madd_constant\u001b[0m\u001b[1;33m(\u001b[0m\u001b[0mX_train\u001b[0m\u001b[1;33m)\u001b[0m\u001b[1;33m\u001b[0m\u001b[1;33m\u001b[0m\u001b[0m\n\u001b[0m\u001b[0;32m      2\u001b[0m \u001b[0mest\u001b[0m\u001b[1;33m=\u001b[0m\u001b[0msm\u001b[0m\u001b[1;33m.\u001b[0m\u001b[0mOLS\u001b[0m\u001b[1;33m(\u001b[0m\u001b[0mnp\u001b[0m\u001b[1;33m.\u001b[0m\u001b[0mlog\u001b[0m\u001b[1;33m(\u001b[0m\u001b[0my_train\u001b[0m\u001b[1;33m)\u001b[0m\u001b[1;33m,\u001b[0m\u001b[0mX_train\u001b[0m\u001b[1;33m)\u001b[0m\u001b[1;33m\u001b[0m\u001b[1;33m\u001b[0m\u001b[0m\n\u001b[0;32m      3\u001b[0m \u001b[1;33m\u001b[0m\u001b[0m\n\u001b[0;32m      4\u001b[0m \u001b[0mresult\u001b[0m\u001b[1;33m=\u001b[0m\u001b[0mest\u001b[0m\u001b[1;33m.\u001b[0m\u001b[0mfit\u001b[0m\u001b[1;33m(\u001b[0m\u001b[1;33m)\u001b[0m\u001b[1;33m\u001b[0m\u001b[1;33m\u001b[0m\u001b[0m\n\u001b[0;32m      5\u001b[0m \u001b[1;33m\u001b[0m\u001b[0m\n",
      "\u001b[1;31mNameError\u001b[0m: name 'sm' is not defined"
     ]
    }
   ],
   "source": [
    "X_train=sm.add_constant(X_train)\n",
    "est=sm.OLS(np.log(y_train),X_train)\n",
    "\n",
    "result=est.fit()\n",
    "\n",
    "print(result.summary())"
   ]
  },
  {
   "cell_type": "code",
   "execution_count": null,
   "metadata": {},
   "outputs": [],
   "source": []
  },
  {
   "cell_type": "code",
   "execution_count": null,
   "metadata": {},
   "outputs": [],
   "source": []
  },
  {
   "cell_type": "code",
   "execution_count": null,
   "metadata": {},
   "outputs": [],
   "source": []
  },
  {
   "cell_type": "code",
   "execution_count": null,
   "metadata": {},
   "outputs": [],
   "source": []
  },
  {
   "cell_type": "code",
   "execution_count": null,
   "metadata": {},
   "outputs": [],
   "source": []
  },
  {
   "cell_type": "code",
   "execution_count": null,
   "metadata": {},
   "outputs": [],
   "source": []
  },
  {
   "cell_type": "markdown",
   "metadata": {},
   "source": [
    "## Sequential Forward Selection Model"
   ]
  },
  {
   "cell_type": "code",
   "execution_count": 51,
   "metadata": {},
   "outputs": [],
   "source": [
    "# from mlxtend.feature_selection import SequentialFeatureSelector as sfs\n",
    "# from sklearn.linear_model import LinearRegression\n"
   ]
  },
  {
   "cell_type": "code",
   "execution_count": 52,
   "metadata": {},
   "outputs": [],
   "source": [
    "# model_LR = LinearRegression(normalize=True)\n",
    "# sfs1 = sfs(model_LR, k_features=(5,20), forward=True, verbose=2, scoring='neg_mean_squared_error')\n",
    "# # fit the model with  the training data\n",
    "# sfs1.fit(X_train, np.log(y_train))"
   ]
  },
  {
   "cell_type": "code",
   "execution_count": 53,
   "metadata": {},
   "outputs": [],
   "source": [
    "# feat_names = list(sfs1.k_feature_names_)\n",
    "# print(feat_names)"
   ]
  },
  {
   "cell_type": "code",
   "execution_count": 54,
   "metadata": {},
   "outputs": [],
   "source": [
    "# model_LR = LinearRegression(normalize=True)\n",
    "# sfs1 = sfs(model_LR, k_features=(5,20), forward=False, verbose=2, scoring='neg_mean_squared_error')\n",
    "# # fit the model with  the training data\n",
    "# sfs1.fit(X_train, np.log(y_train))"
   ]
  },
  {
   "cell_type": "code",
   "execution_count": 55,
   "metadata": {},
   "outputs": [],
   "source": [
    "# feat_names = list(sfs1.k_feature_names_)\n",
    "# print(feat_names)"
   ]
  },
  {
   "cell_type": "code",
   "execution_count": 56,
   "metadata": {},
   "outputs": [],
   "source": [
    "# from statsmodels.stats.outliers_influence import variance_inflation_factor\n",
    "\n",
    "# vif = pd.DataFrame()\n",
    "# vif[\"VIF Factor\"] = [variance_inflation_factor(X_train[feat_names].values, i) for i in range(X_train[feat_names].shape[1])]\n",
    " \n",
    "# vif[\"features\"] = X_train[feat_names].columns\n",
    " \n",
    "# print(vif)"
   ]
  },
  {
   "cell_type": "code",
   "execution_count": null,
   "metadata": {},
   "outputs": [],
   "source": []
  },
  {
   "cell_type": "code",
   "execution_count": null,
   "metadata": {},
   "outputs": [],
   "source": []
  },
  {
   "cell_type": "code",
   "execution_count": null,
   "metadata": {},
   "outputs": [],
   "source": []
  },
  {
   "cell_type": "code",
   "execution_count": null,
   "metadata": {},
   "outputs": [],
   "source": []
  },
  {
   "cell_type": "code",
   "execution_count": null,
   "metadata": {},
   "outputs": [],
   "source": []
  },
  {
   "cell_type": "markdown",
   "metadata": {},
   "source": [
    "# Linear Regression"
   ]
  },
  {
   "cell_type": "code",
   "execution_count": 28,
   "metadata": {},
   "outputs": [],
   "source": [
    "from sklearn.model_selection import train_test_split\n",
    "from sklearn.linear_model import LinearRegression, Lasso, Ridge\n",
    "from sklearn.metrics import mean_squared_error as mse"
   ]
  },
  {
   "cell_type": "code",
   "execution_count": 29,
   "metadata": {},
   "outputs": [
    {
     "name": "stdout",
     "output_type": "stream",
     "text": [
      "9454028.386178248\n",
      "9007967.041108545\n"
     ]
    }
   ],
   "source": [
    "X_train,X_test,y_train,y_test= train_test_split(X,y,test_size=0.2,random_state=69)\n",
    "lin_regr = LinearRegression(normalize=True)\n",
    "lin_regr.fit(X_train, y_train)\n",
    "\n",
    "y_train_pred= lin_regr.predict(X_train)\n",
    "y_pred= lin_regr.predict(X_test)\n",
    "\n",
    "mse_train= mse(y_train, y_train_pred)\n",
    "mse_test= mse(y_test, y_pred)\n",
    "\n",
    "print(mse_train)\n",
    "print(mse_test)"
   ]
  },
  {
   "cell_type": "code",
   "execution_count": 30,
   "metadata": {},
   "outputs": [],
   "source": [
    "# defining a function which will fit linear regression model, plot the results, and return the coefficients\n",
    "def linear_regression(train_x, train_y, test_x, test_y, features):\n",
    "        \n",
    "    #Fit the model\n",
    "    linreg = LinearRegression(normalize=True)\n",
    "    linreg.fit(train_x,train_y)\n",
    "    train_y_pred = linreg.predict(train_x)\n",
    "    test_y_pred = linreg.predict(test_x)\n",
    "    \n",
    "    #Return the result in pre-defined format\n",
    "    rss_train = sum((train_y_pred-train_y)**2)/train_x.shape[0]\n",
    "    ret = [rss_train]\n",
    "    \n",
    "    rss_test = sum((test_y_pred-test_y)**2)/test_x.shape[0]\n",
    "    ret.extend([rss_test])\n",
    "    \n",
    "    ret.extend([linreg.intercept_])\n",
    "    ret.extend(linreg.coef_)\n",
    "    \n",
    "    return ret"
   ]
  },
  {
   "cell_type": "markdown",
   "metadata": {},
   "source": [
    "# Ridge Regression"
   ]
  },
  {
   "cell_type": "code",
   "execution_count": 31,
   "metadata": {},
   "outputs": [
    {
     "name": "stdout",
     "output_type": "stream",
     "text": [
      "Errors are as follows-\n"
     ]
    },
    {
     "data": {
      "text/html": [
       "<div>\n",
       "<style scoped>\n",
       "    .dataframe tbody tr th:only-of-type {\n",
       "        vertical-align: middle;\n",
       "    }\n",
       "\n",
       "    .dataframe tbody tr th {\n",
       "        vertical-align: top;\n",
       "    }\n",
       "\n",
       "    .dataframe thead th {\n",
       "        text-align: right;\n",
       "    }\n",
       "</style>\n",
       "<table border=\"1\" class=\"dataframe\">\n",
       "  <thead>\n",
       "    <tr style=\"text-align: right;\">\n",
       "      <th></th>\n",
       "      <th>Alpha</th>\n",
       "      <th>Train</th>\n",
       "      <th>Test</th>\n",
       "    </tr>\n",
       "  </thead>\n",
       "  <tbody>\n",
       "    <tr>\n",
       "      <th>0</th>\n",
       "      <td>0</td>\n",
       "      <td>9454027</td>\n",
       "      <td>9007941</td>\n",
       "    </tr>\n",
       "    <tr>\n",
       "      <th>1</th>\n",
       "      <td>10^-8</td>\n",
       "      <td>9454026</td>\n",
       "      <td>9007906</td>\n",
       "    </tr>\n",
       "    <tr>\n",
       "      <th>2</th>\n",
       "      <td>10^-7</td>\n",
       "      <td>9454026</td>\n",
       "      <td>9007907</td>\n",
       "    </tr>\n",
       "    <tr>\n",
       "      <th>3</th>\n",
       "      <td>10^-6</td>\n",
       "      <td>9454026</td>\n",
       "      <td>9007912</td>\n",
       "    </tr>\n",
       "    <tr>\n",
       "      <th>4</th>\n",
       "      <td>10^-5</td>\n",
       "      <td>9454026</td>\n",
       "      <td>9007962</td>\n",
       "    </tr>\n",
       "    <tr>\n",
       "      <th>5</th>\n",
       "      <td>10^-4</td>\n",
       "      <td>9454037</td>\n",
       "      <td>9008465</td>\n",
       "    </tr>\n",
       "    <tr>\n",
       "      <th>6</th>\n",
       "      <td>0.001</td>\n",
       "      <td>9454796</td>\n",
       "      <td>9013060</td>\n",
       "    </tr>\n",
       "    <tr>\n",
       "      <th>7</th>\n",
       "      <td>0.01</td>\n",
       "      <td>9467209</td>\n",
       "      <td>9031077</td>\n",
       "    </tr>\n",
       "    <tr>\n",
       "      <th>8</th>\n",
       "      <td>1</td>\n",
       "      <td>9658220</td>\n",
       "      <td>9232489</td>\n",
       "    </tr>\n",
       "    <tr>\n",
       "      <th>9</th>\n",
       "      <td>5</td>\n",
       "      <td>9789041</td>\n",
       "      <td>9295759</td>\n",
       "    </tr>\n",
       "    <tr>\n",
       "      <th>10</th>\n",
       "      <td>10</td>\n",
       "      <td>9827820</td>\n",
       "      <td>9319143</td>\n",
       "    </tr>\n",
       "    <tr>\n",
       "      <th>11</th>\n",
       "      <td>20</td>\n",
       "      <td>9853270</td>\n",
       "      <td>9338417</td>\n",
       "    </tr>\n",
       "    <tr>\n",
       "      <th>12</th>\n",
       "      <td>25</td>\n",
       "      <td>9859039</td>\n",
       "      <td>9343233</td>\n",
       "    </tr>\n",
       "  </tbody>\n",
       "</table>\n",
       "</div>"
      ],
      "text/plain": [
       "    Alpha   Train    Test\n",
       "0       0 9454027 9007941\n",
       "1   10^-8 9454026 9007906\n",
       "2   10^-7 9454026 9007907\n",
       "3   10^-6 9454026 9007912\n",
       "4   10^-5 9454026 9007962\n",
       "5   10^-4 9454037 9008465\n",
       "6   0.001 9454796 9013060\n",
       "7    0.01 9467209 9031077\n",
       "8       1 9658220 9232489\n",
       "9       5 9789041 9295759\n",
       "10     10 9827820 9319143\n",
       "11     20 9853270 9338417\n",
       "12     25 9859039 9343233"
      ]
     },
     "execution_count": 31,
     "metadata": {},
     "output_type": "execute_result"
    }
   ],
   "source": [
    "#Set the different values of alpha to be tested\n",
    "alpha_ridge ={\"0\":0,\"10^-8\":1e-8,\"10^-7\":1e-7,\"10^-6\":1e-6,\"10^-5\":1e-5,\"10^-4\":1e-4,\"0.001\":1e-3,\"0.01\":1e-2, \"1\":1, \"5\":5, \"10\":10,\"20\":20,\"25\":25}\n",
    "\n",
    "# defining a function which will fit ridge regression model, plot the results, and return the coefficients\n",
    "def ridge_regression(train_x, train_y, test_x, test_y, alpha):\n",
    "    #Fit the model\n",
    "    ridgereg = Ridge(alpha=alpha,normalize=True)\n",
    "    ridgereg.fit(train_x,train_y)\n",
    "    train_y_pred = ridgereg.predict(train_x)\n",
    "    test_y_pred = ridgereg.predict(test_x)\n",
    "    \n",
    "    return([mse(train_y, train_y_pred), mse(test_y, test_y_pred)])\n",
    "\n",
    "\n",
    "df_ridge=pd.DataFrame(columns=[\"Alpha\",\"Train\",\"Test\"])\n",
    "print(\"Errors are as follows-\")\n",
    "for a,b in alpha_ridge.items():\n",
    "    rid=ridge_regression(X_train,y_train, X_test, y_test, b)\n",
    "    df_ridge=df_ridge.append({\"Alpha\":a,\"Train\":rid[0],\"Test\":rid[1]},ignore_index=True)\n",
    "    \n",
    "#Set the display format to be scientific for ease of analysis\n",
    "pd.options.display.float_format = '{:.7g}'.format\n",
    "df_ridge"
   ]
  },
  {
   "cell_type": "markdown",
   "metadata": {},
   "source": [
    "# Lasso Regression"
   ]
  },
  {
   "cell_type": "code",
   "execution_count": 32,
   "metadata": {},
   "outputs": [
    {
     "name": "stdout",
     "output_type": "stream",
     "text": [
      "Errors are as follows-\n"
     ]
    },
    {
     "data": {
      "text/html": [
       "<div>\n",
       "<style scoped>\n",
       "    .dataframe tbody tr th:only-of-type {\n",
       "        vertical-align: middle;\n",
       "    }\n",
       "\n",
       "    .dataframe tbody tr th {\n",
       "        vertical-align: top;\n",
       "    }\n",
       "\n",
       "    .dataframe thead th {\n",
       "        text-align: right;\n",
       "    }\n",
       "</style>\n",
       "<table border=\"1\" class=\"dataframe\">\n",
       "  <thead>\n",
       "    <tr style=\"text-align: right;\">\n",
       "      <th></th>\n",
       "      <th>Alpha</th>\n",
       "      <th>Train</th>\n",
       "      <th>Test</th>\n",
       "    </tr>\n",
       "  </thead>\n",
       "  <tbody>\n",
       "    <tr>\n",
       "      <th>0</th>\n",
       "      <td>0.001</td>\n",
       "      <td>9455968</td>\n",
       "      <td>9015292</td>\n",
       "    </tr>\n",
       "    <tr>\n",
       "      <th>1</th>\n",
       "      <td>0.01</td>\n",
       "      <td>9485768</td>\n",
       "      <td>9056547</td>\n",
       "    </tr>\n",
       "    <tr>\n",
       "      <th>2</th>\n",
       "      <td>1</td>\n",
       "      <td>9884998</td>\n",
       "      <td>9366925</td>\n",
       "    </tr>\n",
       "    <tr>\n",
       "      <th>3</th>\n",
       "      <td>5</td>\n",
       "      <td>9884998</td>\n",
       "      <td>9366925</td>\n",
       "    </tr>\n",
       "    <tr>\n",
       "      <th>4</th>\n",
       "      <td>10</td>\n",
       "      <td>9884998</td>\n",
       "      <td>9366925</td>\n",
       "    </tr>\n",
       "    <tr>\n",
       "      <th>5</th>\n",
       "      <td>20</td>\n",
       "      <td>9884998</td>\n",
       "      <td>9366925</td>\n",
       "    </tr>\n",
       "    <tr>\n",
       "      <th>6</th>\n",
       "      <td>25</td>\n",
       "      <td>9884998</td>\n",
       "      <td>9366925</td>\n",
       "    </tr>\n",
       "  </tbody>\n",
       "</table>\n",
       "</div>"
      ],
      "text/plain": [
       "   Alpha   Train    Test\n",
       "0  0.001 9455968 9015292\n",
       "1   0.01 9485768 9056547\n",
       "2      1 9884998 9366925\n",
       "3      5 9884998 9366925\n",
       "4     10 9884998 9366925\n",
       "5     20 9884998 9366925\n",
       "6     25 9884998 9366925"
      ]
     },
     "execution_count": 32,
     "metadata": {},
     "output_type": "execute_result"
    }
   ],
   "source": [
    "#Set the different values of alpha to be tested\n",
    "alpha_lasso = {\"0.001\":1e-3,\"0.01\":1e-2, \"1\":1, \"5\":5, \"10\":10,\"20\": 20,\"25\":25}\n",
    "\n",
    "# defining a function which will fit ridge regression model, plot the results, and return the coefficients\n",
    "def lasso_regression(train_x, train_y, test_x, test_y, alpha):\n",
    "    #Fit the model\n",
    "    lassoreg = Lasso(alpha=alpha,normalize=True)\n",
    "    lassoreg.fit(train_x,train_y)\n",
    "    train_y_pred = lassoreg.predict(train_x)\n",
    "    test_y_pred = lassoreg.predict(test_x)\n",
    "    \n",
    "    return([mse(train_y, train_y_pred), mse(test_y, test_y_pred)])\n",
    "\n",
    "\n",
    "df_lasso=pd.DataFrame(columns=[\"Alpha\",\"Train\",\"Test\"])\n",
    "print(\"Errors are as follows-\")\n",
    "for a,b in alpha_lasso.items():\n",
    "    las=lasso_regression(X_train,y_train, X_test, y_test, b)\n",
    "    df_lasso=df_lasso.append({\"Alpha\":a,\"Train\":las[0],\"Test\":las[1]},ignore_index=True)\n",
    "\n",
    "df_lasso"
   ]
  },
  {
   "cell_type": "code",
   "execution_count": 33,
   "metadata": {},
   "outputs": [],
   "source": [
    "sns.set(palette=\"Set2\")"
   ]
  },
  {
   "cell_type": "code",
   "execution_count": 34,
   "metadata": {},
   "outputs": [
    {
     "data": {
      "text/html": [
       "<div>\n",
       "<style scoped>\n",
       "    .dataframe tbody tr th:only-of-type {\n",
       "        vertical-align: middle;\n",
       "    }\n",
       "\n",
       "    .dataframe tbody tr th {\n",
       "        vertical-align: top;\n",
       "    }\n",
       "\n",
       "    .dataframe thead th {\n",
       "        text-align: right;\n",
       "    }\n",
       "</style>\n",
       "<table border=\"1\" class=\"dataframe\">\n",
       "  <thead>\n",
       "    <tr style=\"text-align: right;\">\n",
       "      <th></th>\n",
       "      <th>Alpha</th>\n",
       "      <th>Train</th>\n",
       "      <th>Test</th>\n",
       "    </tr>\n",
       "  </thead>\n",
       "  <tbody>\n",
       "    <tr>\n",
       "      <th>0</th>\n",
       "      <td>0</td>\n",
       "      <td>9454027</td>\n",
       "      <td>9007941</td>\n",
       "    </tr>\n",
       "    <tr>\n",
       "      <th>1</th>\n",
       "      <td>10^-8</td>\n",
       "      <td>9454026</td>\n",
       "      <td>9007906</td>\n",
       "    </tr>\n",
       "    <tr>\n",
       "      <th>2</th>\n",
       "      <td>10^-7</td>\n",
       "      <td>9454026</td>\n",
       "      <td>9007907</td>\n",
       "    </tr>\n",
       "    <tr>\n",
       "      <th>3</th>\n",
       "      <td>10^-6</td>\n",
       "      <td>9454026</td>\n",
       "      <td>9007912</td>\n",
       "    </tr>\n",
       "    <tr>\n",
       "      <th>4</th>\n",
       "      <td>10^-5</td>\n",
       "      <td>9454026</td>\n",
       "      <td>9007962</td>\n",
       "    </tr>\n",
       "    <tr>\n",
       "      <th>5</th>\n",
       "      <td>10^-4</td>\n",
       "      <td>9454037</td>\n",
       "      <td>9008465</td>\n",
       "    </tr>\n",
       "    <tr>\n",
       "      <th>6</th>\n",
       "      <td>0.001</td>\n",
       "      <td>9454796</td>\n",
       "      <td>9013060</td>\n",
       "    </tr>\n",
       "    <tr>\n",
       "      <th>7</th>\n",
       "      <td>0.01</td>\n",
       "      <td>9467209</td>\n",
       "      <td>9031077</td>\n",
       "    </tr>\n",
       "    <tr>\n",
       "      <th>8</th>\n",
       "      <td>1</td>\n",
       "      <td>9658220</td>\n",
       "      <td>9232489</td>\n",
       "    </tr>\n",
       "    <tr>\n",
       "      <th>9</th>\n",
       "      <td>5</td>\n",
       "      <td>9789041</td>\n",
       "      <td>9295759</td>\n",
       "    </tr>\n",
       "    <tr>\n",
       "      <th>10</th>\n",
       "      <td>10</td>\n",
       "      <td>9827820</td>\n",
       "      <td>9319143</td>\n",
       "    </tr>\n",
       "    <tr>\n",
       "      <th>11</th>\n",
       "      <td>20</td>\n",
       "      <td>9853270</td>\n",
       "      <td>9338417</td>\n",
       "    </tr>\n",
       "    <tr>\n",
       "      <th>12</th>\n",
       "      <td>25</td>\n",
       "      <td>9859039</td>\n",
       "      <td>9343233</td>\n",
       "    </tr>\n",
       "  </tbody>\n",
       "</table>\n",
       "</div>"
      ],
      "text/plain": [
       "    Alpha   Train    Test\n",
       "0       0 9454027 9007941\n",
       "1   10^-8 9454026 9007906\n",
       "2   10^-7 9454026 9007907\n",
       "3   10^-6 9454026 9007912\n",
       "4   10^-5 9454026 9007962\n",
       "5   10^-4 9454037 9008465\n",
       "6   0.001 9454796 9013060\n",
       "7    0.01 9467209 9031077\n",
       "8       1 9658220 9232489\n",
       "9       5 9789041 9295759\n",
       "10     10 9827820 9319143\n",
       "11     20 9853270 9338417\n",
       "12     25 9859039 9343233"
      ]
     },
     "execution_count": 34,
     "metadata": {},
     "output_type": "execute_result"
    }
   ],
   "source": [
    "df_ridge"
   ]
  },
  {
   "cell_type": "code",
   "execution_count": 35,
   "metadata": {},
   "outputs": [
    {
     "data": {
      "image/png": "[encoded data removed]",
      "text/plain": [
       "<Figure size 1008x504 with 2 Axes>"
      ]
     },
     "metadata": {},
     "output_type": "display_data"
    }
   ],
   "source": [
    "figure,axes= plt.subplots(nrows=1, ncols=2,figsize=(14,7))\n",
    "\n",
    "axes[0].set_title(\"Lasso Regression\")\n",
    "axes[1].set_title(\"Ridge Regression\")\n",
    "\n",
    "axes[0].plot(df_lasso[\"Alpha\"],df_lasso[\"Train\"],label=\"Train\")\n",
    "axes[0].plot(df_lasso[\"Alpha\"],df_lasso[\"Test\"],label=\"Test\")\n",
    "axes[0].legend()\n",
    "\n",
    "axes[1].plot(df_ridge[\"Alpha\"],df_ridge[\"Train\"],label=\"Train\")\n",
    "axes[1].plot(df_ridge[\"Alpha\"],df_ridge[\"Test\"],label=\"Test\")\n",
    "axes[1].legend()\n",
    "\n",
    "plt.tight_layout()"
   ]
  },
  {
   "cell_type": "markdown",
   "metadata": {},
   "source": [
    "## KNN Regression"
   ]
  },
  {
   "cell_type": "code",
   "execution_count": 36,
   "metadata": {},
   "outputs": [],
   "source": [
    "from sklearn.neighbors import KNeighborsRegressor as KNNR"
   ]
  },
  {
   "cell_type": "code",
   "execution_count": 37,
   "metadata": {},
   "outputs": [],
   "source": [
    "regressor=KNNR()\n",
    "\n",
    "regressor.fit(X_train,y_train)\n",
    "\n",
    "y_train_pred=regressor.predict(X_train)\n",
    "\n",
    "y_test_pred=regressor.predict(X_test)"
   ]
  },
  {
   "cell_type": "code",
   "execution_count": 38,
   "metadata": {},
   "outputs": [
    {
     "data": {
      "text/plain": [
       "(5643639.1761894645, 8544816.869943853)"
      ]
     },
     "execution_count": 38,
     "metadata": {},
     "output_type": "execute_result"
    }
   ],
   "source": [
    "mse(y_train,y_train_pred),mse(y_test,y_test_pred)"
   ]
  },
  {
   "cell_type": "code",
   "execution_count": 68,
   "metadata": {},
   "outputs": [],
   "source": [
    "from sklearn.model_selection import cross_val_score"
   ]
  },
  {
   "cell_type": "code",
   "execution_count": 75,
   "metadata": {},
   "outputs": [],
   "source": [
    "# C\n",
    "\n",
    "# for i in range(1,50):\n",
    "#     score=cross_val_score(KNNR(n_neighbors=i),scoring='neg_mean_squared_error',X=X_train, y=y_train, cv=10)\n",
    "    \n",
    "#     avg.append(score.mean())\n",
    "#     sd.append(score.std())\n",
    "    \n",
    "#     print(i,avg,sd)"
   ]
  },
  {
   "cell_type": "code",
   "execution_count": 76,
   "metadata": {},
   "outputs": [],
   "source": [
    "# dfff=pd.DataFrame({\"i\":range(1,35),\"avg\":avg,\"std\":sd},columns=[\"i\",\"avg\",\"std\"])"
   ]
  },
  {
   "cell_type": "code",
   "execution_count": 77,
   "metadata": {},
   "outputs": [],
   "source": [
    "# sns.set()\n",
    "\n",
    "# plt.figure(figsize=(14,7))\n",
    "\n",
    "# sns.lineplot(x=\"i\",y=\"avg\",data=dfff)\n",
    "\n",
    "# plt.xticks(range(1,35))\n",
    "\n",
    "# plt.tight_layout()"
   ]
  },
  {
   "cell_type": "code",
   "execution_count": 78,
   "metadata": {},
   "outputs": [],
   "source": [
    "# sns.set()\n",
    "\n",
    "# plt.figure(figsize=(14,7))\n",
    "\n",
    "# sns.lineplot(x=\"i\",y=\"std\",data=dfff)\n",
    "\n",
    "# plt.xticks(range(1,35))\n",
    "\n",
    "# plt.tight_layout()"
   ]
  },
  {
   "cell_type": "code",
   "execution_count": 73,
   "metadata": {},
   "outputs": [],
   "source": [
    "regressor=KNNR(n_neighbors=2)\n",
    "\n",
    "regressor.fit(X_train,y_train)\n",
    "\n",
    "y_train_pred=regressor.predict(X_train)\n",
    "\n",
    "y_test_pred=regressor.predict(X_test)"
   ]
  },
  {
   "cell_type": "code",
   "execution_count": 74,
   "metadata": {},
   "outputs": [
    {
     "data": {
      "text/plain": [
       "(2224023.1833814373, 8219944.776497103)"
      ]
     },
     "execution_count": 74,
     "metadata": {},
     "output_type": "execute_result"
    }
   ],
   "source": [
    "mse(y_train,y_train_pred),mse(y_test,y_test_pred)"
   ]
  },
  {
   "cell_type": "markdown",
   "metadata": {},
   "source": [
    "## DecisionTree Regressor"
   ]
  },
  {
   "cell_type": "code",
   "execution_count": 18,
   "metadata": {},
   "outputs": [],
   "source": [
    "from sklearn.tree import DecisionTreeRegressor as DTR"
   ]
  },
  {
   "cell_type": "code",
   "execution_count": 20,
   "metadata": {},
   "outputs": [
    {
     "data": {
      "text/plain": [
       "(7.030069042243884e-06, 0.02160730490606237)"
      ]
     },
     "execution_count": 20,
     "metadata": {},
     "output_type": "execute_result"
    }
   ],
   "source": [
    "regressor=DTR()\n",
    "\n",
    "regressor.fit(X_train,np.log(y_train))\n",
    "\n",
    "y_train_pred=regressor.predict(X_train)\n",
    "\n",
    "y_test_pred=regressor.predict(X_test)\n",
    "\n",
    "mse(np.log(y_train),y_train_pred),mse(np.log(y_test),y_test_pred)"
   ]
  },
  {
   "cell_type": "code",
   "execution_count": 42,
   "metadata": {},
   "outputs": [
    {
     "data": {
      "text/plain": [
       "44"
      ]
     },
     "execution_count": 42,
     "metadata": {},
     "output_type": "execute_result"
    }
   ],
   "source": [
    "regressor.get_depth()"
   ]
  },
  {
   "cell_type": "code",
   "execution_count": 21,
   "metadata": {},
   "outputs": [
    {
     "data": {
      "text/plain": [
       "(0.2364705879200183, 0.2349322197685535)"
      ]
     },
     "execution_count": 21,
     "metadata": {},
     "output_type": "execute_result"
    }
   ],
   "source": [
    "regressor=DTR(ccp_alpha=0.01,random_state=40)\n",
    "\n",
    "regressor.fit(X_train,np.log(y_train))\n",
    "\n",
    "y_train_pred=regressor.predict(X_train)\n",
    "\n",
    "y_test_pred=regressor.predict(X_test)\n",
    "\n",
    "mse(np.log(y_train),y_train_pred),mse(np.log(y_test),y_test_pred)"
   ]
  },
  {
   "cell_type": "code",
   "execution_count": 106,
   "metadata": {},
   "outputs": [],
   "source": [
    "path=regressor.cost_complexity_pruning_path(X_train,y_train)\n",
    "ccp_alphas, impurities = path.ccp_alphas, path.impurities"
   ]
  },
  {
   "cell_type": "code",
   "execution_count": 109,
   "metadata": {},
   "outputs": [
    {
     "data": {
      "text/plain": [
       "395051"
      ]
     },
     "execution_count": 109,
     "metadata": {},
     "output_type": "execute_result"
    }
   ],
   "source": [
    "len(ccp_alphas)"
   ]
  },
  {
   "cell_type": "code",
   "execution_count": 12,
   "metadata": {},
   "outputs": [],
   "source": [
    "from sklearn.model_selection import cross_val_score"
   ]
  },
  {
   "cell_type": "code",
   "execution_count": 47,
   "metadata": {},
   "outputs": [],
   "source": [
    "def val_score(alphas):\n",
    "    \n",
    "    avg=[]\n",
    "    std=[]\n",
    "    \n",
    "    \n",
    "    for i in alphas:\n",
    "        score = cross_val_score(DTR(ccp_alpha=i,random_state=40),scoring='neg_mean_squared_error',X=X_train, y=y_train, cv=5)\n",
    "        \n",
    "        avg.append(score.mean())\n",
    "        std.append(score.std())\n",
    "        \n",
    "    return avg,std"
   ]
  },
  {
   "cell_type": "code",
   "execution_count": null,
   "metadata": {},
   "outputs": [],
   "source": [
    "mean,std= val_score(np.linspace(0.001,0.002,2))\n",
    "df=pd.DataFrame({\"i\":ccp_alphas,\"mean\":mean,\"std\":std})"
   ]
  },
  {
   "cell_type": "code",
   "execution_count": null,
   "metadata": {},
   "outputs": [],
   "source": [
    "mean,std= val_score(ccp_alphas)\n",
    "df=pd.DataFrame({\"i\":ccp_alphas,\"mean\":mean,\"std\":std})\n",
    "\n",
    "fig,ax=plt.subplots(1,2,figsize=(14,7))\n",
    "sns.lineplot(data=df,y=\"mean\",x=\"i\",ax=ax[0])\n",
    "sns.lineplot(data=df,y=\"std\",x=\"i\",ax=ax[1])"
   ]
  },
  {
   "cell_type": "code",
   "execution_count": null,
   "metadata": {},
   "outputs": [],
   "source": [
    "regressor=DTR()\n",
    "\n",
    "regressor.fit(X_train,y_train)\n",
    "\n",
    "y_train_pred=regressor.predict(X_train)\n",
    "\n",
    "y_test_pred=regressor.predict(X_test)\n",
    "\n",
    "mse(y_train,y_train_pred),mse(y_test,y_test_pred)"
   ]
  },
  {
   "cell_type": "code",
   "execution_count": 91,
   "metadata": {
    "collapsed": true
   },
   "outputs": [
    {
     "ename": "KeyboardInterrupt",
     "evalue": "",
     "output_type": "error",
     "traceback": [
      "\u001b[1;31m---------------------------------------------------------------------------\u001b[0m",
      "\u001b[1;31mKeyboardInterrupt\u001b[0m                         Traceback (most recent call last)",
      "\u001b[1;32m<ipython-input-91-e1f5905becf8>\u001b[0m in \u001b[0;36m<module>\u001b[1;34m\u001b[0m\n\u001b[0;32m     11\u001b[0m     \u001b[1;32mreturn\u001b[0m \u001b[0mavg\u001b[0m\u001b[1;33m,\u001b[0m\u001b[0mstd\u001b[0m\u001b[1;33m\u001b[0m\u001b[1;33m\u001b[0m\u001b[0m\n\u001b[0;32m     12\u001b[0m \u001b[1;33m\u001b[0m\u001b[0m\n\u001b[1;32m---> 13\u001b[1;33m \u001b[0mavg\u001b[0m\u001b[1;33m,\u001b[0m\u001b[0mstd\u001b[0m\u001b[1;33m=\u001b[0m\u001b[0mcross_val_tree\u001b[0m\u001b[1;33m(\u001b[0m\u001b[0mrange\u001b[0m\u001b[1;33m(\u001b[0m\u001b[1;36m1\u001b[0m\u001b[1;33m,\u001b[0m\u001b[1;36m50\u001b[0m\u001b[1;33m)\u001b[0m\u001b[1;33m)\u001b[0m\u001b[1;33m\u001b[0m\u001b[1;33m\u001b[0m\u001b[0m\n\u001b[0m\u001b[0;32m     14\u001b[0m \u001b[1;33m\u001b[0m\u001b[0m\n\u001b[0;32m     15\u001b[0m \u001b[0mdfff\u001b[0m\u001b[1;33m=\u001b[0m\u001b[0mpd\u001b[0m\u001b[1;33m.\u001b[0m\u001b[0mDataFrame\u001b[0m\u001b[1;33m(\u001b[0m\u001b[1;33m{\u001b[0m\u001b[1;34m\"i\"\u001b[0m\u001b[1;33m:\u001b[0m\u001b[0mrange\u001b[0m\u001b[1;33m(\u001b[0m\u001b[1;36m1\u001b[0m\u001b[1;33m,\u001b[0m\u001b[1;36m50\u001b[0m\u001b[1;33m)\u001b[0m\u001b[1;33m,\u001b[0m\u001b[1;34m\"avg\"\u001b[0m\u001b[1;33m:\u001b[0m\u001b[0mavg\u001b[0m\u001b[1;33m,\u001b[0m\u001b[1;34m\"std\"\u001b[0m\u001b[1;33m:\u001b[0m\u001b[0mstd\u001b[0m\u001b[1;33m}\u001b[0m\u001b[1;33m,\u001b[0m\u001b[0mcolumns\u001b[0m\u001b[1;33m=\u001b[0m\u001b[1;33m[\u001b[0m\u001b[1;34m\"i\"\u001b[0m\u001b[1;33m,\u001b[0m\u001b[1;34m\"avg\"\u001b[0m\u001b[1;33m,\u001b[0m\u001b[1;34m\"std\"\u001b[0m\u001b[1;33m]\u001b[0m\u001b[1;33m)\u001b[0m\u001b[1;33m\u001b[0m\u001b[1;33m\u001b[0m\u001b[0m\n",
      "\u001b[1;32m<ipython-input-91-e1f5905becf8>\u001b[0m in \u001b[0;36mcross_val_tree\u001b[1;34m(rangeVals)\u001b[0m\n\u001b[0;32m      5\u001b[0m \u001b[1;33m\u001b[0m\u001b[0m\n\u001b[0;32m      6\u001b[0m     \u001b[1;32mfor\u001b[0m \u001b[0mi\u001b[0m \u001b[1;32min\u001b[0m \u001b[0mrangeVals\u001b[0m\u001b[1;33m:\u001b[0m\u001b[1;33m\u001b[0m\u001b[1;33m\u001b[0m\u001b[0m\n\u001b[1;32m----> 7\u001b[1;33m         \u001b[0mscore\u001b[0m\u001b[1;33m=\u001b[0m\u001b[0mcross_val_score\u001b[0m\u001b[1;33m(\u001b[0m\u001b[0mDTR\u001b[0m\u001b[1;33m(\u001b[0m\u001b[0mmax_depth\u001b[0m\u001b[1;33m=\u001b[0m\u001b[0mi\u001b[0m\u001b[1;33m)\u001b[0m\u001b[1;33m,\u001b[0m\u001b[0mscoring\u001b[0m\u001b[1;33m=\u001b[0m\u001b[1;34m'neg_mean_squared_error'\u001b[0m\u001b[1;33m,\u001b[0m\u001b[0mX\u001b[0m\u001b[1;33m=\u001b[0m\u001b[0mX_train\u001b[0m\u001b[1;33m,\u001b[0m \u001b[0my\u001b[0m\u001b[1;33m=\u001b[0m\u001b[0my_train\u001b[0m\u001b[1;33m,\u001b[0m \u001b[0mcv\u001b[0m\u001b[1;33m=\u001b[0m\u001b[1;36m5\u001b[0m\u001b[1;33m)\u001b[0m\u001b[1;33m\u001b[0m\u001b[1;33m\u001b[0m\u001b[0m\n\u001b[0m\u001b[0;32m      8\u001b[0m         \u001b[0mavg\u001b[0m\u001b[1;33m.\u001b[0m\u001b[0mappend\u001b[0m\u001b[1;33m(\u001b[0m\u001b[0mscore\u001b[0m\u001b[1;33m.\u001b[0m\u001b[0mmean\u001b[0m\u001b[1;33m(\u001b[0m\u001b[1;33m)\u001b[0m\u001b[1;33m)\u001b[0m\u001b[1;33m\u001b[0m\u001b[1;33m\u001b[0m\u001b[0m\n\u001b[0;32m      9\u001b[0m         \u001b[0mstd\u001b[0m\u001b[1;33m.\u001b[0m\u001b[0mappend\u001b[0m\u001b[1;33m(\u001b[0m\u001b[0mscore\u001b[0m\u001b[1;33m.\u001b[0m\u001b[0mstd\u001b[0m\u001b[1;33m(\u001b[0m\u001b[1;33m)\u001b[0m\u001b[1;33m)\u001b[0m\u001b[1;33m\u001b[0m\u001b[1;33m\u001b[0m\u001b[0m\n",
      "\u001b[1;32mC:\\ProgramData\\Anaconda3\\lib\\site-packages\\sklearn\\model_selection\\_validation.py\u001b[0m in \u001b[0;36mcross_val_score\u001b[1;34m(estimator, X, y, groups, scoring, cv, n_jobs, verbose, fit_params, pre_dispatch, error_score)\u001b[0m\n\u001b[0;32m    388\u001b[0m                                 \u001b[0mfit_params\u001b[0m\u001b[1;33m=\u001b[0m\u001b[0mfit_params\u001b[0m\u001b[1;33m,\u001b[0m\u001b[1;33m\u001b[0m\u001b[1;33m\u001b[0m\u001b[0m\n\u001b[0;32m    389\u001b[0m                                 \u001b[0mpre_dispatch\u001b[0m\u001b[1;33m=\u001b[0m\u001b[0mpre_dispatch\u001b[0m\u001b[1;33m,\u001b[0m\u001b[1;33m\u001b[0m\u001b[1;33m\u001b[0m\u001b[0m\n\u001b[1;32m--> 390\u001b[1;33m                                 error_score=error_score)\n\u001b[0m\u001b[0;32m    391\u001b[0m     \u001b[1;32mreturn\u001b[0m \u001b[0mcv_results\u001b[0m\u001b[1;33m[\u001b[0m\u001b[1;34m'test_score'\u001b[0m\u001b[1;33m]\u001b[0m\u001b[1;33m\u001b[0m\u001b[1;33m\u001b[0m\u001b[0m\n\u001b[0;32m    392\u001b[0m \u001b[1;33m\u001b[0m\u001b[0m\n",
      "\u001b[1;32mC:\\ProgramData\\Anaconda3\\lib\\site-packages\\sklearn\\model_selection\\_validation.py\u001b[0m in \u001b[0;36mcross_validate\u001b[1;34m(estimator, X, y, groups, scoring, cv, n_jobs, verbose, fit_params, pre_dispatch, return_train_score, return_estimator, error_score)\u001b[0m\n\u001b[0;32m    234\u001b[0m             \u001b[0mreturn_times\u001b[0m\u001b[1;33m=\u001b[0m\u001b[1;32mTrue\u001b[0m\u001b[1;33m,\u001b[0m \u001b[0mreturn_estimator\u001b[0m\u001b[1;33m=\u001b[0m\u001b[0mreturn_estimator\u001b[0m\u001b[1;33m,\u001b[0m\u001b[1;33m\u001b[0m\u001b[1;33m\u001b[0m\u001b[0m\n\u001b[0;32m    235\u001b[0m             error_score=error_score)\n\u001b[1;32m--> 236\u001b[1;33m         for train, test in cv.split(X, y, groups))\n\u001b[0m\u001b[0;32m    237\u001b[0m \u001b[1;33m\u001b[0m\u001b[0m\n\u001b[0;32m    238\u001b[0m     \u001b[0mzipped_scores\u001b[0m \u001b[1;33m=\u001b[0m \u001b[0mlist\u001b[0m\u001b[1;33m(\u001b[0m\u001b[0mzip\u001b[0m\u001b[1;33m(\u001b[0m\u001b[1;33m*\u001b[0m\u001b[0mscores\u001b[0m\u001b[1;33m)\u001b[0m\u001b[1;33m)\u001b[0m\u001b[1;33m\u001b[0m\u001b[1;33m\u001b[0m\u001b[0m\n",
      "\u001b[1;32mC:\\ProgramData\\Anaconda3\\lib\\site-packages\\joblib\\parallel.py\u001b[0m in \u001b[0;36m__call__\u001b[1;34m(self, iterable)\u001b[0m\n\u001b[0;32m   1002\u001b[0m             \u001b[1;31m# remaining jobs.\u001b[0m\u001b[1;33m\u001b[0m\u001b[1;33m\u001b[0m\u001b[1;33m\u001b[0m\u001b[0m\n\u001b[0;32m   1003\u001b[0m             \u001b[0mself\u001b[0m\u001b[1;33m.\u001b[0m\u001b[0m_iterating\u001b[0m \u001b[1;33m=\u001b[0m \u001b[1;32mFalse\u001b[0m\u001b[1;33m\u001b[0m\u001b[1;33m\u001b[0m\u001b[0m\n\u001b[1;32m-> 1004\u001b[1;33m             \u001b[1;32mif\u001b[0m \u001b[0mself\u001b[0m\u001b[1;33m.\u001b[0m\u001b[0mdispatch_one_batch\u001b[0m\u001b[1;33m(\u001b[0m\u001b[0miterator\u001b[0m\u001b[1;33m)\u001b[0m\u001b[1;33m:\u001b[0m\u001b[1;33m\u001b[0m\u001b[1;33m\u001b[0m\u001b[0m\n\u001b[0m\u001b[0;32m   1005\u001b[0m                 \u001b[0mself\u001b[0m\u001b[1;33m.\u001b[0m\u001b[0m_iterating\u001b[0m \u001b[1;33m=\u001b[0m \u001b[0mself\u001b[0m\u001b[1;33m.\u001b[0m\u001b[0m_original_iterator\u001b[0m \u001b[1;32mis\u001b[0m \u001b[1;32mnot\u001b[0m \u001b[1;32mNone\u001b[0m\u001b[1;33m\u001b[0m\u001b[1;33m\u001b[0m\u001b[0m\n\u001b[0;32m   1006\u001b[0m \u001b[1;33m\u001b[0m\u001b[0m\n",
      "\u001b[1;32mC:\\ProgramData\\Anaconda3\\lib\\site-packages\\joblib\\parallel.py\u001b[0m in \u001b[0;36mdispatch_one_batch\u001b[1;34m(self, iterator)\u001b[0m\n\u001b[0;32m    833\u001b[0m                 \u001b[1;32mreturn\u001b[0m \u001b[1;32mFalse\u001b[0m\u001b[1;33m\u001b[0m\u001b[1;33m\u001b[0m\u001b[0m\n\u001b[0;32m    834\u001b[0m             \u001b[1;32melse\u001b[0m\u001b[1;33m:\u001b[0m\u001b[1;33m\u001b[0m\u001b[1;33m\u001b[0m\u001b[0m\n\u001b[1;32m--> 835\u001b[1;33m                 \u001b[0mself\u001b[0m\u001b[1;33m.\u001b[0m\u001b[0m_dispatch\u001b[0m\u001b[1;33m(\u001b[0m\u001b[0mtasks\u001b[0m\u001b[1;33m)\u001b[0m\u001b[1;33m\u001b[0m\u001b[1;33m\u001b[0m\u001b[0m\n\u001b[0m\u001b[0;32m    836\u001b[0m                 \u001b[1;32mreturn\u001b[0m \u001b[1;32mTrue\u001b[0m\u001b[1;33m\u001b[0m\u001b[1;33m\u001b[0m\u001b[0m\n\u001b[0;32m    837\u001b[0m \u001b[1;33m\u001b[0m\u001b[0m\n",
      "\u001b[1;32mC:\\ProgramData\\Anaconda3\\lib\\site-packages\\joblib\\parallel.py\u001b[0m in \u001b[0;36m_dispatch\u001b[1;34m(self, batch)\u001b[0m\n\u001b[0;32m    752\u001b[0m         \u001b[1;32mwith\u001b[0m \u001b[0mself\u001b[0m\u001b[1;33m.\u001b[0m\u001b[0m_lock\u001b[0m\u001b[1;33m:\u001b[0m\u001b[1;33m\u001b[0m\u001b[1;33m\u001b[0m\u001b[0m\n\u001b[0;32m    753\u001b[0m             \u001b[0mjob_idx\u001b[0m \u001b[1;33m=\u001b[0m \u001b[0mlen\u001b[0m\u001b[1;33m(\u001b[0m\u001b[0mself\u001b[0m\u001b[1;33m.\u001b[0m\u001b[0m_jobs\u001b[0m\u001b[1;33m)\u001b[0m\u001b[1;33m\u001b[0m\u001b[1;33m\u001b[0m\u001b[0m\n\u001b[1;32m--> 754\u001b[1;33m             \u001b[0mjob\u001b[0m \u001b[1;33m=\u001b[0m \u001b[0mself\u001b[0m\u001b[1;33m.\u001b[0m\u001b[0m_backend\u001b[0m\u001b[1;33m.\u001b[0m\u001b[0mapply_async\u001b[0m\u001b[1;33m(\u001b[0m\u001b[0mbatch\u001b[0m\u001b[1;33m,\u001b[0m \u001b[0mcallback\u001b[0m\u001b[1;33m=\u001b[0m\u001b[0mcb\u001b[0m\u001b[1;33m)\u001b[0m\u001b[1;33m\u001b[0m\u001b[1;33m\u001b[0m\u001b[0m\n\u001b[0m\u001b[0;32m    755\u001b[0m             \u001b[1;31m# A job can complete so quickly than its callback is\u001b[0m\u001b[1;33m\u001b[0m\u001b[1;33m\u001b[0m\u001b[1;33m\u001b[0m\u001b[0m\n\u001b[0;32m    756\u001b[0m             \u001b[1;31m# called before we get here, causing self._jobs to\u001b[0m\u001b[1;33m\u001b[0m\u001b[1;33m\u001b[0m\u001b[1;33m\u001b[0m\u001b[0m\n",
      "\u001b[1;32mC:\\ProgramData\\Anaconda3\\lib\\site-packages\\joblib\\_parallel_backends.py\u001b[0m in \u001b[0;36mapply_async\u001b[1;34m(self, func, callback)\u001b[0m\n\u001b[0;32m    207\u001b[0m     \u001b[1;32mdef\u001b[0m \u001b[0mapply_async\u001b[0m\u001b[1;33m(\u001b[0m\u001b[0mself\u001b[0m\u001b[1;33m,\u001b[0m \u001b[0mfunc\u001b[0m\u001b[1;33m,\u001b[0m \u001b[0mcallback\u001b[0m\u001b[1;33m=\u001b[0m\u001b[1;32mNone\u001b[0m\u001b[1;33m)\u001b[0m\u001b[1;33m:\u001b[0m\u001b[1;33m\u001b[0m\u001b[1;33m\u001b[0m\u001b[0m\n\u001b[0;32m    208\u001b[0m         \u001b[1;34m\"\"\"Schedule a func to be run\"\"\"\u001b[0m\u001b[1;33m\u001b[0m\u001b[1;33m\u001b[0m\u001b[0m\n\u001b[1;32m--> 209\u001b[1;33m         \u001b[0mresult\u001b[0m \u001b[1;33m=\u001b[0m \u001b[0mImmediateResult\u001b[0m\u001b[1;33m(\u001b[0m\u001b[0mfunc\u001b[0m\u001b[1;33m)\u001b[0m\u001b[1;33m\u001b[0m\u001b[1;33m\u001b[0m\u001b[0m\n\u001b[0m\u001b[0;32m    210\u001b[0m         \u001b[1;32mif\u001b[0m \u001b[0mcallback\u001b[0m\u001b[1;33m:\u001b[0m\u001b[1;33m\u001b[0m\u001b[1;33m\u001b[0m\u001b[0m\n\u001b[0;32m    211\u001b[0m             \u001b[0mcallback\u001b[0m\u001b[1;33m(\u001b[0m\u001b[0mresult\u001b[0m\u001b[1;33m)\u001b[0m\u001b[1;33m\u001b[0m\u001b[1;33m\u001b[0m\u001b[0m\n",
      "\u001b[1;32mC:\\ProgramData\\Anaconda3\\lib\\site-packages\\joblib\\_parallel_backends.py\u001b[0m in \u001b[0;36m__init__\u001b[1;34m(self, batch)\u001b[0m\n\u001b[0;32m    588\u001b[0m         \u001b[1;31m# Don't delay the application, to avoid keeping the input\u001b[0m\u001b[1;33m\u001b[0m\u001b[1;33m\u001b[0m\u001b[1;33m\u001b[0m\u001b[0m\n\u001b[0;32m    589\u001b[0m         \u001b[1;31m# arguments in memory\u001b[0m\u001b[1;33m\u001b[0m\u001b[1;33m\u001b[0m\u001b[1;33m\u001b[0m\u001b[0m\n\u001b[1;32m--> 590\u001b[1;33m         \u001b[0mself\u001b[0m\u001b[1;33m.\u001b[0m\u001b[0mresults\u001b[0m \u001b[1;33m=\u001b[0m \u001b[0mbatch\u001b[0m\u001b[1;33m(\u001b[0m\u001b[1;33m)\u001b[0m\u001b[1;33m\u001b[0m\u001b[1;33m\u001b[0m\u001b[0m\n\u001b[0m\u001b[0;32m    591\u001b[0m \u001b[1;33m\u001b[0m\u001b[0m\n\u001b[0;32m    592\u001b[0m     \u001b[1;32mdef\u001b[0m \u001b[0mget\u001b[0m\u001b[1;33m(\u001b[0m\u001b[0mself\u001b[0m\u001b[1;33m)\u001b[0m\u001b[1;33m:\u001b[0m\u001b[1;33m\u001b[0m\u001b[1;33m\u001b[0m\u001b[0m\n",
      "\u001b[1;32mC:\\ProgramData\\Anaconda3\\lib\\site-packages\\joblib\\parallel.py\u001b[0m in \u001b[0;36m__call__\u001b[1;34m(self)\u001b[0m\n\u001b[0;32m    254\u001b[0m         \u001b[1;32mwith\u001b[0m \u001b[0mparallel_backend\u001b[0m\u001b[1;33m(\u001b[0m\u001b[0mself\u001b[0m\u001b[1;33m.\u001b[0m\u001b[0m_backend\u001b[0m\u001b[1;33m,\u001b[0m \u001b[0mn_jobs\u001b[0m\u001b[1;33m=\u001b[0m\u001b[0mself\u001b[0m\u001b[1;33m.\u001b[0m\u001b[0m_n_jobs\u001b[0m\u001b[1;33m)\u001b[0m\u001b[1;33m:\u001b[0m\u001b[1;33m\u001b[0m\u001b[1;33m\u001b[0m\u001b[0m\n\u001b[0;32m    255\u001b[0m             return [func(*args, **kwargs)\n\u001b[1;32m--> 256\u001b[1;33m                     for func, args, kwargs in self.items]\n\u001b[0m\u001b[0;32m    257\u001b[0m \u001b[1;33m\u001b[0m\u001b[0m\n\u001b[0;32m    258\u001b[0m     \u001b[1;32mdef\u001b[0m \u001b[0m__len__\u001b[0m\u001b[1;33m(\u001b[0m\u001b[0mself\u001b[0m\u001b[1;33m)\u001b[0m\u001b[1;33m:\u001b[0m\u001b[1;33m\u001b[0m\u001b[1;33m\u001b[0m\u001b[0m\n",
      "\u001b[1;32mC:\\ProgramData\\Anaconda3\\lib\\site-packages\\joblib\\parallel.py\u001b[0m in \u001b[0;36m<listcomp>\u001b[1;34m(.0)\u001b[0m\n\u001b[0;32m    254\u001b[0m         \u001b[1;32mwith\u001b[0m \u001b[0mparallel_backend\u001b[0m\u001b[1;33m(\u001b[0m\u001b[0mself\u001b[0m\u001b[1;33m.\u001b[0m\u001b[0m_backend\u001b[0m\u001b[1;33m,\u001b[0m \u001b[0mn_jobs\u001b[0m\u001b[1;33m=\u001b[0m\u001b[0mself\u001b[0m\u001b[1;33m.\u001b[0m\u001b[0m_n_jobs\u001b[0m\u001b[1;33m)\u001b[0m\u001b[1;33m:\u001b[0m\u001b[1;33m\u001b[0m\u001b[1;33m\u001b[0m\u001b[0m\n\u001b[0;32m    255\u001b[0m             return [func(*args, **kwargs)\n\u001b[1;32m--> 256\u001b[1;33m                     for func, args, kwargs in self.items]\n\u001b[0m\u001b[0;32m    257\u001b[0m \u001b[1;33m\u001b[0m\u001b[0m\n\u001b[0;32m    258\u001b[0m     \u001b[1;32mdef\u001b[0m \u001b[0m__len__\u001b[0m\u001b[1;33m(\u001b[0m\u001b[0mself\u001b[0m\u001b[1;33m)\u001b[0m\u001b[1;33m:\u001b[0m\u001b[1;33m\u001b[0m\u001b[1;33m\u001b[0m\u001b[0m\n",
      "\u001b[1;32mC:\\ProgramData\\Anaconda3\\lib\\site-packages\\sklearn\\model_selection\\_validation.py\u001b[0m in \u001b[0;36m_fit_and_score\u001b[1;34m(estimator, X, y, scorer, train, test, verbose, parameters, fit_params, return_train_score, return_parameters, return_n_test_samples, return_times, return_estimator, error_score)\u001b[0m\n\u001b[0;32m    513\u001b[0m             \u001b[0mestimator\u001b[0m\u001b[1;33m.\u001b[0m\u001b[0mfit\u001b[0m\u001b[1;33m(\u001b[0m\u001b[0mX_train\u001b[0m\u001b[1;33m,\u001b[0m \u001b[1;33m**\u001b[0m\u001b[0mfit_params\u001b[0m\u001b[1;33m)\u001b[0m\u001b[1;33m\u001b[0m\u001b[1;33m\u001b[0m\u001b[0m\n\u001b[0;32m    514\u001b[0m         \u001b[1;32melse\u001b[0m\u001b[1;33m:\u001b[0m\u001b[1;33m\u001b[0m\u001b[1;33m\u001b[0m\u001b[0m\n\u001b[1;32m--> 515\u001b[1;33m             \u001b[0mestimator\u001b[0m\u001b[1;33m.\u001b[0m\u001b[0mfit\u001b[0m\u001b[1;33m(\u001b[0m\u001b[0mX_train\u001b[0m\u001b[1;33m,\u001b[0m \u001b[0my_train\u001b[0m\u001b[1;33m,\u001b[0m \u001b[1;33m**\u001b[0m\u001b[0mfit_params\u001b[0m\u001b[1;33m)\u001b[0m\u001b[1;33m\u001b[0m\u001b[1;33m\u001b[0m\u001b[0m\n\u001b[0m\u001b[0;32m    516\u001b[0m \u001b[1;33m\u001b[0m\u001b[0m\n\u001b[0;32m    517\u001b[0m     \u001b[1;32mexcept\u001b[0m \u001b[0mException\u001b[0m \u001b[1;32mas\u001b[0m \u001b[0me\u001b[0m\u001b[1;33m:\u001b[0m\u001b[1;33m\u001b[0m\u001b[1;33m\u001b[0m\u001b[0m\n",
      "\u001b[1;32mC:\\ProgramData\\Anaconda3\\lib\\site-packages\\sklearn\\tree\\_classes.py\u001b[0m in \u001b[0;36mfit\u001b[1;34m(self, X, y, sample_weight, check_input, X_idx_sorted)\u001b[0m\n\u001b[0;32m   1223\u001b[0m             \u001b[0msample_weight\u001b[0m\u001b[1;33m=\u001b[0m\u001b[0msample_weight\u001b[0m\u001b[1;33m,\u001b[0m\u001b[1;33m\u001b[0m\u001b[1;33m\u001b[0m\u001b[0m\n\u001b[0;32m   1224\u001b[0m             \u001b[0mcheck_input\u001b[0m\u001b[1;33m=\u001b[0m\u001b[0mcheck_input\u001b[0m\u001b[1;33m,\u001b[0m\u001b[1;33m\u001b[0m\u001b[1;33m\u001b[0m\u001b[0m\n\u001b[1;32m-> 1225\u001b[1;33m             X_idx_sorted=X_idx_sorted)\n\u001b[0m\u001b[0;32m   1226\u001b[0m         \u001b[1;32mreturn\u001b[0m \u001b[0mself\u001b[0m\u001b[1;33m\u001b[0m\u001b[1;33m\u001b[0m\u001b[0m\n\u001b[0;32m   1227\u001b[0m \u001b[1;33m\u001b[0m\u001b[0m\n",
      "\u001b[1;32mC:\\ProgramData\\Anaconda3\\lib\\site-packages\\sklearn\\tree\\_classes.py\u001b[0m in \u001b[0;36mfit\u001b[1;34m(self, X, y, sample_weight, check_input, X_idx_sorted)\u001b[0m\n\u001b[0;32m    365\u001b[0m                                            min_impurity_split)\n\u001b[0;32m    366\u001b[0m \u001b[1;33m\u001b[0m\u001b[0m\n\u001b[1;32m--> 367\u001b[1;33m         \u001b[0mbuilder\u001b[0m\u001b[1;33m.\u001b[0m\u001b[0mbuild\u001b[0m\u001b[1;33m(\u001b[0m\u001b[0mself\u001b[0m\u001b[1;33m.\u001b[0m\u001b[0mtree_\u001b[0m\u001b[1;33m,\u001b[0m \u001b[0mX\u001b[0m\u001b[1;33m,\u001b[0m \u001b[0my\u001b[0m\u001b[1;33m,\u001b[0m \u001b[0msample_weight\u001b[0m\u001b[1;33m,\u001b[0m \u001b[0mX_idx_sorted\u001b[0m\u001b[1;33m)\u001b[0m\u001b[1;33m\u001b[0m\u001b[1;33m\u001b[0m\u001b[0m\n\u001b[0m\u001b[0;32m    368\u001b[0m \u001b[1;33m\u001b[0m\u001b[0m\n\u001b[0;32m    369\u001b[0m         \u001b[1;32mif\u001b[0m \u001b[0mself\u001b[0m\u001b[1;33m.\u001b[0m\u001b[0mn_outputs_\u001b[0m \u001b[1;33m==\u001b[0m \u001b[1;36m1\u001b[0m \u001b[1;32mand\u001b[0m \u001b[0mis_classifier\u001b[0m\u001b[1;33m(\u001b[0m\u001b[0mself\u001b[0m\u001b[1;33m)\u001b[0m\u001b[1;33m:\u001b[0m\u001b[1;33m\u001b[0m\u001b[1;33m\u001b[0m\u001b[0m\n",
      "\u001b[1;31mKeyboardInterrupt\u001b[0m: "
     ]
    }
   ],
   "source": [
    "def cross_val_tree(rangeVals):\n",
    "    from sklearn.model_selection import cross_val_score\n",
    "    \n",
    "    avg,std=[],[]\n",
    "    \n",
    "    for i in rangeVals:\n",
    "        score=cross_val_score(DTR(max_depth=i),scoring='neg_mean_squared_error',X=X_train, y=y_train, cv=5)\n",
    "        avg.append(score.mean())\n",
    "        std.append(score.std())\n",
    "    \n",
    "    return avg,std\n",
    "    \n",
    "avg,std=cross_val_tree(range(1,50))    \n",
    "\n",
    "dfff=pd.DataFrame({\"i\":range(1,50),\"avg\":avg,\"std\":std},columns=[\"i\",\"avg\",\"std\"])"
   ]
  },
  {
   "cell_type": "code",
   "execution_count": null,
   "metadata": {},
   "outputs": [],
   "source": []
  }
 ],
 "metadata": {
  "kernelspec": {
   "display_name": "Python 3",
   "language": "python",
   "name": "python3"
  },
  "language_info": {
   "codemirror_mode": {
    "name": "ipython",
    "version": 3
   },
   "file_extension": ".py",
   "mimetype": "text/x-python",
   "name": "python",
   "nbconvert_exporter": "python",
   "pygments_lexer": "ipython3",
   "version": "3.7.6"
  }
 },
 "nbformat": 4,
 "nbformat_minor": 4
}

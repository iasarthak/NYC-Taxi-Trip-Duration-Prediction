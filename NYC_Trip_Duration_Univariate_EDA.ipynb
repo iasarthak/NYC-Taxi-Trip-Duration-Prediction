{
 "cells": [
  {
   "cell_type": "code",
   "execution_count": 1,
   "metadata": {},
   "outputs": [],
   "source": [
    "# Importing the required libraries\n",
    "\n",
    "import pandas as pd\n",
    "import numpy as np\n",
    "import matplotlib.pyplot as plt\n",
    "import seaborn as sns\n",
    "\n",
    "from datetime import datetime \n",
    "from haversine import haversine\n",
    "\n",
    "from IPython.display import display"
   ]
  },
  {
   "cell_type": "code",
   "execution_count": 2,
   "metadata": {},
   "outputs": [
    {
     "name": "stderr",
     "output_type": "stream",
     "text": [
      "C:\\ProgramData\\Anaconda3\\lib\\site-packages\\IPython\\core\\interactiveshell.py:3063: DtypeWarning: Columns (12) have mixed types.Specify dtype option on import or set low_memory=False.\n",
      "  interactivity=interactivity, compiler=compiler, result=result)\n"
     ]
    },
    {
     "data": {
      "text/html": [
       "<div>\n",
       "<style scoped>\n",
       "    .dataframe tbody tr th:only-of-type {\n",
       "        vertical-align: middle;\n",
       "    }\n",
       "\n",
       "    .dataframe tbody tr th {\n",
       "        vertical-align: top;\n",
       "    }\n",
       "\n",
       "    .dataframe thead th {\n",
       "        text-align: right;\n",
       "    }\n",
       "</style>\n",
       "<table border=\"1\" class=\"dataframe\">\n",
       "  <thead>\n",
       "    <tr style=\"text-align: right;\">\n",
       "      <th></th>\n",
       "      <th>id</th>\n",
       "      <th>vendor_id</th>\n",
       "      <th>pickup_datetime</th>\n",
       "      <th>dropoff_datetime</th>\n",
       "      <th>passenger_count</th>\n",
       "      <th>pickup_longitude</th>\n",
       "      <th>pickup_latitude</th>\n",
       "      <th>dropoff_longitude</th>\n",
       "      <th>dropoff_latitude</th>\n",
       "      <th>store_and_fwd_flag</th>\n",
       "      <th>trip_duration</th>\n",
       "    </tr>\n",
       "  </thead>\n",
       "  <tbody>\n",
       "    <tr>\n",
       "      <th>0</th>\n",
       "      <td>id1080784</td>\n",
       "      <td>2</td>\n",
       "      <td>29-02-2016 16:40</td>\n",
       "      <td>29-02-2016 16:47</td>\n",
       "      <td>1</td>\n",
       "      <td>-73.953918</td>\n",
       "      <td>40.778873</td>\n",
       "      <td>-73.963875</td>\n",
       "      <td>40.771164</td>\n",
       "      <td>N</td>\n",
       "      <td>400</td>\n",
       "    </tr>\n",
       "    <tr>\n",
       "      <th>1</th>\n",
       "      <td>id0889885</td>\n",
       "      <td>1</td>\n",
       "      <td>11-03-2016 23:35</td>\n",
       "      <td>11-03-2016 23:53</td>\n",
       "      <td>2</td>\n",
       "      <td>-73.988312</td>\n",
       "      <td>40.731743</td>\n",
       "      <td>-73.994751</td>\n",
       "      <td>40.694931</td>\n",
       "      <td>N</td>\n",
       "      <td>1100</td>\n",
       "    </tr>\n",
       "    <tr>\n",
       "      <th>2</th>\n",
       "      <td>id0857912</td>\n",
       "      <td>2</td>\n",
       "      <td>21-02-2016 17:59</td>\n",
       "      <td>21-02-2016 18:26</td>\n",
       "      <td>2</td>\n",
       "      <td>-73.997314</td>\n",
       "      <td>40.721458</td>\n",
       "      <td>-73.948029</td>\n",
       "      <td>40.774918</td>\n",
       "      <td>N</td>\n",
       "      <td>1635</td>\n",
       "    </tr>\n",
       "    <tr>\n",
       "      <th>3</th>\n",
       "      <td>id3744273</td>\n",
       "      <td>2</td>\n",
       "      <td>05-01-2016 9:44</td>\n",
       "      <td>05-01-2016 10:03</td>\n",
       "      <td>6</td>\n",
       "      <td>-73.961670</td>\n",
       "      <td>40.759720</td>\n",
       "      <td>-73.956779</td>\n",
       "      <td>40.780628</td>\n",
       "      <td>N</td>\n",
       "      <td>1141</td>\n",
       "    </tr>\n",
       "    <tr>\n",
       "      <th>4</th>\n",
       "      <td>id0232939</td>\n",
       "      <td>1</td>\n",
       "      <td>17-02-2016 6:42</td>\n",
       "      <td>17-02-2016 6:56</td>\n",
       "      <td>1</td>\n",
       "      <td>-74.017120</td>\n",
       "      <td>40.708469</td>\n",
       "      <td>-73.988182</td>\n",
       "      <td>40.740631</td>\n",
       "      <td>N</td>\n",
       "      <td>848</td>\n",
       "    </tr>\n",
       "  </tbody>\n",
       "</table>\n",
       "</div>"
      ],
      "text/plain": [
       "          id  vendor_id   pickup_datetime  dropoff_datetime  passenger_count  \\\n",
       "0  id1080784          2  29-02-2016 16:40  29-02-2016 16:47                1   \n",
       "1  id0889885          1  11-03-2016 23:35  11-03-2016 23:53                2   \n",
       "2  id0857912          2  21-02-2016 17:59  21-02-2016 18:26                2   \n",
       "3  id3744273          2   05-01-2016 9:44  05-01-2016 10:03                6   \n",
       "4  id0232939          1   17-02-2016 6:42   17-02-2016 6:56                1   \n",
       "\n",
       "   pickup_longitude  pickup_latitude  dropoff_longitude  dropoff_latitude  \\\n",
       "0        -73.953918        40.778873         -73.963875         40.771164   \n",
       "1        -73.988312        40.731743         -73.994751         40.694931   \n",
       "2        -73.997314        40.721458         -73.948029         40.774918   \n",
       "3        -73.961670        40.759720         -73.956779         40.780628   \n",
       "4        -74.017120        40.708469         -73.988182         40.740631   \n",
       "\n",
       "  store_and_fwd_flag  trip_duration  \n",
       "0                  N            400  \n",
       "1                  N           1100  \n",
       "2                  N           1635  \n",
       "3                  N           1141  \n",
       "4                  N            848  "
      ]
     },
     "execution_count": 2,
     "metadata": {},
     "output_type": "execute_result"
    }
   ],
   "source": [
    "# Importing the Dataset\n",
    "\n",
    "dataset=pd.read_csv(r\"C:\\Users\\Sarthak Arora\\Analytics Vidhya\\BOOTCAMP CLASSES\\NYC Trip Data Duration\\nyc_taxi_trip_duration.csv\")\n",
    "dataset.drop(columns=[\"Unnamed: 11\",\"Unnamed: 12\"],inplace=True)\n",
    "dataset.head()"
   ]
  },
  {
   "cell_type": "code",
   "execution_count": 3,
   "metadata": {},
   "outputs": [
    {
     "data": {
      "text/plain": [
       "(729322, 11)"
      ]
     },
     "execution_count": 3,
     "metadata": {},
     "output_type": "execute_result"
    }
   ],
   "source": [
    "dataset.shape"
   ]
  },
  {
   "cell_type": "markdown",
   "metadata": {},
   "source": [
    "Our Dataset contains 729322 rows and 11 columns"
   ]
  },
  {
   "cell_type": "code",
   "execution_count": 4,
   "metadata": {},
   "outputs": [
    {
     "data": {
      "text/html": [
       "<div>\n",
       "<style scoped>\n",
       "    .dataframe tbody tr th:only-of-type {\n",
       "        vertical-align: middle;\n",
       "    }\n",
       "\n",
       "    .dataframe tbody tr th {\n",
       "        vertical-align: top;\n",
       "    }\n",
       "\n",
       "    .dataframe thead th {\n",
       "        text-align: right;\n",
       "    }\n",
       "</style>\n",
       "<table border=\"1\" class=\"dataframe\">\n",
       "  <thead>\n",
       "    <tr style=\"text-align: right;\">\n",
       "      <th></th>\n",
       "      <th>passenger_count</th>\n",
       "      <th>trip_duration</th>\n",
       "    </tr>\n",
       "  </thead>\n",
       "  <tbody>\n",
       "    <tr>\n",
       "      <th>count</th>\n",
       "      <td>729322.000000</td>\n",
       "      <td>7.293220e+05</td>\n",
       "    </tr>\n",
       "    <tr>\n",
       "      <th>mean</th>\n",
       "      <td>1.662055</td>\n",
       "      <td>9.522291e+02</td>\n",
       "    </tr>\n",
       "    <tr>\n",
       "      <th>std</th>\n",
       "      <td>1.312446</td>\n",
       "      <td>3.864626e+03</td>\n",
       "    </tr>\n",
       "    <tr>\n",
       "      <th>min</th>\n",
       "      <td>0.000000</td>\n",
       "      <td>1.000000e+00</td>\n",
       "    </tr>\n",
       "    <tr>\n",
       "      <th>25%</th>\n",
       "      <td>1.000000</td>\n",
       "      <td>3.970000e+02</td>\n",
       "    </tr>\n",
       "    <tr>\n",
       "      <th>50%</th>\n",
       "      <td>1.000000</td>\n",
       "      <td>6.630000e+02</td>\n",
       "    </tr>\n",
       "    <tr>\n",
       "      <th>75%</th>\n",
       "      <td>2.000000</td>\n",
       "      <td>1.075000e+03</td>\n",
       "    </tr>\n",
       "    <tr>\n",
       "      <th>max</th>\n",
       "      <td>9.000000</td>\n",
       "      <td>1.939736e+06</td>\n",
       "    </tr>\n",
       "  </tbody>\n",
       "</table>\n",
       "</div>"
      ],
      "text/plain": [
       "       passenger_count  trip_duration\n",
       "count    729322.000000   7.293220e+05\n",
       "mean          1.662055   9.522291e+02\n",
       "std           1.312446   3.864626e+03\n",
       "min           0.000000   1.000000e+00\n",
       "25%           1.000000   3.970000e+02\n",
       "50%           1.000000   6.630000e+02\n",
       "75%           2.000000   1.075000e+03\n",
       "max           9.000000   1.939736e+06"
      ]
     },
     "execution_count": 4,
     "metadata": {},
     "output_type": "execute_result"
    }
   ],
   "source": [
    "dataset[[\"passenger_count\",\"trip_duration\"]].describe()"
   ]
  },
  {
   "cell_type": "code",
   "execution_count": 5,
   "metadata": {},
   "outputs": [
    {
     "data": {
      "text/plain": [
       "id                    0\n",
       "vendor_id             0\n",
       "pickup_datetime       0\n",
       "dropoff_datetime      0\n",
       "passenger_count       0\n",
       "pickup_longitude      0\n",
       "pickup_latitude       0\n",
       "dropoff_longitude     0\n",
       "dropoff_latitude      0\n",
       "store_and_fwd_flag    0\n",
       "trip_duration         0\n",
       "dtype: int64"
      ]
     },
     "execution_count": 5,
     "metadata": {},
     "output_type": "execute_result"
    }
   ],
   "source": [
    "dataset.isnull().sum()"
   ]
  },
  {
   "cell_type": "markdown",
   "metadata": {},
   "source": [
    "Our Data Doesn't have any missing values"
   ]
  },
  {
   "cell_type": "code",
   "execution_count": 6,
   "metadata": {},
   "outputs": [
    {
     "data": {
      "text/plain": [
       "id                     object\n",
       "vendor_id               int64\n",
       "pickup_datetime        object\n",
       "dropoff_datetime       object\n",
       "passenger_count         int64\n",
       "pickup_longitude      float64\n",
       "pickup_latitude       float64\n",
       "dropoff_longitude     float64\n",
       "dropoff_latitude      float64\n",
       "store_and_fwd_flag     object\n",
       "trip_duration           int64\n",
       "dtype: object"
      ]
     },
     "execution_count": 6,
     "metadata": {},
     "output_type": "execute_result"
    }
   ],
   "source": [
    "dataset.dtypes"
   ]
  },
  {
   "cell_type": "markdown",
   "metadata": {},
   "source": [
    "#### Some Datatypes need to be changed-\n",
    "1. vendor_id, store_and_fwd_flag -> categorical\n",
    "2. pickup_datetime, dropoff_datetime -> datetime"
   ]
  },
  {
   "cell_type": "code",
   "execution_count": 7,
   "metadata": {},
   "outputs": [],
   "source": [
    "dataset.pickup_datetime = pd.to_datetime(dataset.pickup_datetime, format=\"%d-%m-%Y %H:%M\")\n",
    "dataset.dropoff_datetime = pd.to_datetime(dataset.dropoff_datetime, format=\"%d-%m-%Y %H:%M\")"
   ]
  },
  {
   "cell_type": "code",
   "execution_count": 8,
   "metadata": {},
   "outputs": [],
   "source": [
    "dataset.vendor_id=dataset[\"vendor_id\"].astype(\"category\")\n",
    "dataset.store_and_fwd_flag=dataset[\"store_and_fwd_flag\"].astype(\"category\")"
   ]
  },
  {
   "cell_type": "code",
   "execution_count": 9,
   "metadata": {},
   "outputs": [
    {
     "data": {
      "text/plain": [
       "id                            object\n",
       "vendor_id                   category\n",
       "pickup_datetime       datetime64[ns]\n",
       "dropoff_datetime      datetime64[ns]\n",
       "passenger_count                int64\n",
       "pickup_longitude             float64\n",
       "pickup_latitude              float64\n",
       "dropoff_longitude            float64\n",
       "dropoff_latitude             float64\n",
       "store_and_fwd_flag          category\n",
       "trip_duration                  int64\n",
       "dtype: object"
      ]
     },
     "execution_count": 9,
     "metadata": {},
     "output_type": "execute_result"
    }
   ],
   "source": [
    "dataset.dtypes"
   ]
  },
  {
   "cell_type": "markdown",
   "metadata": {},
   "source": [
    "### We are creating a new variable which measures the Manhattan distance travelled by the taxi in each trip"
   ]
  },
  {
   "cell_type": "code",
   "execution_count": 10,
   "metadata": {},
   "outputs": [
    {
     "data": {
      "text/html": [
       "<div>\n",
       "<style scoped>\n",
       "    .dataframe tbody tr th:only-of-type {\n",
       "        vertical-align: middle;\n",
       "    }\n",
       "\n",
       "    .dataframe tbody tr th {\n",
       "        vertical-align: top;\n",
       "    }\n",
       "\n",
       "    .dataframe thead th {\n",
       "        text-align: right;\n",
       "    }\n",
       "</style>\n",
       "<table border=\"1\" class=\"dataframe\">\n",
       "  <thead>\n",
       "    <tr style=\"text-align: right;\">\n",
       "      <th></th>\n",
       "      <th>id</th>\n",
       "      <th>vendor_id</th>\n",
       "      <th>pickup_datetime</th>\n",
       "      <th>dropoff_datetime</th>\n",
       "      <th>passenger_count</th>\n",
       "      <th>pickup_longitude</th>\n",
       "      <th>pickup_latitude</th>\n",
       "      <th>dropoff_longitude</th>\n",
       "      <th>dropoff_latitude</th>\n",
       "      <th>store_and_fwd_flag</th>\n",
       "      <th>trip_duration</th>\n",
       "      <th>distance</th>\n",
       "    </tr>\n",
       "  </thead>\n",
       "  <tbody>\n",
       "    <tr>\n",
       "      <th>0</th>\n",
       "      <td>id1080784</td>\n",
       "      <td>2</td>\n",
       "      <td>2016-02-29 16:40:00</td>\n",
       "      <td>2016-02-29 16:47:00</td>\n",
       "      <td>1</td>\n",
       "      <td>-73.953918</td>\n",
       "      <td>40.778873</td>\n",
       "      <td>-73.963875</td>\n",
       "      <td>40.771164</td>\n",
       "      <td>N</td>\n",
       "      <td>400</td>\n",
       "      <td>1106.547604</td>\n",
       "    </tr>\n",
       "    <tr>\n",
       "      <th>1</th>\n",
       "      <td>id0889885</td>\n",
       "      <td>1</td>\n",
       "      <td>2016-03-11 23:35:00</td>\n",
       "      <td>2016-03-11 23:53:00</td>\n",
       "      <td>2</td>\n",
       "      <td>-73.988312</td>\n",
       "      <td>40.731743</td>\n",
       "      <td>-73.994751</td>\n",
       "      <td>40.694931</td>\n",
       "      <td>N</td>\n",
       "      <td>1100</td>\n",
       "      <td>715.684172</td>\n",
       "    </tr>\n",
       "    <tr>\n",
       "      <th>2</th>\n",
       "      <td>id0857912</td>\n",
       "      <td>2</td>\n",
       "      <td>2016-02-21 17:59:00</td>\n",
       "      <td>2016-02-21 18:26:00</td>\n",
       "      <td>2</td>\n",
       "      <td>-73.997314</td>\n",
       "      <td>40.721458</td>\n",
       "      <td>-73.948029</td>\n",
       "      <td>40.774918</td>\n",
       "      <td>N</td>\n",
       "      <td>1635</td>\n",
       "      <td>5477.637988</td>\n",
       "    </tr>\n",
       "    <tr>\n",
       "      <th>3</th>\n",
       "      <td>id3744273</td>\n",
       "      <td>2</td>\n",
       "      <td>2016-01-05 09:44:00</td>\n",
       "      <td>2016-01-05 10:03:00</td>\n",
       "      <td>6</td>\n",
       "      <td>-73.961670</td>\n",
       "      <td>40.759720</td>\n",
       "      <td>-73.956779</td>\n",
       "      <td>40.780628</td>\n",
       "      <td>N</td>\n",
       "      <td>1141</td>\n",
       "      <td>543.539520</td>\n",
       "    </tr>\n",
       "    <tr>\n",
       "      <th>4</th>\n",
       "      <td>id0232939</td>\n",
       "      <td>1</td>\n",
       "      <td>2016-02-17 06:42:00</td>\n",
       "      <td>2016-02-17 06:56:00</td>\n",
       "      <td>1</td>\n",
       "      <td>-74.017120</td>\n",
       "      <td>40.708469</td>\n",
       "      <td>-73.988182</td>\n",
       "      <td>40.740631</td>\n",
       "      <td>N</td>\n",
       "      <td>848</td>\n",
       "      <td>3216.204774</td>\n",
       "    </tr>\n",
       "  </tbody>\n",
       "</table>\n",
       "</div>"
      ],
      "text/plain": [
       "          id vendor_id     pickup_datetime    dropoff_datetime  \\\n",
       "0  id1080784         2 2016-02-29 16:40:00 2016-02-29 16:47:00   \n",
       "1  id0889885         1 2016-03-11 23:35:00 2016-03-11 23:53:00   \n",
       "2  id0857912         2 2016-02-21 17:59:00 2016-02-21 18:26:00   \n",
       "3  id3744273         2 2016-01-05 09:44:00 2016-01-05 10:03:00   \n",
       "4  id0232939         1 2016-02-17 06:42:00 2016-02-17 06:56:00   \n",
       "\n",
       "   passenger_count  pickup_longitude  pickup_latitude  dropoff_longitude  \\\n",
       "0                1        -73.953918        40.778873         -73.963875   \n",
       "1                2        -73.988312        40.731743         -73.994751   \n",
       "2                2        -73.997314        40.721458         -73.948029   \n",
       "3                6        -73.961670        40.759720         -73.956779   \n",
       "4                1        -74.017120        40.708469         -73.988182   \n",
       "\n",
       "   dropoff_latitude store_and_fwd_flag  trip_duration     distance  \n",
       "0         40.771164                  N            400  1106.547604  \n",
       "1         40.694931                  N           1100   715.684172  \n",
       "2         40.774918                  N           1635  5477.637988  \n",
       "3         40.780628                  N           1141   543.539520  \n",
       "4         40.740631                  N            848  3216.204774  "
      ]
     },
     "execution_count": 10,
     "metadata": {},
     "output_type": "execute_result"
    }
   ],
   "source": [
    "dataset[\"distance\"]=111139*abs(dataset.pickup_longitude-dataset.dropoff_longitude)+abs(dataset.pickup_latitude-dataset.dropoff_latitude)\n",
    "dataset.head()"
   ]
  },
  {
   "cell_type": "code",
   "execution_count": 11,
   "metadata": {},
   "outputs": [
    {
     "data": {
      "text/plain": [
       "0          9.958928\n",
       "1          2.342239\n",
       "2         12.060854\n",
       "3          1.714936\n",
       "4         13.653700\n",
       "            ...    \n",
       "729317    17.954202\n",
       "729318     5.911312\n",
       "729319     2.163636\n",
       "729320     6.125573\n",
       "729321    18.794059\n",
       "Name: avg_speed, Length: 729322, dtype: float64"
      ]
     },
     "execution_count": 11,
     "metadata": {},
     "output_type": "execute_result"
    }
   ],
   "source": [
    "dataset[\"avg_speed\"]=dataset[\"distance\"]*60*60/(1000*dataset[\"trip_duration\"])\n",
    "dataset[\"avg_speed\"]"
   ]
  },
  {
   "cell_type": "markdown",
   "metadata": {},
   "source": [
    "### Also, we are creating variables derived from Datetimes given to us"
   ]
  },
  {
   "cell_type": "code",
   "execution_count": 12,
   "metadata": {},
   "outputs": [],
   "source": [
    "dataset['pickup_day_name'] = dataset['pickup_datetime'].dt.day_name()\n",
    "dataset['dropoff_day_name']= dataset['dropoff_datetime'].dt.day_name()"
   ]
  },
  {
   "cell_type": "code",
   "execution_count": 13,
   "metadata": {},
   "outputs": [],
   "source": [
    "dataset['pickup_time'] = dataset['pickup_datetime'].dt.hour\n",
    "dataset['dropoff_time'] = dataset['dropoff_datetime'].dt.hour"
   ]
  },
  {
   "cell_type": "code",
   "execution_count": 14,
   "metadata": {},
   "outputs": [
    {
     "data": {
      "text/html": [
       "<div>\n",
       "<style scoped>\n",
       "    .dataframe tbody tr th:only-of-type {\n",
       "        vertical-align: middle;\n",
       "    }\n",
       "\n",
       "    .dataframe tbody tr th {\n",
       "        vertical-align: top;\n",
       "    }\n",
       "\n",
       "    .dataframe thead th {\n",
       "        text-align: right;\n",
       "    }\n",
       "</style>\n",
       "<table border=\"1\" class=\"dataframe\">\n",
       "  <thead>\n",
       "    <tr style=\"text-align: right;\">\n",
       "      <th></th>\n",
       "      <th>id</th>\n",
       "      <th>vendor_id</th>\n",
       "      <th>pickup_datetime</th>\n",
       "      <th>dropoff_datetime</th>\n",
       "      <th>passenger_count</th>\n",
       "      <th>pickup_longitude</th>\n",
       "      <th>pickup_latitude</th>\n",
       "      <th>dropoff_longitude</th>\n",
       "      <th>dropoff_latitude</th>\n",
       "      <th>store_and_fwd_flag</th>\n",
       "      <th>trip_duration</th>\n",
       "      <th>distance</th>\n",
       "      <th>avg_speed</th>\n",
       "      <th>pickup_day_name</th>\n",
       "      <th>dropoff_day_name</th>\n",
       "      <th>pickup_time</th>\n",
       "      <th>dropoff_time</th>\n",
       "    </tr>\n",
       "  </thead>\n",
       "  <tbody>\n",
       "  </tbody>\n",
       "</table>\n",
       "</div>"
      ],
      "text/plain": [
       "Empty DataFrame\n",
       "Columns: [id, vendor_id, pickup_datetime, dropoff_datetime, passenger_count, pickup_longitude, pickup_latitude, dropoff_longitude, dropoff_latitude, store_and_fwd_flag, trip_duration, distance, avg_speed, pickup_day_name, dropoff_day_name, pickup_time, dropoff_time]\n",
       "Index: []"
      ]
     },
     "execution_count": 14,
     "metadata": {},
     "output_type": "execute_result"
    }
   ],
   "source": [
    "dataset[dataset.pickup_datetime>dataset.dropoff_datetime]"
   ]
  },
  {
   "cell_type": "code",
   "execution_count": 15,
   "metadata": {},
   "outputs": [
    {
     "data": {
      "text/html": [
       "<div>\n",
       "<style scoped>\n",
       "    .dataframe tbody tr th:only-of-type {\n",
       "        vertical-align: middle;\n",
       "    }\n",
       "\n",
       "    .dataframe tbody tr th {\n",
       "        vertical-align: top;\n",
       "    }\n",
       "\n",
       "    .dataframe thead th {\n",
       "        text-align: right;\n",
       "    }\n",
       "</style>\n",
       "<table border=\"1\" class=\"dataframe\">\n",
       "  <thead>\n",
       "    <tr style=\"text-align: right;\">\n",
       "      <th></th>\n",
       "      <th>id</th>\n",
       "      <th>vendor_id</th>\n",
       "      <th>pickup_datetime</th>\n",
       "      <th>dropoff_datetime</th>\n",
       "      <th>passenger_count</th>\n",
       "      <th>pickup_longitude</th>\n",
       "      <th>pickup_latitude</th>\n",
       "      <th>dropoff_longitude</th>\n",
       "      <th>dropoff_latitude</th>\n",
       "      <th>store_and_fwd_flag</th>\n",
       "      <th>trip_duration</th>\n",
       "      <th>distance</th>\n",
       "      <th>avg_speed</th>\n",
       "      <th>pickup_day_name</th>\n",
       "      <th>dropoff_day_name</th>\n",
       "      <th>pickup_time</th>\n",
       "      <th>dropoff_time</th>\n",
       "    </tr>\n",
       "  </thead>\n",
       "  <tbody>\n",
       "    <tr>\n",
       "      <th>0</th>\n",
       "      <td>id1080784</td>\n",
       "      <td>2</td>\n",
       "      <td>2016-02-29 16:40:00</td>\n",
       "      <td>2016-02-29 16:47:00</td>\n",
       "      <td>1</td>\n",
       "      <td>-73.953918</td>\n",
       "      <td>40.778873</td>\n",
       "      <td>-73.963875</td>\n",
       "      <td>40.771164</td>\n",
       "      <td>N</td>\n",
       "      <td>400</td>\n",
       "      <td>1106.547604</td>\n",
       "      <td>9.958928</td>\n",
       "      <td>Monday</td>\n",
       "      <td>Monday</td>\n",
       "      <td>16</td>\n",
       "      <td>16</td>\n",
       "    </tr>\n",
       "    <tr>\n",
       "      <th>1</th>\n",
       "      <td>id0889885</td>\n",
       "      <td>1</td>\n",
       "      <td>2016-03-11 23:35:00</td>\n",
       "      <td>2016-03-11 23:53:00</td>\n",
       "      <td>2</td>\n",
       "      <td>-73.988312</td>\n",
       "      <td>40.731743</td>\n",
       "      <td>-73.994751</td>\n",
       "      <td>40.694931</td>\n",
       "      <td>N</td>\n",
       "      <td>1100</td>\n",
       "      <td>715.684172</td>\n",
       "      <td>2.342239</td>\n",
       "      <td>Friday</td>\n",
       "      <td>Friday</td>\n",
       "      <td>23</td>\n",
       "      <td>23</td>\n",
       "    </tr>\n",
       "    <tr>\n",
       "      <th>2</th>\n",
       "      <td>id0857912</td>\n",
       "      <td>2</td>\n",
       "      <td>2016-02-21 17:59:00</td>\n",
       "      <td>2016-02-21 18:26:00</td>\n",
       "      <td>2</td>\n",
       "      <td>-73.997314</td>\n",
       "      <td>40.721458</td>\n",
       "      <td>-73.948029</td>\n",
       "      <td>40.774918</td>\n",
       "      <td>N</td>\n",
       "      <td>1635</td>\n",
       "      <td>5477.637988</td>\n",
       "      <td>12.060854</td>\n",
       "      <td>Sunday</td>\n",
       "      <td>Sunday</td>\n",
       "      <td>17</td>\n",
       "      <td>18</td>\n",
       "    </tr>\n",
       "    <tr>\n",
       "      <th>3</th>\n",
       "      <td>id3744273</td>\n",
       "      <td>2</td>\n",
       "      <td>2016-01-05 09:44:00</td>\n",
       "      <td>2016-01-05 10:03:00</td>\n",
       "      <td>6</td>\n",
       "      <td>-73.961670</td>\n",
       "      <td>40.759720</td>\n",
       "      <td>-73.956779</td>\n",
       "      <td>40.780628</td>\n",
       "      <td>N</td>\n",
       "      <td>1141</td>\n",
       "      <td>543.539520</td>\n",
       "      <td>1.714936</td>\n",
       "      <td>Tuesday</td>\n",
       "      <td>Tuesday</td>\n",
       "      <td>9</td>\n",
       "      <td>10</td>\n",
       "    </tr>\n",
       "    <tr>\n",
       "      <th>4</th>\n",
       "      <td>id0232939</td>\n",
       "      <td>1</td>\n",
       "      <td>2016-02-17 06:42:00</td>\n",
       "      <td>2016-02-17 06:56:00</td>\n",
       "      <td>1</td>\n",
       "      <td>-74.017120</td>\n",
       "      <td>40.708469</td>\n",
       "      <td>-73.988182</td>\n",
       "      <td>40.740631</td>\n",
       "      <td>N</td>\n",
       "      <td>848</td>\n",
       "      <td>3216.204774</td>\n",
       "      <td>13.653700</td>\n",
       "      <td>Wednesday</td>\n",
       "      <td>Wednesday</td>\n",
       "      <td>6</td>\n",
       "      <td>6</td>\n",
       "    </tr>\n",
       "  </tbody>\n",
       "</table>\n",
       "</div>"
      ],
      "text/plain": [
       "          id vendor_id     pickup_datetime    dropoff_datetime  \\\n",
       "0  id1080784         2 2016-02-29 16:40:00 2016-02-29 16:47:00   \n",
       "1  id0889885         1 2016-03-11 23:35:00 2016-03-11 23:53:00   \n",
       "2  id0857912         2 2016-02-21 17:59:00 2016-02-21 18:26:00   \n",
       "3  id3744273         2 2016-01-05 09:44:00 2016-01-05 10:03:00   \n",
       "4  id0232939         1 2016-02-17 06:42:00 2016-02-17 06:56:00   \n",
       "\n",
       "   passenger_count  pickup_longitude  pickup_latitude  dropoff_longitude  \\\n",
       "0                1        -73.953918        40.778873         -73.963875   \n",
       "1                2        -73.988312        40.731743         -73.994751   \n",
       "2                2        -73.997314        40.721458         -73.948029   \n",
       "3                6        -73.961670        40.759720         -73.956779   \n",
       "4                1        -74.017120        40.708469         -73.988182   \n",
       "\n",
       "   dropoff_latitude store_and_fwd_flag  trip_duration     distance  avg_speed  \\\n",
       "0         40.771164                  N            400  1106.547604   9.958928   \n",
       "1         40.694931                  N           1100   715.684172   2.342239   \n",
       "2         40.774918                  N           1635  5477.637988  12.060854   \n",
       "3         40.780628                  N           1141   543.539520   1.714936   \n",
       "4         40.740631                  N            848  3216.204774  13.653700   \n",
       "\n",
       "  pickup_day_name dropoff_day_name  pickup_time  dropoff_time  \n",
       "0          Monday           Monday           16            16  \n",
       "1          Friday           Friday           23            23  \n",
       "2          Sunday           Sunday           17            18  \n",
       "3         Tuesday          Tuesday            9            10  \n",
       "4       Wednesday        Wednesday            6             6  "
      ]
     },
     "execution_count": 15,
     "metadata": {},
     "output_type": "execute_result"
    }
   ],
   "source": [
    "dataset.head()"
   ]
  },
  {
   "cell_type": "code",
   "execution_count": 16,
   "metadata": {},
   "outputs": [
    {
     "data": {
      "text/html": [
       "<div>\n",
       "<style scoped>\n",
       "    .dataframe tbody tr th:only-of-type {\n",
       "        vertical-align: middle;\n",
       "    }\n",
       "\n",
       "    .dataframe tbody tr th {\n",
       "        vertical-align: top;\n",
       "    }\n",
       "\n",
       "    .dataframe thead th {\n",
       "        text-align: right;\n",
       "    }\n",
       "</style>\n",
       "<table border=\"1\" class=\"dataframe\">\n",
       "  <thead>\n",
       "    <tr style=\"text-align: right;\">\n",
       "      <th></th>\n",
       "      <th>passenger_count</th>\n",
       "      <th>pickup_longitude</th>\n",
       "      <th>pickup_latitude</th>\n",
       "      <th>dropoff_longitude</th>\n",
       "      <th>dropoff_latitude</th>\n",
       "      <th>trip_duration</th>\n",
       "      <th>distance</th>\n",
       "      <th>avg_speed</th>\n",
       "      <th>pickup_time</th>\n",
       "      <th>dropoff_time</th>\n",
       "    </tr>\n",
       "  </thead>\n",
       "  <tbody>\n",
       "    <tr>\n",
       "      <th>count</th>\n",
       "      <td>729322.000000</td>\n",
       "      <td>729322.000000</td>\n",
       "      <td>729322.000000</td>\n",
       "      <td>729322.000000</td>\n",
       "      <td>729322.000000</td>\n",
       "      <td>7.293220e+05</td>\n",
       "      <td>729322.000000</td>\n",
       "      <td>729322.000000</td>\n",
       "      <td>729322.000000</td>\n",
       "      <td>729322.00000</td>\n",
       "    </tr>\n",
       "    <tr>\n",
       "      <th>mean</th>\n",
       "      <td>1.662055</td>\n",
       "      <td>-73.973513</td>\n",
       "      <td>40.750919</td>\n",
       "      <td>-73.973422</td>\n",
       "      <td>40.751775</td>\n",
       "      <td>9.522291e+02</td>\n",
       "      <td>2708.843903</td>\n",
       "      <td>10.629816</td>\n",
       "      <td>13.611698</td>\n",
       "      <td>13.60616</td>\n",
       "    </tr>\n",
       "    <tr>\n",
       "      <th>std</th>\n",
       "      <td>1.312446</td>\n",
       "      <td>0.069754</td>\n",
       "      <td>0.033594</td>\n",
       "      <td>0.069588</td>\n",
       "      <td>0.036037</td>\n",
       "      <td>3.864626e+03</td>\n",
       "      <td>4355.018006</td>\n",
       "      <td>10.711357</td>\n",
       "      <td>6.402853</td>\n",
       "      <td>6.48637</td>\n",
       "    </tr>\n",
       "    <tr>\n",
       "      <th>min</th>\n",
       "      <td>0.000000</td>\n",
       "      <td>-121.933342</td>\n",
       "      <td>34.712234</td>\n",
       "      <td>-121.933304</td>\n",
       "      <td>32.181141</td>\n",
       "      <td>1.000000e+00</td>\n",
       "      <td>0.000000</td>\n",
       "      <td>0.000000</td>\n",
       "      <td>0.000000</td>\n",
       "      <td>0.00000</td>\n",
       "    </tr>\n",
       "    <tr>\n",
       "      <th>25%</th>\n",
       "      <td>1.000000</td>\n",
       "      <td>-73.991859</td>\n",
       "      <td>40.737335</td>\n",
       "      <td>-73.991318</td>\n",
       "      <td>40.735931</td>\n",
       "      <td>3.970000e+02</td>\n",
       "      <td>690.218132</td>\n",
       "      <td>4.802708</td>\n",
       "      <td>9.000000</td>\n",
       "      <td>9.00000</td>\n",
       "    </tr>\n",
       "    <tr>\n",
       "      <th>50%</th>\n",
       "      <td>1.000000</td>\n",
       "      <td>-73.981758</td>\n",
       "      <td>40.754070</td>\n",
       "      <td>-73.979759</td>\n",
       "      <td>40.754509</td>\n",
       "      <td>6.630000e+02</td>\n",
       "      <td>1401.646452</td>\n",
       "      <td>9.042801</td>\n",
       "      <td>14.000000</td>\n",
       "      <td>14.00000</td>\n",
       "    </tr>\n",
       "    <tr>\n",
       "      <th>75%</th>\n",
       "      <td>2.000000</td>\n",
       "      <td>-73.967361</td>\n",
       "      <td>40.768314</td>\n",
       "      <td>-73.963036</td>\n",
       "      <td>40.769741</td>\n",
       "      <td>1.075000e+03</td>\n",
       "      <td>2682.035846</td>\n",
       "      <td>14.087260</td>\n",
       "      <td>19.000000</td>\n",
       "      <td>19.00000</td>\n",
       "    </tr>\n",
       "    <tr>\n",
       "      <th>max</th>\n",
       "      <td>9.000000</td>\n",
       "      <td>-65.897385</td>\n",
       "      <td>51.881084</td>\n",
       "      <td>-65.897385</td>\n",
       "      <td>43.921028</td>\n",
       "      <td>1.939736e+06</td>\n",
       "      <td>660978.356561</td>\n",
       "      <td>4194.190315</td>\n",
       "      <td>23.000000</td>\n",
       "      <td>23.00000</td>\n",
       "    </tr>\n",
       "  </tbody>\n",
       "</table>\n",
       "</div>"
      ],
      "text/plain": [
       "       passenger_count  pickup_longitude  pickup_latitude  dropoff_longitude  \\\n",
       "count    729322.000000     729322.000000    729322.000000      729322.000000   \n",
       "mean          1.662055        -73.973513        40.750919         -73.973422   \n",
       "std           1.312446          0.069754         0.033594           0.069588   \n",
       "min           0.000000       -121.933342        34.712234        -121.933304   \n",
       "25%           1.000000        -73.991859        40.737335         -73.991318   \n",
       "50%           1.000000        -73.981758        40.754070         -73.979759   \n",
       "75%           2.000000        -73.967361        40.768314         -73.963036   \n",
       "max           9.000000        -65.897385        51.881084         -65.897385   \n",
       "\n",
       "       dropoff_latitude  trip_duration       distance      avg_speed  \\\n",
       "count     729322.000000   7.293220e+05  729322.000000  729322.000000   \n",
       "mean          40.751775   9.522291e+02    2708.843903      10.629816   \n",
       "std            0.036037   3.864626e+03    4355.018006      10.711357   \n",
       "min           32.181141   1.000000e+00       0.000000       0.000000   \n",
       "25%           40.735931   3.970000e+02     690.218132       4.802708   \n",
       "50%           40.754509   6.630000e+02    1401.646452       9.042801   \n",
       "75%           40.769741   1.075000e+03    2682.035846      14.087260   \n",
       "max           43.921028   1.939736e+06  660978.356561    4194.190315   \n",
       "\n",
       "         pickup_time  dropoff_time  \n",
       "count  729322.000000  729322.00000  \n",
       "mean       13.611698      13.60616  \n",
       "std         6.402853       6.48637  \n",
       "min         0.000000       0.00000  \n",
       "25%         9.000000       9.00000  \n",
       "50%        14.000000      14.00000  \n",
       "75%        19.000000      19.00000  \n",
       "max        23.000000      23.00000  "
      ]
     },
     "execution_count": 16,
     "metadata": {},
     "output_type": "execute_result"
    }
   ],
   "source": [
    "dataset.describe()"
   ]
  },
  {
   "cell_type": "markdown",
   "metadata": {},
   "source": [
    "### Checking Discrepencies in the Data Set (Data Validation)"
   ]
  },
  {
   "cell_type": "markdown",
   "metadata": {},
   "source": [
    "## **ID**"
   ]
  },
  {
   "cell_type": "code",
   "execution_count": 17,
   "metadata": {},
   "outputs": [
    {
     "data": {
      "text/plain": [
       "729322"
      ]
     },
     "execution_count": 17,
     "metadata": {},
     "output_type": "execute_result"
    }
   ],
   "source": [
    "dataset[\"id\"].nunique()"
   ]
  },
  {
   "cell_type": "markdown",
   "metadata": {},
   "source": [
    "#### Each id uniquely identifies a row\n",
    "<br>\n",
    "We might want to see the patterns within these ids though"
   ]
  },
  {
   "cell_type": "markdown",
   "metadata": {},
   "source": [
    "## **Vendor_ID**"
   ]
  },
  {
   "cell_type": "code",
   "execution_count": 18,
   "metadata": {},
   "outputs": [
    {
     "data": {
      "text/plain": [
       "2    0.535403\n",
       "1    0.464597\n",
       "Name: vendor_id, dtype: float64"
      ]
     },
     "metadata": {},
     "output_type": "display_data"
    },
    {
     "name": "stdout",
     "output_type": "stream",
     "text": [
      "Total- 729322\n"
     ]
    }
   ],
   "source": [
    "display(dataset[\"vendor_id\"].value_counts(normalize=True))\n",
    "print(\"Total- \"+ str(dataset[\"vendor_id\"].value_counts().sum()))"
   ]
  },
  {
   "cell_type": "code",
   "execution_count": 19,
   "metadata": {},
   "outputs": [
    {
     "data": {
      "text/plain": [
       "Text(0.5, 0, 'Vendor ID')"
      ]
     },
     "execution_count": 19,
     "metadata": {},
     "output_type": "execute_result"
    },
    {
     "data": {
      "image/png": "[encoded data removed]",
      "text/plain": [
       "<Figure size 720x504 with 1 Axes>"
      ]
     },
     "metadata": {},
     "output_type": "display_data"
    }
   ],
   "source": [
    "sns.set(palette=\"Set2\")\n",
    "\n",
    "plt.figure(figsize=(10,7))\n",
    "plt.ylim((0.0,0.8))\n",
    "\n",
    "dataset[\"vendor_id\"].value_counts(normalize=True).plot(kind='bar')\n",
    "\n",
    "plt.ylabel(\"Fraction\")\n",
    "plt.xlabel(\"Vendor ID\")"
   ]
  },
  {
   "cell_type": "markdown",
   "metadata": {},
   "source": [
    "#### vendor_id has two unique categories- 1 and 2\n",
    "Vendor 2 gets slightly more rides than Vendor 1"
   ]
  },
  {
   "cell_type": "markdown",
   "metadata": {},
   "source": [
    "## **Passenger_count**"
   ]
  },
  {
   "cell_type": "code",
   "execution_count": 20,
   "metadata": {},
   "outputs": [
    {
     "data": {
      "text/plain": [
       "1    517415\n",
       "2    105097\n",
       "5     38926\n",
       "3     29692\n",
       "6     24107\n",
       "4     14050\n",
       "0        33\n",
       "9         1\n",
       "7         1\n",
       "Name: passenger_count, dtype: int64"
      ]
     },
     "execution_count": 20,
     "metadata": {},
     "output_type": "execute_result"
    }
   ],
   "source": [
    "dataset[\"passenger_count\"].value_counts()"
   ]
  },
  {
   "cell_type": "markdown",
   "metadata": {},
   "source": [
    "### We see that there is passenger_count of 0 as well, what would that mean?\n",
    "We should inspect this "
   ]
  },
  {
   "cell_type": "code",
   "execution_count": 21,
   "metadata": {},
   "outputs": [
    {
     "data": {
      "text/html": [
       "<div>\n",
       "<style scoped>\n",
       "    .dataframe tbody tr th:only-of-type {\n",
       "        vertical-align: middle;\n",
       "    }\n",
       "\n",
       "    .dataframe tbody tr th {\n",
       "        vertical-align: top;\n",
       "    }\n",
       "\n",
       "    .dataframe thead th {\n",
       "        text-align: right;\n",
       "    }\n",
       "</style>\n",
       "<table border=\"1\" class=\"dataframe\">\n",
       "  <thead>\n",
       "    <tr style=\"text-align: right;\">\n",
       "      <th></th>\n",
       "      <th>id</th>\n",
       "      <th>vendor_id</th>\n",
       "      <th>pickup_datetime</th>\n",
       "      <th>dropoff_datetime</th>\n",
       "      <th>passenger_count</th>\n",
       "      <th>pickup_longitude</th>\n",
       "      <th>pickup_latitude</th>\n",
       "      <th>dropoff_longitude</th>\n",
       "      <th>dropoff_latitude</th>\n",
       "      <th>store_and_fwd_flag</th>\n",
       "      <th>trip_duration</th>\n",
       "      <th>distance</th>\n",
       "      <th>avg_speed</th>\n",
       "      <th>pickup_day_name</th>\n",
       "      <th>dropoff_day_name</th>\n",
       "      <th>pickup_time</th>\n",
       "      <th>dropoff_time</th>\n",
       "    </tr>\n",
       "  </thead>\n",
       "  <tbody>\n",
       "    <tr>\n",
       "      <th>3572</th>\n",
       "      <td>id3364866</td>\n",
       "      <td>1</td>\n",
       "      <td>2016-02-13 14:04:00</td>\n",
       "      <td>2016-02-13 14:21:00</td>\n",
       "      <td>0</td>\n",
       "      <td>-73.990479</td>\n",
       "      <td>40.742004</td>\n",
       "      <td>-73.989243</td>\n",
       "      <td>40.763679</td>\n",
       "      <td>N</td>\n",
       "      <td>1029</td>\n",
       "      <td>137.386145</td>\n",
       "      <td>0.480651</td>\n",
       "      <td>Saturday</td>\n",
       "      <td>Saturday</td>\n",
       "      <td>14</td>\n",
       "      <td>14</td>\n",
       "    </tr>\n",
       "    <tr>\n",
       "      <th>23847</th>\n",
       "      <td>id3485118</td>\n",
       "      <td>1</td>\n",
       "      <td>2016-05-11 19:15:00</td>\n",
       "      <td>2016-05-11 19:32:00</td>\n",
       "      <td>0</td>\n",
       "      <td>-73.987572</td>\n",
       "      <td>40.754566</td>\n",
       "      <td>-73.972031</td>\n",
       "      <td>40.762836</td>\n",
       "      <td>N</td>\n",
       "      <td>981</td>\n",
       "      <td>1727.228360</td>\n",
       "      <td>6.338453</td>\n",
       "      <td>Wednesday</td>\n",
       "      <td>Wednesday</td>\n",
       "      <td>19</td>\n",
       "      <td>19</td>\n",
       "    </tr>\n",
       "    <tr>\n",
       "      <th>45987</th>\n",
       "      <td>id2571672</td>\n",
       "      <td>1</td>\n",
       "      <td>2016-03-06 05:24:00</td>\n",
       "      <td>2016-03-06 05:25:00</td>\n",
       "      <td>0</td>\n",
       "      <td>-73.979698</td>\n",
       "      <td>40.761196</td>\n",
       "      <td>-73.979698</td>\n",
       "      <td>40.761196</td>\n",
       "      <td>Y</td>\n",
       "      <td>5</td>\n",
       "      <td>0.000000</td>\n",
       "      <td>0.000000</td>\n",
       "      <td>Sunday</td>\n",
       "      <td>Sunday</td>\n",
       "      <td>5</td>\n",
       "      <td>5</td>\n",
       "    </tr>\n",
       "    <tr>\n",
       "      <th>76998</th>\n",
       "      <td>id1253169</td>\n",
       "      <td>1</td>\n",
       "      <td>2016-02-28 01:08:00</td>\n",
       "      <td>2016-02-28 01:09:00</td>\n",
       "      <td>0</td>\n",
       "      <td>-74.035942</td>\n",
       "      <td>40.736488</td>\n",
       "      <td>-74.035942</td>\n",
       "      <td>40.736492</td>\n",
       "      <td>N</td>\n",
       "      <td>13</td>\n",
       "      <td>0.000004</td>\n",
       "      <td>0.000001</td>\n",
       "      <td>Sunday</td>\n",
       "      <td>Sunday</td>\n",
       "      <td>1</td>\n",
       "      <td>1</td>\n",
       "    </tr>\n",
       "    <tr>\n",
       "      <th>101709</th>\n",
       "      <td>id1220914</td>\n",
       "      <td>2</td>\n",
       "      <td>2016-01-17 20:51:00</td>\n",
       "      <td>2016-01-17 20:52:00</td>\n",
       "      <td>0</td>\n",
       "      <td>-73.959999</td>\n",
       "      <td>40.766861</td>\n",
       "      <td>-73.960106</td>\n",
       "      <td>40.766911</td>\n",
       "      <td>N</td>\n",
       "      <td>48</td>\n",
       "      <td>11.871918</td>\n",
       "      <td>0.890394</td>\n",
       "      <td>Sunday</td>\n",
       "      <td>Sunday</td>\n",
       "      <td>20</td>\n",
       "      <td>20</td>\n",
       "    </tr>\n",
       "  </tbody>\n",
       "</table>\n",
       "</div>"
      ],
      "text/plain": [
       "               id vendor_id     pickup_datetime    dropoff_datetime  \\\n",
       "3572    id3364866         1 2016-02-13 14:04:00 2016-02-13 14:21:00   \n",
       "23847   id3485118         1 2016-05-11 19:15:00 2016-05-11 19:32:00   \n",
       "45987   id2571672         1 2016-03-06 05:24:00 2016-03-06 05:25:00   \n",
       "76998   id1253169         1 2016-02-28 01:08:00 2016-02-28 01:09:00   \n",
       "101709  id1220914         2 2016-01-17 20:51:00 2016-01-17 20:52:00   \n",
       "\n",
       "        passenger_count  pickup_longitude  pickup_latitude  dropoff_longitude  \\\n",
       "3572                  0        -73.990479        40.742004         -73.989243   \n",
       "23847                 0        -73.987572        40.754566         -73.972031   \n",
       "45987                 0        -73.979698        40.761196         -73.979698   \n",
       "76998                 0        -74.035942        40.736488         -74.035942   \n",
       "101709                0        -73.959999        40.766861         -73.960106   \n",
       "\n",
       "        dropoff_latitude store_and_fwd_flag  trip_duration     distance  \\\n",
       "3572           40.763679                  N           1029   137.386145   \n",
       "23847          40.762836                  N            981  1727.228360   \n",
       "45987          40.761196                  Y              5     0.000000   \n",
       "76998          40.736492                  N             13     0.000004   \n",
       "101709         40.766911                  N             48    11.871918   \n",
       "\n",
       "        avg_speed pickup_day_name dropoff_day_name  pickup_time  dropoff_time  \n",
       "3572     0.480651        Saturday         Saturday           14            14  \n",
       "23847    6.338453       Wednesday        Wednesday           19            19  \n",
       "45987    0.000000          Sunday           Sunday            5             5  \n",
       "76998    0.000001          Sunday           Sunday            1             1  \n",
       "101709   0.890394          Sunday           Sunday           20            20  "
      ]
     },
     "execution_count": 21,
     "metadata": {},
     "output_type": "execute_result"
    }
   ],
   "source": [
    "dataset[dataset[\"passenger_count\"]==0].head()"
   ]
  },
  {
   "cell_type": "markdown",
   "metadata": {},
   "source": [
    "There are many trips which have trip_duration less than 10 seconds "
   ]
  },
  {
   "cell_type": "code",
   "execution_count": 22,
   "metadata": {},
   "outputs": [
    {
     "data": {
      "text/html": [
       "<div>\n",
       "<style scoped>\n",
       "    .dataframe tbody tr th:only-of-type {\n",
       "        vertical-align: middle;\n",
       "    }\n",
       "\n",
       "    .dataframe tbody tr th {\n",
       "        vertical-align: top;\n",
       "    }\n",
       "\n",
       "    .dataframe thead th {\n",
       "        text-align: right;\n",
       "    }\n",
       "</style>\n",
       "<table border=\"1\" class=\"dataframe\">\n",
       "  <thead>\n",
       "    <tr style=\"text-align: right;\">\n",
       "      <th></th>\n",
       "      <th>id</th>\n",
       "      <th>vendor_id</th>\n",
       "      <th>pickup_datetime</th>\n",
       "      <th>dropoff_datetime</th>\n",
       "      <th>passenger_count</th>\n",
       "      <th>pickup_longitude</th>\n",
       "      <th>pickup_latitude</th>\n",
       "      <th>dropoff_longitude</th>\n",
       "      <th>dropoff_latitude</th>\n",
       "      <th>store_and_fwd_flag</th>\n",
       "      <th>trip_duration</th>\n",
       "      <th>distance</th>\n",
       "      <th>avg_speed</th>\n",
       "      <th>pickup_day_name</th>\n",
       "      <th>dropoff_day_name</th>\n",
       "      <th>pickup_time</th>\n",
       "      <th>dropoff_time</th>\n",
       "    </tr>\n",
       "  </thead>\n",
       "  <tbody>\n",
       "    <tr>\n",
       "      <th>501596</th>\n",
       "      <td>id3066152</td>\n",
       "      <td>1</td>\n",
       "      <td>2016-02-01 00:27:00</td>\n",
       "      <td>2016-02-01 00:27:00</td>\n",
       "      <td>0</td>\n",
       "      <td>-74.014488</td>\n",
       "      <td>40.708229</td>\n",
       "      <td>-74.014488</td>\n",
       "      <td>40.708229</td>\n",
       "      <td>N</td>\n",
       "      <td>45</td>\n",
       "      <td>0.0</td>\n",
       "      <td>0.0</td>\n",
       "      <td>Monday</td>\n",
       "      <td>Monday</td>\n",
       "      <td>0</td>\n",
       "      <td>0</td>\n",
       "    </tr>\n",
       "    <tr>\n",
       "      <th>592303</th>\n",
       "      <td>id2154895</td>\n",
       "      <td>1</td>\n",
       "      <td>2016-05-23 23:37:00</td>\n",
       "      <td>2016-05-23 23:37:00</td>\n",
       "      <td>0</td>\n",
       "      <td>-73.861633</td>\n",
       "      <td>40.705029</td>\n",
       "      <td>-73.861633</td>\n",
       "      <td>40.705029</td>\n",
       "      <td>N</td>\n",
       "      <td>8</td>\n",
       "      <td>0.0</td>\n",
       "      <td>0.0</td>\n",
       "      <td>Monday</td>\n",
       "      <td>Monday</td>\n",
       "      <td>23</td>\n",
       "      <td>23</td>\n",
       "    </tr>\n",
       "    <tr>\n",
       "      <th>45987</th>\n",
       "      <td>id2571672</td>\n",
       "      <td>1</td>\n",
       "      <td>2016-03-06 05:24:00</td>\n",
       "      <td>2016-03-06 05:25:00</td>\n",
       "      <td>0</td>\n",
       "      <td>-73.979698</td>\n",
       "      <td>40.761196</td>\n",
       "      <td>-73.979698</td>\n",
       "      <td>40.761196</td>\n",
       "      <td>Y</td>\n",
       "      <td>5</td>\n",
       "      <td>0.0</td>\n",
       "      <td>0.0</td>\n",
       "      <td>Sunday</td>\n",
       "      <td>Sunday</td>\n",
       "      <td>5</td>\n",
       "      <td>5</td>\n",
       "    </tr>\n",
       "    <tr>\n",
       "      <th>568782</th>\n",
       "      <td>id3533680</td>\n",
       "      <td>1</td>\n",
       "      <td>2016-01-10 04:17:00</td>\n",
       "      <td>2016-01-10 04:17:00</td>\n",
       "      <td>0</td>\n",
       "      <td>-73.993195</td>\n",
       "      <td>40.598701</td>\n",
       "      <td>-73.993195</td>\n",
       "      <td>40.598701</td>\n",
       "      <td>N</td>\n",
       "      <td>3</td>\n",
       "      <td>0.0</td>\n",
       "      <td>0.0</td>\n",
       "      <td>Sunday</td>\n",
       "      <td>Sunday</td>\n",
       "      <td>4</td>\n",
       "      <td>4</td>\n",
       "    </tr>\n",
       "    <tr>\n",
       "      <th>541539</th>\n",
       "      <td>id1610720</td>\n",
       "      <td>2</td>\n",
       "      <td>2016-03-13 14:08:00</td>\n",
       "      <td>2016-03-13 14:08:00</td>\n",
       "      <td>0</td>\n",
       "      <td>-73.922081</td>\n",
       "      <td>40.636040</td>\n",
       "      <td>-73.922081</td>\n",
       "      <td>40.636040</td>\n",
       "      <td>N</td>\n",
       "      <td>8</td>\n",
       "      <td>0.0</td>\n",
       "      <td>0.0</td>\n",
       "      <td>Sunday</td>\n",
       "      <td>Sunday</td>\n",
       "      <td>14</td>\n",
       "      <td>14</td>\n",
       "    </tr>\n",
       "  </tbody>\n",
       "</table>\n",
       "</div>"
      ],
      "text/plain": [
       "               id vendor_id     pickup_datetime    dropoff_datetime  \\\n",
       "501596  id3066152         1 2016-02-01 00:27:00 2016-02-01 00:27:00   \n",
       "592303  id2154895         1 2016-05-23 23:37:00 2016-05-23 23:37:00   \n",
       "45987   id2571672         1 2016-03-06 05:24:00 2016-03-06 05:25:00   \n",
       "568782  id3533680         1 2016-01-10 04:17:00 2016-01-10 04:17:00   \n",
       "541539  id1610720         2 2016-03-13 14:08:00 2016-03-13 14:08:00   \n",
       "\n",
       "        passenger_count  pickup_longitude  pickup_latitude  dropoff_longitude  \\\n",
       "501596                0        -74.014488        40.708229         -74.014488   \n",
       "592303                0        -73.861633        40.705029         -73.861633   \n",
       "45987                 0        -73.979698        40.761196         -73.979698   \n",
       "568782                0        -73.993195        40.598701         -73.993195   \n",
       "541539                0        -73.922081        40.636040         -73.922081   \n",
       "\n",
       "        dropoff_latitude store_and_fwd_flag  trip_duration  distance  \\\n",
       "501596         40.708229                  N             45       0.0   \n",
       "592303         40.705029                  N              8       0.0   \n",
       "45987          40.761196                  Y              5       0.0   \n",
       "568782         40.598701                  N              3       0.0   \n",
       "541539         40.636040                  N              8       0.0   \n",
       "\n",
       "        avg_speed pickup_day_name dropoff_day_name  pickup_time  dropoff_time  \n",
       "501596        0.0          Monday           Monday            0             0  \n",
       "592303        0.0          Monday           Monday           23            23  \n",
       "45987         0.0          Sunday           Sunday            5             5  \n",
       "568782        0.0          Sunday           Sunday            4             4  \n",
       "541539        0.0          Sunday           Sunday           14            14  "
      ]
     },
     "execution_count": 22,
     "metadata": {},
     "output_type": "execute_result"
    }
   ],
   "source": [
    "dataset[dataset[\"passenger_count\"]==0].sort_values(\"distance\").head()"
   ]
  },
  {
   "cell_type": "markdown",
   "metadata": {},
   "source": [
    "There are many which covered 0 metres, maybe trip was started by mistake and then realised by the driver later"
   ]
  },
  {
   "cell_type": "code",
   "execution_count": 23,
   "metadata": {},
   "outputs": [
    {
     "data": {
      "text/html": [
       "<div>\n",
       "<style scoped>\n",
       "    .dataframe tbody tr th:only-of-type {\n",
       "        vertical-align: middle;\n",
       "    }\n",
       "\n",
       "    .dataframe tbody tr th {\n",
       "        vertical-align: top;\n",
       "    }\n",
       "\n",
       "    .dataframe thead th {\n",
       "        text-align: right;\n",
       "    }\n",
       "</style>\n",
       "<table border=\"1\" class=\"dataframe\">\n",
       "  <thead>\n",
       "    <tr style=\"text-align: right;\">\n",
       "      <th></th>\n",
       "      <th>id</th>\n",
       "      <th>vendor_id</th>\n",
       "      <th>pickup_datetime</th>\n",
       "      <th>dropoff_datetime</th>\n",
       "      <th>passenger_count</th>\n",
       "      <th>pickup_longitude</th>\n",
       "      <th>pickup_latitude</th>\n",
       "      <th>dropoff_longitude</th>\n",
       "      <th>dropoff_latitude</th>\n",
       "      <th>store_and_fwd_flag</th>\n",
       "      <th>trip_duration</th>\n",
       "      <th>distance</th>\n",
       "      <th>avg_speed</th>\n",
       "      <th>pickup_day_name</th>\n",
       "      <th>dropoff_day_name</th>\n",
       "      <th>pickup_time</th>\n",
       "      <th>dropoff_time</th>\n",
       "    </tr>\n",
       "  </thead>\n",
       "  <tbody>\n",
       "    <tr>\n",
       "      <th>195197</th>\n",
       "      <td>id2251007</td>\n",
       "      <td>2</td>\n",
       "      <td>2016-05-23 14:20:00</td>\n",
       "      <td>2016-05-23 14:20:00</td>\n",
       "      <td>1</td>\n",
       "      <td>-73.781830</td>\n",
       "      <td>40.644699</td>\n",
       "      <td>-73.781830</td>\n",
       "      <td>40.644699</td>\n",
       "      <td>N</td>\n",
       "      <td>8</td>\n",
       "      <td>0.0</td>\n",
       "      <td>0.0</td>\n",
       "      <td>Monday</td>\n",
       "      <td>Monday</td>\n",
       "      <td>14</td>\n",
       "      <td>14</td>\n",
       "    </tr>\n",
       "    <tr>\n",
       "      <th>543304</th>\n",
       "      <td>id3062678</td>\n",
       "      <td>1</td>\n",
       "      <td>2016-04-06 21:38:00</td>\n",
       "      <td>2016-04-06 21:38:00</td>\n",
       "      <td>1</td>\n",
       "      <td>-73.982010</td>\n",
       "      <td>40.757099</td>\n",
       "      <td>-73.982010</td>\n",
       "      <td>40.757099</td>\n",
       "      <td>N</td>\n",
       "      <td>4</td>\n",
       "      <td>0.0</td>\n",
       "      <td>0.0</td>\n",
       "      <td>Wednesday</td>\n",
       "      <td>Wednesday</td>\n",
       "      <td>21</td>\n",
       "      <td>21</td>\n",
       "    </tr>\n",
       "    <tr>\n",
       "      <th>443300</th>\n",
       "      <td>id2509635</td>\n",
       "      <td>1</td>\n",
       "      <td>2016-03-07 10:52:00</td>\n",
       "      <td>2016-03-07 10:52:00</td>\n",
       "      <td>1</td>\n",
       "      <td>-73.790337</td>\n",
       "      <td>40.643955</td>\n",
       "      <td>-73.790337</td>\n",
       "      <td>40.643955</td>\n",
       "      <td>N</td>\n",
       "      <td>2</td>\n",
       "      <td>0.0</td>\n",
       "      <td>0.0</td>\n",
       "      <td>Monday</td>\n",
       "      <td>Monday</td>\n",
       "      <td>10</td>\n",
       "      <td>10</td>\n",
       "    </tr>\n",
       "    <tr>\n",
       "      <th>301923</th>\n",
       "      <td>id1792292</td>\n",
       "      <td>1</td>\n",
       "      <td>2016-06-30 18:09:00</td>\n",
       "      <td>2016-06-30 18:09:00</td>\n",
       "      <td>1</td>\n",
       "      <td>-73.794342</td>\n",
       "      <td>40.657082</td>\n",
       "      <td>-73.794342</td>\n",
       "      <td>40.657082</td>\n",
       "      <td>N</td>\n",
       "      <td>2</td>\n",
       "      <td>0.0</td>\n",
       "      <td>0.0</td>\n",
       "      <td>Thursday</td>\n",
       "      <td>Thursday</td>\n",
       "      <td>18</td>\n",
       "      <td>18</td>\n",
       "    </tr>\n",
       "    <tr>\n",
       "      <th>547110</th>\n",
       "      <td>id1189877</td>\n",
       "      <td>1</td>\n",
       "      <td>2016-04-06 12:35:00</td>\n",
       "      <td>2016-04-06 12:35:00</td>\n",
       "      <td>1</td>\n",
       "      <td>-73.891350</td>\n",
       "      <td>40.646751</td>\n",
       "      <td>-73.891350</td>\n",
       "      <td>40.646751</td>\n",
       "      <td>N</td>\n",
       "      <td>5</td>\n",
       "      <td>0.0</td>\n",
       "      <td>0.0</td>\n",
       "      <td>Wednesday</td>\n",
       "      <td>Wednesday</td>\n",
       "      <td>12</td>\n",
       "      <td>12</td>\n",
       "    </tr>\n",
       "  </tbody>\n",
       "</table>\n",
       "</div>"
      ],
      "text/plain": [
       "               id vendor_id     pickup_datetime    dropoff_datetime  \\\n",
       "195197  id2251007         2 2016-05-23 14:20:00 2016-05-23 14:20:00   \n",
       "543304  id3062678         1 2016-04-06 21:38:00 2016-04-06 21:38:00   \n",
       "443300  id2509635         1 2016-03-07 10:52:00 2016-03-07 10:52:00   \n",
       "301923  id1792292         1 2016-06-30 18:09:00 2016-06-30 18:09:00   \n",
       "547110  id1189877         1 2016-04-06 12:35:00 2016-04-06 12:35:00   \n",
       "\n",
       "        passenger_count  pickup_longitude  pickup_latitude  dropoff_longitude  \\\n",
       "195197                1        -73.781830        40.644699         -73.781830   \n",
       "543304                1        -73.982010        40.757099         -73.982010   \n",
       "443300                1        -73.790337        40.643955         -73.790337   \n",
       "301923                1        -73.794342        40.657082         -73.794342   \n",
       "547110                1        -73.891350        40.646751         -73.891350   \n",
       "\n",
       "        dropoff_latitude store_and_fwd_flag  trip_duration  distance  \\\n",
       "195197         40.644699                  N              8       0.0   \n",
       "543304         40.757099                  N              4       0.0   \n",
       "443300         40.643955                  N              2       0.0   \n",
       "301923         40.657082                  N              2       0.0   \n",
       "547110         40.646751                  N              5       0.0   \n",
       "\n",
       "        avg_speed pickup_day_name dropoff_day_name  pickup_time  dropoff_time  \n",
       "195197        0.0          Monday           Monday           14            14  \n",
       "543304        0.0       Wednesday        Wednesday           21            21  \n",
       "443300        0.0          Monday           Monday           10            10  \n",
       "301923        0.0        Thursday         Thursday           18            18  \n",
       "547110        0.0       Wednesday        Wednesday           12            12  "
      ]
     },
     "execution_count": 23,
     "metadata": {},
     "output_type": "execute_result"
    }
   ],
   "source": [
    "dataset[dataset[\"trip_duration\"]<10].sort_values(\"distance\").head(5)"
   ]
  },
  {
   "cell_type": "code",
   "execution_count": 24,
   "metadata": {},
   "outputs": [
    {
     "data": {
      "text/html": [
       "<div>\n",
       "<style scoped>\n",
       "    .dataframe tbody tr th:only-of-type {\n",
       "        vertical-align: middle;\n",
       "    }\n",
       "\n",
       "    .dataframe tbody tr th {\n",
       "        vertical-align: top;\n",
       "    }\n",
       "\n",
       "    .dataframe thead th {\n",
       "        text-align: right;\n",
       "    }\n",
       "</style>\n",
       "<table border=\"1\" class=\"dataframe\">\n",
       "  <thead>\n",
       "    <tr style=\"text-align: right;\">\n",
       "      <th></th>\n",
       "      <th>passenger_count</th>\n",
       "      <th>count</th>\n",
       "    </tr>\n",
       "  </thead>\n",
       "  <tbody>\n",
       "    <tr>\n",
       "      <th>6</th>\n",
       "      <td>0</td>\n",
       "      <td>0.000045</td>\n",
       "    </tr>\n",
       "    <tr>\n",
       "      <th>0</th>\n",
       "      <td>1</td>\n",
       "      <td>0.709447</td>\n",
       "    </tr>\n",
       "    <tr>\n",
       "      <th>1</th>\n",
       "      <td>2</td>\n",
       "      <td>0.144102</td>\n",
       "    </tr>\n",
       "    <tr>\n",
       "      <th>3</th>\n",
       "      <td>3</td>\n",
       "      <td>0.040712</td>\n",
       "    </tr>\n",
       "    <tr>\n",
       "      <th>5</th>\n",
       "      <td>4</td>\n",
       "      <td>0.019264</td>\n",
       "    </tr>\n",
       "    <tr>\n",
       "      <th>2</th>\n",
       "      <td>5</td>\n",
       "      <td>0.053373</td>\n",
       "    </tr>\n",
       "    <tr>\n",
       "      <th>4</th>\n",
       "      <td>6</td>\n",
       "      <td>0.033054</td>\n",
       "    </tr>\n",
       "    <tr>\n",
       "      <th>8</th>\n",
       "      <td>7</td>\n",
       "      <td>0.000001</td>\n",
       "    </tr>\n",
       "    <tr>\n",
       "      <th>7</th>\n",
       "      <td>9</td>\n",
       "      <td>0.000001</td>\n",
       "    </tr>\n",
       "  </tbody>\n",
       "</table>\n",
       "</div>"
      ],
      "text/plain": [
       "   passenger_count     count\n",
       "6                0  0.000045\n",
       "0                1  0.709447\n",
       "1                2  0.144102\n",
       "3                3  0.040712\n",
       "5                4  0.019264\n",
       "2                5  0.053373\n",
       "4                6  0.033054\n",
       "8                7  0.000001\n",
       "7                9  0.000001"
      ]
     },
     "execution_count": 24,
     "metadata": {},
     "output_type": "execute_result"
    }
   ],
   "source": [
    "xy=dataset[\"passenger_count\"].value_counts().to_frame().reset_index()\n",
    "xy=xy.rename(columns={\"passenger_count\":\"count\",\"index\":\"passenger_count\"})\n",
    "xy=xy.sort_values(by=\"passenger_count\")\n",
    "xy[\"count\"]=xy[\"count\"]/dataset.shape[0]\n",
    "xy"
   ]
  },
  {
   "cell_type": "code",
   "execution_count": 25,
   "metadata": {},
   "outputs": [
    {
     "data": {
      "text/plain": [
       "<matplotlib.axes._subplots.AxesSubplot at 0x29d989f6ac8>"
      ]
     },
     "execution_count": 25,
     "metadata": {},
     "output_type": "execute_result"
    },
    {
     "data": {
      "image/png": "[encoded data removed]",
      "text/plain": [
       "<Figure size 720x504 with 1 Axes>"
      ]
     },
     "metadata": {},
     "output_type": "display_data"
    }
   ],
   "source": [
    "sns.set(palette=\"Set2\")\n",
    "plt.figure(figsize=(10,7))\n",
    "\n",
    "sns.barplot(data=xy, y=\"count\",x=\"passenger_count\")"
   ]
  },
  {
   "cell_type": "markdown",
   "metadata": {},
   "source": [
    "Around 71% of rides have only one passenger where as 14.5% have 2 passengers.\n",
    "\n",
    "There are rides with 0,7 and 9 passengers as well.\n",
    "We still have to investigate what is up with 0 passenger list.\n",
    "\n",
    "We can also infer that people who carpool are very less."
   ]
  },
  {
   "cell_type": "code",
   "execution_count": 26,
   "metadata": {},
   "outputs": [
    {
     "data": {
      "text/plain": [
       "N    0.994461\n",
       "Y    0.005539\n",
       "Name: store_and_fwd_flag, dtype: float64"
      ]
     },
     "metadata": {},
     "output_type": "display_data"
    }
   ],
   "source": [
    "display(dataset[\"store_and_fwd_flag\"].value_counts(normalize=True))"
   ]
  },
  {
   "cell_type": "code",
   "execution_count": 27,
   "metadata": {},
   "outputs": [
    {
     "data": {
      "text/plain": [
       "Text(0.5, 0, 'store_and_fwd_flag')"
      ]
     },
     "execution_count": 27,
     "metadata": {},
     "output_type": "execute_result"
    },
    {
     "data": {
      "image/png": "[encoded data removed]",
      "text/plain": [
       "<Figure size 720x504 with 1 Axes>"
      ]
     },
     "metadata": {},
     "output_type": "display_data"
    }
   ],
   "source": [
    "sns.set(palette=\"Set2\")\n",
    "plt.figure(figsize=(10,7))\n",
    "plt.ylim((0.0,1.0))\n",
    "\n",
    "dataset[\"store_and_fwd_flag\"].value_counts(normalize=True).plot(kind='bar')\n",
    "\n",
    "plt.ylabel(\"Fraction\")\n",
    "plt.xlabel(\"store_and_fwd_flag\")"
   ]
  },
  {
   "cell_type": "markdown",
   "metadata": {},
   "source": [
    "### 99.45 % of rides did not have any internet connection problems\n",
    "Maybe the rest 0.55% of rides were intercity or to remote areas.\n",
    "We should check if the 'Y' flagged have travelled more distance and hence the average time taken for the ride is more?"
   ]
  },
  {
   "cell_type": "markdown",
   "metadata": {},
   "source": [
    "## **Distance**"
   ]
  },
  {
   "cell_type": "code",
   "execution_count": 28,
   "metadata": {},
   "outputs": [
    {
     "data": {
      "text/plain": [
       "0         1106.547604\n",
       "1          715.684172\n",
       "2         5477.637988\n",
       "3          543.539520\n",
       "4         3216.204774\n",
       "             ...     \n",
       "729317    1476.234374\n",
       "729318     517.239761\n",
       "729319     404.479760\n",
       "729320     760.591984\n",
       "729321    6389.980029\n",
       "Name: distance, Length: 729322, dtype: float64"
      ]
     },
     "execution_count": 28,
     "metadata": {},
     "output_type": "execute_result"
    }
   ],
   "source": [
    "dataset[\"distance\"]"
   ]
  },
  {
   "cell_type": "code",
   "execution_count": 29,
   "metadata": {},
   "outputs": [
    {
     "data": {
      "text/plain": [
       "count    729322.000000\n",
       "mean       2708.843903\n",
       "std        4355.018006\n",
       "min           0.000000\n",
       "25%         690.218132\n",
       "50%        1401.646452\n",
       "75%        2682.035846\n",
       "max      660978.356561\n",
       "Name: distance, dtype: float64"
      ]
     },
     "execution_count": 29,
     "metadata": {},
     "output_type": "execute_result"
    }
   ],
   "source": [
    "dataset.distance.describe()"
   ]
  },
  {
   "cell_type": "code",
   "execution_count": 30,
   "metadata": {},
   "outputs": [
    {
     "data": {
      "text/html": [
       "<div>\n",
       "<style scoped>\n",
       "    .dataframe tbody tr th:only-of-type {\n",
       "        vertical-align: middle;\n",
       "    }\n",
       "\n",
       "    .dataframe tbody tr th {\n",
       "        vertical-align: top;\n",
       "    }\n",
       "\n",
       "    .dataframe thead th {\n",
       "        text-align: right;\n",
       "    }\n",
       "</style>\n",
       "<table border=\"1\" class=\"dataframe\">\n",
       "  <thead>\n",
       "    <tr style=\"text-align: right;\">\n",
       "      <th></th>\n",
       "      <th>id</th>\n",
       "      <th>vendor_id</th>\n",
       "      <th>pickup_datetime</th>\n",
       "      <th>dropoff_datetime</th>\n",
       "      <th>passenger_count</th>\n",
       "      <th>pickup_longitude</th>\n",
       "      <th>pickup_latitude</th>\n",
       "      <th>dropoff_longitude</th>\n",
       "      <th>dropoff_latitude</th>\n",
       "      <th>store_and_fwd_flag</th>\n",
       "      <th>trip_duration</th>\n",
       "      <th>distance</th>\n",
       "      <th>avg_speed</th>\n",
       "      <th>pickup_day_name</th>\n",
       "      <th>dropoff_day_name</th>\n",
       "      <th>pickup_time</th>\n",
       "      <th>dropoff_time</th>\n",
       "    </tr>\n",
       "  </thead>\n",
       "  <tbody>\n",
       "    <tr>\n",
       "      <th>263</th>\n",
       "      <td>id3155891</td>\n",
       "      <td>2</td>\n",
       "      <td>2016-06-28 11:21:00</td>\n",
       "      <td>2016-06-28 11:25:00</td>\n",
       "      <td>2</td>\n",
       "      <td>-73.996422</td>\n",
       "      <td>40.298828</td>\n",
       "      <td>-73.996422</td>\n",
       "      <td>40.298828</td>\n",
       "      <td>N</td>\n",
       "      <td>240</td>\n",
       "      <td>0.0</td>\n",
       "      <td>0.0</td>\n",
       "      <td>Tuesday</td>\n",
       "      <td>Tuesday</td>\n",
       "      <td>11</td>\n",
       "      <td>11</td>\n",
       "    </tr>\n",
       "    <tr>\n",
       "      <th>327</th>\n",
       "      <td>id0786923</td>\n",
       "      <td>2</td>\n",
       "      <td>2016-03-26 13:34:00</td>\n",
       "      <td>2016-03-26 13:37:00</td>\n",
       "      <td>1</td>\n",
       "      <td>-73.996323</td>\n",
       "      <td>40.753460</td>\n",
       "      <td>-73.996323</td>\n",
       "      <td>40.753460</td>\n",
       "      <td>N</td>\n",
       "      <td>159</td>\n",
       "      <td>0.0</td>\n",
       "      <td>0.0</td>\n",
       "      <td>Saturday</td>\n",
       "      <td>Saturday</td>\n",
       "      <td>13</td>\n",
       "      <td>13</td>\n",
       "    </tr>\n",
       "    <tr>\n",
       "      <th>795</th>\n",
       "      <td>id2323213</td>\n",
       "      <td>2</td>\n",
       "      <td>2016-06-13 16:49:00</td>\n",
       "      <td>2016-06-13 17:04:00</td>\n",
       "      <td>5</td>\n",
       "      <td>-73.967171</td>\n",
       "      <td>40.763500</td>\n",
       "      <td>-73.967171</td>\n",
       "      <td>40.763500</td>\n",
       "      <td>N</td>\n",
       "      <td>897</td>\n",
       "      <td>0.0</td>\n",
       "      <td>0.0</td>\n",
       "      <td>Monday</td>\n",
       "      <td>Monday</td>\n",
       "      <td>16</td>\n",
       "      <td>17</td>\n",
       "    </tr>\n",
       "    <tr>\n",
       "      <th>1176</th>\n",
       "      <td>id3235868</td>\n",
       "      <td>1</td>\n",
       "      <td>2016-02-29 21:39:00</td>\n",
       "      <td>2016-02-29 21:44:00</td>\n",
       "      <td>1</td>\n",
       "      <td>-73.995232</td>\n",
       "      <td>40.744038</td>\n",
       "      <td>-73.995232</td>\n",
       "      <td>40.744038</td>\n",
       "      <td>N</td>\n",
       "      <td>256</td>\n",
       "      <td>0.0</td>\n",
       "      <td>0.0</td>\n",
       "      <td>Monday</td>\n",
       "      <td>Monday</td>\n",
       "      <td>21</td>\n",
       "      <td>21</td>\n",
       "    </tr>\n",
       "    <tr>\n",
       "      <th>1257</th>\n",
       "      <td>id1865738</td>\n",
       "      <td>2</td>\n",
       "      <td>2016-03-13 11:38:00</td>\n",
       "      <td>2016-03-13 12:00:00</td>\n",
       "      <td>2</td>\n",
       "      <td>-73.912781</td>\n",
       "      <td>40.804428</td>\n",
       "      <td>-73.912781</td>\n",
       "      <td>40.804428</td>\n",
       "      <td>N</td>\n",
       "      <td>1330</td>\n",
       "      <td>0.0</td>\n",
       "      <td>0.0</td>\n",
       "      <td>Sunday</td>\n",
       "      <td>Sunday</td>\n",
       "      <td>11</td>\n",
       "      <td>12</td>\n",
       "    </tr>\n",
       "    <tr>\n",
       "      <th>...</th>\n",
       "      <td>...</td>\n",
       "      <td>...</td>\n",
       "      <td>...</td>\n",
       "      <td>...</td>\n",
       "      <td>...</td>\n",
       "      <td>...</td>\n",
       "      <td>...</td>\n",
       "      <td>...</td>\n",
       "      <td>...</td>\n",
       "      <td>...</td>\n",
       "      <td>...</td>\n",
       "      <td>...</td>\n",
       "      <td>...</td>\n",
       "      <td>...</td>\n",
       "      <td>...</td>\n",
       "      <td>...</td>\n",
       "      <td>...</td>\n",
       "    </tr>\n",
       "    <tr>\n",
       "      <th>728720</th>\n",
       "      <td>id3423342</td>\n",
       "      <td>2</td>\n",
       "      <td>2016-05-05 21:32:00</td>\n",
       "      <td>2016-05-05 21:32:00</td>\n",
       "      <td>2</td>\n",
       "      <td>-73.977898</td>\n",
       "      <td>40.766392</td>\n",
       "      <td>-73.977898</td>\n",
       "      <td>40.766392</td>\n",
       "      <td>N</td>\n",
       "      <td>14</td>\n",
       "      <td>0.0</td>\n",
       "      <td>0.0</td>\n",
       "      <td>Thursday</td>\n",
       "      <td>Thursday</td>\n",
       "      <td>21</td>\n",
       "      <td>21</td>\n",
       "    </tr>\n",
       "    <tr>\n",
       "      <th>728775</th>\n",
       "      <td>id2618105</td>\n",
       "      <td>2</td>\n",
       "      <td>2016-03-13 20:06:00</td>\n",
       "      <td>2016-03-13 20:14:00</td>\n",
       "      <td>1</td>\n",
       "      <td>-73.974258</td>\n",
       "      <td>40.759895</td>\n",
       "      <td>-73.974258</td>\n",
       "      <td>40.759895</td>\n",
       "      <td>N</td>\n",
       "      <td>464</td>\n",
       "      <td>0.0</td>\n",
       "      <td>0.0</td>\n",
       "      <td>Sunday</td>\n",
       "      <td>Sunday</td>\n",
       "      <td>20</td>\n",
       "      <td>20</td>\n",
       "    </tr>\n",
       "    <tr>\n",
       "      <th>728838</th>\n",
       "      <td>id1232120</td>\n",
       "      <td>2</td>\n",
       "      <td>2016-05-29 04:04:00</td>\n",
       "      <td>2016-05-29 04:11:00</td>\n",
       "      <td>2</td>\n",
       "      <td>-73.984558</td>\n",
       "      <td>40.750839</td>\n",
       "      <td>-73.984558</td>\n",
       "      <td>40.750839</td>\n",
       "      <td>N</td>\n",
       "      <td>421</td>\n",
       "      <td>0.0</td>\n",
       "      <td>0.0</td>\n",
       "      <td>Sunday</td>\n",
       "      <td>Sunday</td>\n",
       "      <td>4</td>\n",
       "      <td>4</td>\n",
       "    </tr>\n",
       "    <tr>\n",
       "      <th>729025</th>\n",
       "      <td>id3524028</td>\n",
       "      <td>2</td>\n",
       "      <td>2016-04-06 18:03:00</td>\n",
       "      <td>2016-04-06 18:26:00</td>\n",
       "      <td>1</td>\n",
       "      <td>-74.083611</td>\n",
       "      <td>40.632401</td>\n",
       "      <td>-74.083611</td>\n",
       "      <td>40.632401</td>\n",
       "      <td>N</td>\n",
       "      <td>1369</td>\n",
       "      <td>0.0</td>\n",
       "      <td>0.0</td>\n",
       "      <td>Wednesday</td>\n",
       "      <td>Wednesday</td>\n",
       "      <td>18</td>\n",
       "      <td>18</td>\n",
       "    </tr>\n",
       "    <tr>\n",
       "      <th>729308</th>\n",
       "      <td>id3477255</td>\n",
       "      <td>2</td>\n",
       "      <td>2016-01-20 08:22:00</td>\n",
       "      <td>2016-01-20 08:47:00</td>\n",
       "      <td>1</td>\n",
       "      <td>-73.977859</td>\n",
       "      <td>40.749538</td>\n",
       "      <td>-73.977859</td>\n",
       "      <td>40.749538</td>\n",
       "      <td>N</td>\n",
       "      <td>1497</td>\n",
       "      <td>0.0</td>\n",
       "      <td>0.0</td>\n",
       "      <td>Wednesday</td>\n",
       "      <td>Wednesday</td>\n",
       "      <td>8</td>\n",
       "      <td>8</td>\n",
       "    </tr>\n",
       "  </tbody>\n",
       "</table>\n",
       "<p>2901 rows × 17 columns</p>\n",
       "</div>"
      ],
      "text/plain": [
       "               id vendor_id     pickup_datetime    dropoff_datetime  \\\n",
       "263     id3155891         2 2016-06-28 11:21:00 2016-06-28 11:25:00   \n",
       "327     id0786923         2 2016-03-26 13:34:00 2016-03-26 13:37:00   \n",
       "795     id2323213         2 2016-06-13 16:49:00 2016-06-13 17:04:00   \n",
       "1176    id3235868         1 2016-02-29 21:39:00 2016-02-29 21:44:00   \n",
       "1257    id1865738         2 2016-03-13 11:38:00 2016-03-13 12:00:00   \n",
       "...           ...       ...                 ...                 ...   \n",
       "728720  id3423342         2 2016-05-05 21:32:00 2016-05-05 21:32:00   \n",
       "728775  id2618105         2 2016-03-13 20:06:00 2016-03-13 20:14:00   \n",
       "728838  id1232120         2 2016-05-29 04:04:00 2016-05-29 04:11:00   \n",
       "729025  id3524028         2 2016-04-06 18:03:00 2016-04-06 18:26:00   \n",
       "729308  id3477255         2 2016-01-20 08:22:00 2016-01-20 08:47:00   \n",
       "\n",
       "        passenger_count  pickup_longitude  pickup_latitude  dropoff_longitude  \\\n",
       "263                   2        -73.996422        40.298828         -73.996422   \n",
       "327                   1        -73.996323        40.753460         -73.996323   \n",
       "795                   5        -73.967171        40.763500         -73.967171   \n",
       "1176                  1        -73.995232        40.744038         -73.995232   \n",
       "1257                  2        -73.912781        40.804428         -73.912781   \n",
       "...                 ...               ...              ...                ...   \n",
       "728720                2        -73.977898        40.766392         -73.977898   \n",
       "728775                1        -73.974258        40.759895         -73.974258   \n",
       "728838                2        -73.984558        40.750839         -73.984558   \n",
       "729025                1        -74.083611        40.632401         -74.083611   \n",
       "729308                1        -73.977859        40.749538         -73.977859   \n",
       "\n",
       "        dropoff_latitude store_and_fwd_flag  trip_duration  distance  \\\n",
       "263            40.298828                  N            240       0.0   \n",
       "327            40.753460                  N            159       0.0   \n",
       "795            40.763500                  N            897       0.0   \n",
       "1176           40.744038                  N            256       0.0   \n",
       "1257           40.804428                  N           1330       0.0   \n",
       "...                  ...                ...            ...       ...   \n",
       "728720         40.766392                  N             14       0.0   \n",
       "728775         40.759895                  N            464       0.0   \n",
       "728838         40.750839                  N            421       0.0   \n",
       "729025         40.632401                  N           1369       0.0   \n",
       "729308         40.749538                  N           1497       0.0   \n",
       "\n",
       "        avg_speed pickup_day_name dropoff_day_name  pickup_time  dropoff_time  \n",
       "263           0.0         Tuesday          Tuesday           11            11  \n",
       "327           0.0        Saturday         Saturday           13            13  \n",
       "795           0.0          Monday           Monday           16            17  \n",
       "1176          0.0          Monday           Monday           21            21  \n",
       "1257          0.0          Sunday           Sunday           11            12  \n",
       "...           ...             ...              ...          ...           ...  \n",
       "728720        0.0        Thursday         Thursday           21            21  \n",
       "728775        0.0          Sunday           Sunday           20            20  \n",
       "728838        0.0          Sunday           Sunday            4             4  \n",
       "729025        0.0       Wednesday        Wednesday           18            18  \n",
       "729308        0.0       Wednesday        Wednesday            8             8  \n",
       "\n",
       "[2901 rows x 17 columns]"
      ]
     },
     "execution_count": 30,
     "metadata": {},
     "output_type": "execute_result"
    }
   ],
   "source": [
    "dataset[dataset.distance==0]"
   ]
  },
  {
   "cell_type": "markdown",
   "metadata": {},
   "source": [
    "**Around 3000 records has trips of zero distance, this could be due to various reasons like** :\n",
    "\n",
    "- System error\n",
    "- Rider cancelled the ride after accepting\n",
    "- passenger canncelled after accepting"
   ]
  },
  {
   "cell_type": "code",
   "execution_count": 31,
   "metadata": {},
   "outputs": [
    {
     "data": {
      "text/plain": [
       "distance\n",
       "(0, 10]     679797\n",
       "(10, 20]     31357\n",
       "(20, 30]     15010\n",
       "(30, 40]       131\n",
       "(40, 50]        69\n",
       "(50, 60]        18\n",
       "(60, 70]         8\n",
       "(70, 80]         7\n",
       "(80, 90]         9\n",
       "Name: distance, dtype: int64"
      ]
     },
     "metadata": {},
     "output_type": "display_data"
    },
    {
     "data": {
      "image/png": "[encoded data removed]",
      "text/plain": [
       "<Figure size 432x288 with 1 Axes>"
      ]
     },
     "metadata": {},
     "output_type": "display_data"
    }
   ],
   "source": [
    "ab=(dataset['distance']/1000).groupby(pd.cut(dataset['distance']/1000, np.arange(0,100,10))).count()\n",
    "display(ab)\n",
    "ab.plot(kind='bar')\n",
    "plt.show()"
   ]
  },
  {
   "cell_type": "markdown",
   "metadata": {},
   "source": [
    "Most of our trips are between 0 and 10 kms, some between 10 and 20 also, 20 and 30.\n",
    "<br>Very few beyond 30 kms"
   ]
  },
  {
   "cell_type": "code",
   "execution_count": 32,
   "metadata": {},
   "outputs": [],
   "source": [
    "def cont_univ(x):\n",
    "    sns.set(palette=\"Set1\")\n",
    "    plt.figure(figsize=(10,8))\n",
    "    \n",
    "    figure,ax = plt.subplots(nrows=2,ncols=1,figsize=(12,8))\n",
    "\n",
    "\n",
    "    \n",
    "    sns.distplot(x,bins=25,kde=True,ax=ax[0])\n",
    "    ax[0].set_title('Distribution of the trip duration')\n",
    "    \n",
    "    # calculating descriptives of variable\n",
    "    mini = x.min()\n",
    "    maxi = x.max()\n",
    "    ran = x.max()-x.min()\n",
    "    mean = x.mean()\n",
    "    median = x.median()\n",
    "    st_dev = x.std()\n",
    "    skew = x.skew()\n",
    "    kurt = x.kurtosis()\n",
    "\n",
    "    # calculating points of standard deviation\n",
    "    points = mean-st_dev, mean+st_dev\n",
    "\n",
    "    sns.lineplot(points, [0,0], color = 'black', label = \"std_dev\",ax=ax[0])\n",
    "    sns.scatterplot([mini,maxi], [0,0], color = 'orange', label = \"min/max\",ax=ax[0])\n",
    "    sns.scatterplot([mean], [0], color = 'red', label = \"mean\",ax=ax[0])\n",
    "    sns.scatterplot([median], [0], color = 'blue', label = \"median\",ax=ax[0])\n",
    "    \n",
    "    ax[0].set_title('std_dev = {}; kurtosis = {};\\nskew = {}; range = {}\\nmean = {}; median = {}'.format((round(points[0],2),round(points[1],2)),\n",
    "                                                                                                   round(kurt,2),\n",
    "                                                                                                   round(skew,2),\n",
    "                                                                                                   (round(mini,2),round(maxi,2),round(ran,2)),\n",
    "                                                                                                   round(mean,2),\n",
    "                                                                                                   round(median,2)))\n",
    "    \n",
    "    sns.boxplot(x,ax=ax[1])\n",
    "    ax[1].set_title('box plot of trip duration')\n",
    "\n",
    "    \n",
    "    plt.tight_layout()"
   ]
  },
  {
   "cell_type": "code",
   "execution_count": 33,
   "metadata": {},
   "outputs": [
    {
     "data": {
      "text/plain": [
       "<Figure size 720x576 with 0 Axes>"
      ]
     },
     "metadata": {},
     "output_type": "display_data"
    },
    {
     "data": {
      "image/png": "[encoded data removed]",
      "text/plain": [
       "<Figure size 864x576 with 2 Axes>"
      ]
     },
     "metadata": {},
     "output_type": "display_data"
    }
   ],
   "source": [
    "cont_univ(dataset.distance)"
   ]
  },
  {
   "cell_type": "code",
   "execution_count": 34,
   "metadata": {},
   "outputs": [
    {
     "data": {
      "text/plain": [
       "<Figure size 720x576 with 0 Axes>"
      ]
     },
     "metadata": {},
     "output_type": "display_data"
    },
    {
     "data": {
      "image/png": "[encoded data removed]",
      "text/plain": [
       "<Figure size 864x576 with 2 Axes>"
      ]
     },
     "metadata": {},
     "output_type": "display_data"
    }
   ],
   "source": [
    "cont_univ(np.log(dataset[dataset.distance>0].distance))"
   ]
  },
  {
   "cell_type": "markdown",
   "metadata": {},
   "source": [
    "When we logtransform our distance variable and see its distribution, we can see that it is Leptokurtic and slightly negatively skewed\n",
    "<br>Whereas there are a lot of outliers in the original distance without log transform"
   ]
  },
  {
   "cell_type": "code",
   "execution_count": 35,
   "metadata": {},
   "outputs": [
    {
     "data": {
      "text/plain": [
       "<Figure size 720x576 with 0 Axes>"
      ]
     },
     "metadata": {},
     "output_type": "display_data"
    },
    {
     "data": {
      "image/png": "[encoded data removed]",
      "text/plain": [
       "<Figure size 864x576 with 2 Axes>"
      ]
     },
     "metadata": {},
     "output_type": "display_data"
    }
   ],
   "source": [
    "cont_univ(dataset[(dataset.distance<(dataset.distance.mean()+3*dataset.distance.std())) & (dataset.distance>(dataset.distance.mean()-3*dataset.distance.std()))].distance\n",
    ")"
   ]
  },
  {
   "cell_type": "markdown",
   "metadata": {},
   "source": [
    "After removing the outliers, we can see that the distribution looks more like a normal distribution"
   ]
  },
  {
   "cell_type": "markdown",
   "metadata": {},
   "source": [
    "## **Trip_Duration**"
   ]
  },
  {
   "cell_type": "code",
   "execution_count": 36,
   "metadata": {},
   "outputs": [
    {
     "data": {
      "text/plain": [
       "<matplotlib.axes._subplots.AxesSubplot at 0x29d9df82248>"
      ]
     },
     "execution_count": 36,
     "metadata": {},
     "output_type": "execute_result"
    },
    {
     "data": {
      "image/png": "[encoded data removed]",
      "text/plain": [
       "<Figure size 720x360 with 1 Axes>"
      ]
     },
     "metadata": {},
     "output_type": "display_data"
    }
   ],
   "source": [
    "plt.figure(figsize=(10,5))\n",
    "sns.boxplot(dataset['trip_duration'],orient='h')"
   ]
  },
  {
   "cell_type": "markdown",
   "metadata": {},
   "source": [
    "We can clearly see that there is one point with very large value, let's analyse that one value"
   ]
  },
  {
   "cell_type": "code",
   "execution_count": 37,
   "metadata": {},
   "outputs": [
    {
     "data": {
      "text/html": [
       "<div>\n",
       "<style scoped>\n",
       "    .dataframe tbody tr th:only-of-type {\n",
       "        vertical-align: middle;\n",
       "    }\n",
       "\n",
       "    .dataframe tbody tr th {\n",
       "        vertical-align: top;\n",
       "    }\n",
       "\n",
       "    .dataframe thead th {\n",
       "        text-align: right;\n",
       "    }\n",
       "</style>\n",
       "<table border=\"1\" class=\"dataframe\">\n",
       "  <thead>\n",
       "    <tr style=\"text-align: right;\">\n",
       "      <th></th>\n",
       "      <th>id</th>\n",
       "      <th>vendor_id</th>\n",
       "      <th>pickup_datetime</th>\n",
       "      <th>dropoff_datetime</th>\n",
       "      <th>passenger_count</th>\n",
       "      <th>pickup_longitude</th>\n",
       "      <th>pickup_latitude</th>\n",
       "      <th>dropoff_longitude</th>\n",
       "      <th>dropoff_latitude</th>\n",
       "      <th>store_and_fwd_flag</th>\n",
       "      <th>trip_duration</th>\n",
       "      <th>distance</th>\n",
       "      <th>avg_speed</th>\n",
       "      <th>pickup_day_name</th>\n",
       "      <th>dropoff_day_name</th>\n",
       "      <th>pickup_time</th>\n",
       "      <th>dropoff_time</th>\n",
       "    </tr>\n",
       "  </thead>\n",
       "  <tbody>\n",
       "    <tr>\n",
       "      <th>21813</th>\n",
       "      <td>id1864733</td>\n",
       "      <td>1</td>\n",
       "      <td>2016-01-05 00:19:00</td>\n",
       "      <td>2016-01-27 11:08:00</td>\n",
       "      <td>1</td>\n",
       "      <td>-73.78965</td>\n",
       "      <td>40.643559</td>\n",
       "      <td>-73.95681</td>\n",
       "      <td>40.773087</td>\n",
       "      <td>N</td>\n",
       "      <td>1939736</td>\n",
       "      <td>18578.129214</td>\n",
       "      <td>0.03448</td>\n",
       "      <td>Tuesday</td>\n",
       "      <td>Wednesday</td>\n",
       "      <td>0</td>\n",
       "      <td>11</td>\n",
       "    </tr>\n",
       "  </tbody>\n",
       "</table>\n",
       "</div>"
      ],
      "text/plain": [
       "              id vendor_id     pickup_datetime    dropoff_datetime  \\\n",
       "21813  id1864733         1 2016-01-05 00:19:00 2016-01-27 11:08:00   \n",
       "\n",
       "       passenger_count  pickup_longitude  pickup_latitude  dropoff_longitude  \\\n",
       "21813                1         -73.78965        40.643559          -73.95681   \n",
       "\n",
       "       dropoff_latitude store_and_fwd_flag  trip_duration      distance  \\\n",
       "21813         40.773087                  N        1939736  18578.129214   \n",
       "\n",
       "       avg_speed pickup_day_name dropoff_day_name  pickup_time  dropoff_time  \n",
       "21813    0.03448         Tuesday        Wednesday            0            11  "
      ]
     },
     "execution_count": 37,
     "metadata": {},
     "output_type": "execute_result"
    }
   ],
   "source": [
    "dataset[dataset.trip_duration==dataset.trip_duration.max()]"
   ]
  },
  {
   "cell_type": "markdown",
   "metadata": {},
   "source": [
    "This looks like a 22 day trip! We have to further investigate this."
   ]
  },
  {
   "cell_type": "code",
   "execution_count": 38,
   "metadata": {},
   "outputs": [
    {
     "data": {
      "text/plain": [
       "<Figure size 720x576 with 0 Axes>"
      ]
     },
     "metadata": {},
     "output_type": "display_data"
    },
    {
     "data": {
      "image/png": "[encoded data removed]",
      "text/plain": [
       "<Figure size 864x576 with 2 Axes>"
      ]
     },
     "metadata": {},
     "output_type": "display_data"
    }
   ],
   "source": [
    "cont_univ(dataset.trip_duration)"
   ]
  },
  {
   "cell_type": "code",
   "execution_count": 39,
   "metadata": {},
   "outputs": [
    {
     "data": {
      "text/plain": [
       "<Figure size 720x576 with 0 Axes>"
      ]
     },
     "metadata": {},
     "output_type": "display_data"
    },
    {
     "data": {
      "image/png": "[encoded data removed]",
      "text/plain": [
       "<Figure size 864x576 with 2 Axes>"
      ]
     },
     "metadata": {},
     "output_type": "display_data"
    }
   ],
   "source": [
    "cont_univ(np.log(dataset[dataset.trip_duration>0].trip_duration))"
   ]
  },
  {
   "cell_type": "code",
   "execution_count": 40,
   "metadata": {},
   "outputs": [
    {
     "data": {
      "text/plain": [
       "<Figure size 720x576 with 0 Axes>"
      ]
     },
     "metadata": {},
     "output_type": "display_data"
    },
    {
     "data": {
      "image/png": "[encoded data removed]",
      "text/plain": [
       "<Figure size 864x576 with 2 Axes>"
      ]
     },
     "metadata": {},
     "output_type": "display_data"
    }
   ],
   "source": [
    "cont_univ(dataset[(dataset.trip_duration<(dataset.trip_duration.mean()+3*dataset.trip_duration.std())) & (dataset.trip_duration>(dataset.trip_duration.mean()-3*dataset.trip_duration.std()))].trip_duration)"
   ]
  },
  {
   "cell_type": "markdown",
   "metadata": {},
   "source": [
    "When we log-transform, we can see that the chart looks like a normal distribution. So, we can see that our variable follows lognormal distribution"
   ]
  },
  {
   "cell_type": "markdown",
   "metadata": {},
   "source": [
    "## **avg_speed**"
   ]
  },
  {
   "cell_type": "code",
   "execution_count": 41,
   "metadata": {},
   "outputs": [
    {
     "data": {
      "text/plain": [
       "count    729322.000000\n",
       "mean         10.629816\n",
       "std          10.711357\n",
       "min           0.000000\n",
       "25%           4.802708\n",
       "50%           9.042801\n",
       "75%          14.087260\n",
       "max        4194.190315\n",
       "Name: avg_speed, dtype: float64"
      ]
     },
     "execution_count": 41,
     "metadata": {},
     "output_type": "execute_result"
    }
   ],
   "source": [
    "dataset.avg_speed.describe()"
   ]
  },
  {
   "cell_type": "code",
   "execution_count": 42,
   "metadata": {},
   "outputs": [
    {
     "data": {
      "text/plain": [
       "<matplotlib.axes._subplots.AxesSubplot at 0x29dad8f3c88>"
      ]
     },
     "execution_count": 42,
     "metadata": {},
     "output_type": "execute_result"
    },
    {
     "data": {
      "image/png": "[encoded data removed]",
      "text/plain": [
       "<Figure size 432x288 with 1 Axes>"
      ]
     },
     "metadata": {},
     "output_type": "display_data"
    }
   ],
   "source": [
    "sns.boxplot(dataset.avg_speed)"
   ]
  },
  {
   "cell_type": "code",
   "execution_count": 43,
   "metadata": {},
   "outputs": [
    {
     "data": {
      "text/plain": [
       "(729294, 17)"
      ]
     },
     "execution_count": 43,
     "metadata": {},
     "output_type": "execute_result"
    }
   ],
   "source": [
    "refined=dataset[dataset.avg_speed<=200]\n",
    "refined.shape"
   ]
  },
  {
   "cell_type": "markdown",
   "metadata": {},
   "source": [
    "We have removed all the speeds which were unreal, as this high speed is not permitted on road for taxis"
   ]
  },
  {
   "cell_type": "code",
   "execution_count": 44,
   "metadata": {},
   "outputs": [
    {
     "data": {
      "text/plain": [
       "<Figure size 720x576 with 0 Axes>"
      ]
     },
     "metadata": {},
     "output_type": "display_data"
    },
    {
     "data": {
      "image/png": "[encoded data removed]",
      "text/plain": [
       "<Figure size 864x576 with 2 Axes>"
      ]
     },
     "metadata": {},
     "output_type": "display_data"
    }
   ],
   "source": [
    "cont_univ(refined.avg_speed)"
   ]
  },
  {
   "cell_type": "markdown",
   "metadata": {},
   "source": [
    "## Time related Variables"
   ]
  },
  {
   "cell_type": "code",
   "execution_count": 45,
   "metadata": {},
   "outputs": [
    {
     "data": {
      "text/plain": [
       "<matplotlib.axes._subplots.AxesSubplot at 0x29dad87cc08>"
      ]
     },
     "execution_count": 45,
     "metadata": {},
     "output_type": "execute_result"
    },
    {
     "data": {
      "image/png": "[encoded data removed]",
      "text/plain": [
       "<Figure size 720x504 with 2 Axes>"
      ]
     },
     "metadata": {},
     "output_type": "display_data"
    }
   ],
   "source": [
    "figure,ax= plt.subplots(nrows=2,ncols=1,figsize=(10,7))\n",
    "\n",
    "sns.countplot(dataset.pickup_time,color='r',alpha=0.5,ax=ax[0])\n",
    "sns.countplot(dataset.dropoff_time,color='b',alpha=0.5,ax=ax[1])"
   ]
  },
  {
   "cell_type": "markdown",
   "metadata": {},
   "source": [
    "Shape more or less looks the same\n",
    "<br>7-8PM,8-9PM are the busiest"
   ]
  },
  {
   "cell_type": "code",
   "execution_count": 46,
   "metadata": {},
   "outputs": [],
   "source": [
    "cut_bins = [0,5,10,15,20,24]\n",
    "names = ['Early Morning','Office Hours','Noon Hours','Evening','Night']\n",
    "\n",
    "dataset['Pick_time_frame'] = pd.cut(dataset['pickup_time'],bins=cut_bins,labels=names)\n",
    "\n",
    "dataset['Drop_time_frame'] = pd.cut(dataset['dropoff_time'],bins=cut_bins,labels=names)"
   ]
  },
  {
   "cell_type": "code",
   "execution_count": 47,
   "metadata": {},
   "outputs": [
    {
     "data": {
      "image/png": "[encoded data removed]",
      "text/plain": [
       "<Figure size 864x576 with 2 Axes>"
      ]
     },
     "metadata": {},
     "output_type": "display_data"
    }
   ],
   "source": [
    "figure,ax = plt.subplots(nrows=1,ncols=2,figsize=(12,8))\n",
    "\n",
    "sns.countplot(dataset['Pick_time_frame'],ax=ax[0])\n",
    "\n",
    "sns.countplot(dataset['Drop_time_frame'],ax=ax[1])\n",
    "\n",
    "plt.tight_layout()"
   ]
  },
  {
   "cell_type": "markdown",
   "metadata": {},
   "source": [
    "Most number of trips are during the evening time and the least number of trips is between late night to early morning"
   ]
  },
  {
   "cell_type": "markdown",
   "metadata": {},
   "source": [
    "## **Day Wise**"
   ]
  },
  {
   "cell_type": "code",
   "execution_count": 48,
   "metadata": {},
   "outputs": [
    {
     "data": {
      "text/plain": [
       "Friday       111744\n",
       "Saturday     110252\n",
       "Thursday     109344\n",
       "Wednesday    105074\n",
       "Tuesday      101254\n",
       "Sunday        97682\n",
       "Monday        93972\n",
       "Name: pickup_day_name, dtype: int64"
      ]
     },
     "execution_count": 48,
     "metadata": {},
     "output_type": "execute_result"
    }
   ],
   "source": [
    "dataset['pickup_day_name'].value_counts()"
   ]
  },
  {
   "cell_type": "code",
   "execution_count": 49,
   "metadata": {},
   "outputs": [
    {
     "data": {
      "image/png": "[encoded data removed]",
      "text/plain": [
       "<Figure size 720x504 with 2 Axes>"
      ]
     },
     "metadata": {},
     "output_type": "display_data"
    }
   ],
   "source": [
    "sns.set(palette=\"Set2\")\n",
    "\n",
    "\n",
    "figure,ax = plt.subplots(nrows=2,ncols=1,figsize=(10,7))\n",
    "\n",
    "sns.countplot(x='pickup_day_name', data=dataset,ax=ax[0])\n",
    "ax[0].set_title('Day wise count of n.o pick up ')\n",
    "\n",
    "sns.countplot(x='dropoff_day_name',data=dataset,ax=ax[1])\n",
    "ax[1].set_title('Day wise count of n.o drop off ')\n",
    "\n",
    "plt.tight_layout()"
   ]
  },
  {
   "cell_type": "markdown",
   "metadata": {},
   "source": [
    "- Highest number of rides are recorded on friday's and Saturday's.\n",
    "\n",
    "- Monday has the least number of trips. Also we can see a trend of increasing trips from monday to saturday and a decreasing trend from sunday through monday"
   ]
  },
  {
   "cell_type": "code",
   "execution_count": null,
   "metadata": {},
   "outputs": [],
   "source": []
  }
 ],
 "metadata": {
  "kernelspec": {
   "display_name": "Python 3",
   "language": "python",
   "name": "python3"
  },
  "language_info": {
   "codemirror_mode": {
    "name": "ipython",
    "version": 3
   },
   "file_extension": ".py",
   "mimetype": "text/x-python",
   "name": "python",
   "nbconvert_exporter": "python",
   "pygments_lexer": "ipython3",
   "version": "3.7.6"
  }
 },
 "nbformat": 4,
 "nbformat_minor": 4
}

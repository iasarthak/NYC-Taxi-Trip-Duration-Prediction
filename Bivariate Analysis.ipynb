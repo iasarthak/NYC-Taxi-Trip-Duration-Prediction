{
 "cells": [
  {
   "cell_type": "code",
   "execution_count": 1,
   "metadata": {},
   "outputs": [],
   "source": [
    "# Importing the required libraries\n",
    "\n",
    "import pandas as pd\n",
    "import numpy as np\n",
    "import matplotlib.pyplot as plt\n",
    "import seaborn as sns\n",
    "\n",
    "from IPython.display import display"
   ]
  },
  {
   "cell_type": "code",
   "execution_count": 2,
   "metadata": {},
   "outputs": [
    {
     "name": "stderr",
     "output_type": "stream",
     "text": [
      "C:\\ProgramData\\Anaconda3\\lib\\site-packages\\IPython\\core\\interactiveshell.py:3063: DtypeWarning: Columns (12) have mixed types.Specify dtype option on import or set low_memory=False.\n",
      "  interactivity=interactivity, compiler=compiler, result=result)\n"
     ]
    },
    {
     "data": {
      "text/html": [
       "<div>\n",
       "<style scoped>\n",
       "    .dataframe tbody tr th:only-of-type {\n",
       "        vertical-align: middle;\n",
       "    }\n",
       "\n",
       "    .dataframe tbody tr th {\n",
       "        vertical-align: top;\n",
       "    }\n",
       "\n",
       "    .dataframe thead th {\n",
       "        text-align: right;\n",
       "    }\n",
       "</style>\n",
       "<table border=\"1\" class=\"dataframe\">\n",
       "  <thead>\n",
       "    <tr style=\"text-align: right;\">\n",
       "      <th></th>\n",
       "      <th>id</th>\n",
       "      <th>vendor_id</th>\n",
       "      <th>pickup_datetime</th>\n",
       "      <th>dropoff_datetime</th>\n",
       "      <th>passenger_count</th>\n",
       "      <th>pickup_longitude</th>\n",
       "      <th>pickup_latitude</th>\n",
       "      <th>dropoff_longitude</th>\n",
       "      <th>dropoff_latitude</th>\n",
       "      <th>store_and_fwd_flag</th>\n",
       "      <th>trip_duration</th>\n",
       "    </tr>\n",
       "  </thead>\n",
       "  <tbody>\n",
       "    <tr>\n",
       "      <th>0</th>\n",
       "      <td>id1080784</td>\n",
       "      <td>2</td>\n",
       "      <td>29-02-2016 16:40</td>\n",
       "      <td>29-02-2016 16:47</td>\n",
       "      <td>1</td>\n",
       "      <td>-73.953918</td>\n",
       "      <td>40.778873</td>\n",
       "      <td>-73.963875</td>\n",
       "      <td>40.771164</td>\n",
       "      <td>N</td>\n",
       "      <td>400</td>\n",
       "    </tr>\n",
       "    <tr>\n",
       "      <th>1</th>\n",
       "      <td>id0889885</td>\n",
       "      <td>1</td>\n",
       "      <td>11-03-2016 23:35</td>\n",
       "      <td>11-03-2016 23:53</td>\n",
       "      <td>2</td>\n",
       "      <td>-73.988312</td>\n",
       "      <td>40.731743</td>\n",
       "      <td>-73.994751</td>\n",
       "      <td>40.694931</td>\n",
       "      <td>N</td>\n",
       "      <td>1100</td>\n",
       "    </tr>\n",
       "    <tr>\n",
       "      <th>2</th>\n",
       "      <td>id0857912</td>\n",
       "      <td>2</td>\n",
       "      <td>21-02-2016 17:59</td>\n",
       "      <td>21-02-2016 18:26</td>\n",
       "      <td>2</td>\n",
       "      <td>-73.997314</td>\n",
       "      <td>40.721458</td>\n",
       "      <td>-73.948029</td>\n",
       "      <td>40.774918</td>\n",
       "      <td>N</td>\n",
       "      <td>1635</td>\n",
       "    </tr>\n",
       "    <tr>\n",
       "      <th>3</th>\n",
       "      <td>id3744273</td>\n",
       "      <td>2</td>\n",
       "      <td>05-01-2016 9:44</td>\n",
       "      <td>05-01-2016 10:03</td>\n",
       "      <td>6</td>\n",
       "      <td>-73.961670</td>\n",
       "      <td>40.759720</td>\n",
       "      <td>-73.956779</td>\n",
       "      <td>40.780628</td>\n",
       "      <td>N</td>\n",
       "      <td>1141</td>\n",
       "    </tr>\n",
       "    <tr>\n",
       "      <th>4</th>\n",
       "      <td>id0232939</td>\n",
       "      <td>1</td>\n",
       "      <td>17-02-2016 6:42</td>\n",
       "      <td>17-02-2016 6:56</td>\n",
       "      <td>1</td>\n",
       "      <td>-74.017120</td>\n",
       "      <td>40.708469</td>\n",
       "      <td>-73.988182</td>\n",
       "      <td>40.740631</td>\n",
       "      <td>N</td>\n",
       "      <td>848</td>\n",
       "    </tr>\n",
       "  </tbody>\n",
       "</table>\n",
       "</div>"
      ],
      "text/plain": [
       "          id  vendor_id   pickup_datetime  dropoff_datetime  passenger_count  \\\n",
       "0  id1080784          2  29-02-2016 16:40  29-02-2016 16:47                1   \n",
       "1  id0889885          1  11-03-2016 23:35  11-03-2016 23:53                2   \n",
       "2  id0857912          2  21-02-2016 17:59  21-02-2016 18:26                2   \n",
       "3  id3744273          2   05-01-2016 9:44  05-01-2016 10:03                6   \n",
       "4  id0232939          1   17-02-2016 6:42   17-02-2016 6:56                1   \n",
       "\n",
       "   pickup_longitude  pickup_latitude  dropoff_longitude  dropoff_latitude  \\\n",
       "0        -73.953918        40.778873         -73.963875         40.771164   \n",
       "1        -73.988312        40.731743         -73.994751         40.694931   \n",
       "2        -73.997314        40.721458         -73.948029         40.774918   \n",
       "3        -73.961670        40.759720         -73.956779         40.780628   \n",
       "4        -74.017120        40.708469         -73.988182         40.740631   \n",
       "\n",
       "  store_and_fwd_flag  trip_duration  \n",
       "0                  N            400  \n",
       "1                  N           1100  \n",
       "2                  N           1635  \n",
       "3                  N           1141  \n",
       "4                  N            848  "
      ]
     },
     "execution_count": 2,
     "metadata": {},
     "output_type": "execute_result"
    }
   ],
   "source": [
    "# Importing the Dataset\n",
    "\n",
    "dataset=pd.read_csv(r\"C:\\Users\\Sarthak Arora\\Analytics Vidhya\\BOOTCAMP CLASSES\\NYC Trip Data Duration\\nyc_taxi_trip_duration.csv\")\n",
    "dataset.drop(columns=[\"Unnamed: 11\",\"Unnamed: 12\"],inplace=True)\n",
    "dataset.head()"
   ]
  },
  {
   "cell_type": "code",
   "execution_count": 3,
   "metadata": {},
   "outputs": [
    {
     "data": {
      "text/plain": [
       "id                            object\n",
       "vendor_id                   category\n",
       "pickup_datetime       datetime64[ns]\n",
       "dropoff_datetime      datetime64[ns]\n",
       "passenger_count                int64\n",
       "pickup_longitude             float64\n",
       "pickup_latitude              float64\n",
       "dropoff_longitude            float64\n",
       "dropoff_latitude             float64\n",
       "store_and_fwd_flag          category\n",
       "trip_duration                  int64\n",
       "distance                     float64\n",
       "avg_speed                    float64\n",
       "pickup_day_name             category\n",
       "dropoff_day_name            category\n",
       "pickup_time                    int64\n",
       "dropoff_time                   int64\n",
       "Pick_time_frame             category\n",
       "Drop_time_frame             category\n",
       "dtype: object"
      ]
     },
     "execution_count": 3,
     "metadata": {},
     "output_type": "execute_result"
    }
   ],
   "source": [
    "dataset.vendor_id=dataset[\"vendor_id\"].astype(\"category\")\n",
    "dataset.store_and_fwd_flag=dataset[\"store_and_fwd_flag\"].astype(\"category\")\n",
    "dataset.pickup_datetime = pd.to_datetime(dataset.pickup_datetime, format=\"%d-%m-%Y %H:%M\")\n",
    "dataset.dropoff_datetime = pd.to_datetime(dataset.dropoff_datetime, format=\"%d-%m-%Y %H:%M\")\n",
    "\n",
    "dataset[\"distance\"]=111139*abs(dataset.pickup_longitude-dataset.dropoff_longitude)+abs(dataset.pickup_latitude-dataset.dropoff_latitude)\n",
    "dataset[\"avg_speed\"]=dataset[\"distance\"]*60*60/(1000*dataset[\"trip_duration\"])\n",
    "\n",
    "dataset['pickup_day_name'] = dataset['pickup_datetime'].dt.day_name()\n",
    "dataset['dropoff_day_name']= dataset['dropoff_datetime'].dt.day_name()\n",
    "\n",
    "dataset['pickup_time'] = dataset['pickup_datetime'].dt.hour\n",
    "dataset['dropoff_time'] = dataset['dropoff_datetime'].dt.hour\n",
    "\n",
    "cut_bins = [0,5,10,15,20,24]\n",
    "names = ['Early Morning','Office Hours','Noon Hours','Evening','Night']\n",
    "\n",
    "dataset['Pick_time_frame'] = pd.cut(dataset['pickup_time'],bins=cut_bins,labels=names)\n",
    "dataset['Drop_time_frame'] = pd.cut(dataset['dropoff_time'],bins=cut_bins,labels=names)\n",
    "\n",
    "dataset.pickup_day_name=dataset[\"pickup_day_name\"].astype(\"category\")\n",
    "dataset.dropoff_day_name=dataset[\"dropoff_day_name\"].astype(\"category\")\n",
    "\n",
    "dataset.dtypes"
   ]
  },
  {
   "cell_type": "markdown",
   "metadata": {},
   "source": [
    "# Bi-Variate Analysis"
   ]
  },
  {
   "cell_type": "code",
   "execution_count": 4,
   "metadata": {},
   "outputs": [
    {
     "name": "stderr",
     "output_type": "stream",
     "text": [
      "C:\\ProgramData\\Anaconda3\\lib\\site-packages\\ipykernel_launcher.py:1: FutureWarning: Indexing with multiple keys (implicitly converted to a tuple of keys) will be deprecated, use a list instead.\n",
      "  \"\"\"Entry point for launching an IPython kernel.\n"
     ]
    },
    {
     "data": {
      "text/html": [
       "<div>\n",
       "<style scoped>\n",
       "    .dataframe tbody tr th:only-of-type {\n",
       "        vertical-align: middle;\n",
       "    }\n",
       "\n",
       "    .dataframe tbody tr th {\n",
       "        vertical-align: top;\n",
       "    }\n",
       "\n",
       "    .dataframe thead th {\n",
       "        text-align: right;\n",
       "    }\n",
       "</style>\n",
       "<table border=\"1\" class=\"dataframe\">\n",
       "  <thead>\n",
       "    <tr style=\"text-align: right;\">\n",
       "      <th></th>\n",
       "      <th>trip_duration</th>\n",
       "      <th>distance</th>\n",
       "      <th>avg_speed</th>\n",
       "    </tr>\n",
       "    <tr>\n",
       "      <th>vendor_id</th>\n",
       "      <th></th>\n",
       "      <th></th>\n",
       "      <th></th>\n",
       "    </tr>\n",
       "  </thead>\n",
       "  <tbody>\n",
       "    <tr>\n",
       "      <th>1</th>\n",
       "      <td>837.096021</td>\n",
       "      <td>2668.309508</td>\n",
       "      <td>10.586744</td>\n",
       "    </tr>\n",
       "    <tr>\n",
       "      <th>2</th>\n",
       "      <td>1052.136219</td>\n",
       "      <td>2744.017740</td>\n",
       "      <td>10.667191</td>\n",
       "    </tr>\n",
       "  </tbody>\n",
       "</table>\n",
       "</div>"
      ],
      "text/plain": [
       "           trip_duration     distance  avg_speed\n",
       "vendor_id                                       \n",
       "1             837.096021  2668.309508  10.586744\n",
       "2            1052.136219  2744.017740  10.667191"
      ]
     },
     "execution_count": 4,
     "metadata": {},
     "output_type": "execute_result"
    }
   ],
   "source": [
    "vendor_biv=dataset.groupby('vendor_id')['trip_duration','distance','avg_speed',].mean()\n",
    "vendor_biv"
   ]
  },
  {
   "cell_type": "markdown",
   "metadata": {},
   "source": [
    "## Vendor_ID and trip_duration"
   ]
  },
  {
   "cell_type": "code",
   "execution_count": 14,
   "metadata": {},
   "outputs": [
    {
     "data": {
      "image/png": "[encoded data removed]",
      "text/plain": [
       "<Figure size 864x576 with 3 Axes>"
      ]
     },
     "metadata": {},
     "output_type": "display_data"
    }
   ],
   "source": [
    "sns.set(palette=\"Set2\")\n",
    "\n",
    "figure,axes=plt.subplots(nrows=1,ncols=3,figsize=(12,8))\n",
    "\n",
    "\n",
    "plt.suptitle(\"Vendor_ID\")\n",
    "\n",
    "axes[0].set_title(\"Trip_Duration\")\n",
    "axes[1].set_title(\"Distance in Meter\")\n",
    "axes[2].set_title(\"Avg Speed in Km/hr\")\n",
    "\n",
    "vendor_biv.iloc[:,0].plot(kind=\"bar\",ax=axes[0])\n",
    "vendor_biv.iloc[:,1].plot(kind=\"bar\",ax=axes[1])\n",
    "vendor_biv.iloc[:,2].plot(kind=\"bar\",ax=axes[2])\n",
    "\n",
    "# create a list to collect the plt.patches data\n",
    "for ax in axes:\n",
    "    for i in ax.patches:\n",
    "    # get_x pulls left or right; get_height pushes up or down\n",
    "        ax.text(i.get_x()+.1, i.get_height(), \\\n",
    "                str(round((i.get_height()), 2)), fontsize=11)\n",
    "\n"
   ]
  },
  {
   "cell_type": "markdown",
   "metadata": {},
   "source": [
    "1. sample size>30 and we know the population variance (Normal Test)\n",
    "2. sample size>30 and we do not know the population variance (t-test)\n",
    "3. sample size<30 and we know the population variance \n",
    "4. sample size<30 and we do not know the population variance (t-test)"
   ]
  },
  {
   "cell_type": "markdown",
   "metadata": {},
   "source": [
    "### Vendor 2 has average time much more than Vendor 1"
   ]
  },
  {
   "cell_type": "code",
   "execution_count": 6,
   "metadata": {},
   "outputs": [],
   "source": [
    "def onetailed_Ztest(x1,x2,s1,s2,n1,n2,diff):\n",
    "    \n",
    "    from scipy.stats import norm\n",
    "    \n",
    "    sig=((s1**2/n1)+(s2**2/n2))**0.5\n",
    "    stat=(x1-x2-diff)/sig\n",
    "    \n",
    "    pval=1-norm.cdf(stat)\n",
    "    return pval"
   ]
  },
  {
   "cell_type": "code",
   "execution_count": 7,
   "metadata": {},
   "outputs": [],
   "source": [
    "def onetailed_Ttest(x1,x2,s1,s2,n1,n2,diff):\n",
    "    \n",
    "    from scipy.stats import t\n",
    "    \n",
    "    sig=((s1**2/n1)+(s2**2/n2))**0.5\n",
    "    stat=(x1-x2-diff)/sig\n",
    "    \n",
    "    pval=1-t.cdf(stat,n1+n2-2)\n",
    "    \n",
    "    return pval"
   ]
  },
  {
   "cell_type": "code",
   "execution_count": 8,
   "metadata": {},
   "outputs": [],
   "source": [
    "def twotailed_Ttest(x1,x2,s1,s2,n1,n2):\n",
    "    \n",
    "    from scipy.stats import t\n",
    "    \n",
    "    sig=((s1**2/n1)+(s2**2/n2))**0.5\n",
    "    stat=(x1-x2)/sig\n",
    "    \n",
    "    pval=2*(1-t.cdf(abs(stat),n1+n2-2))\n",
    "    \n",
    "    return pval"
   ]
  },
  {
   "cell_type": "code",
   "execution_count": 9,
   "metadata": {},
   "outputs": [],
   "source": [
    "def twotailed_Ztest(x1,x2,s1,s2,n1,n2):\n",
    "    \n",
    "    from scipy.stats import norm\n",
    "    \n",
    "    sig=((s1**2/n1)+(s2**2/n2))**0.5\n",
    "    stat=(x1-x2)/sig\n",
    "    \n",
    "    pval=2*(1-norm.cdf(abs(stat)))\n",
    "    \n",
    "    return pval"
   ]
  },
  {
   "cell_type": "code",
   "execution_count": 10,
   "metadata": {},
   "outputs": [
    {
     "data": {
      "text/html": [
       "<div>\n",
       "<style scoped>\n",
       "    .dataframe tbody tr th:only-of-type {\n",
       "        vertical-align: middle;\n",
       "    }\n",
       "\n",
       "    .dataframe tbody tr th {\n",
       "        vertical-align: top;\n",
       "    }\n",
       "\n",
       "    .dataframe thead tr th {\n",
       "        text-align: left;\n",
       "    }\n",
       "\n",
       "    .dataframe thead tr:last-of-type th {\n",
       "        text-align: right;\n",
       "    }\n",
       "</style>\n",
       "<table border=\"1\" class=\"dataframe\">\n",
       "  <thead>\n",
       "    <tr>\n",
       "      <th></th>\n",
       "      <th colspan=\"8\" halign=\"left\">trip_duration</th>\n",
       "      <th colspan=\"5\" halign=\"left\">distance</th>\n",
       "      <th colspan=\"8\" halign=\"left\">avg_speed</th>\n",
       "    </tr>\n",
       "    <tr>\n",
       "      <th></th>\n",
       "      <th>count</th>\n",
       "      <th>mean</th>\n",
       "      <th>std</th>\n",
       "      <th>min</th>\n",
       "      <th>25%</th>\n",
       "      <th>50%</th>\n",
       "      <th>75%</th>\n",
       "      <th>max</th>\n",
       "      <th>count</th>\n",
       "      <th>mean</th>\n",
       "      <th>...</th>\n",
       "      <th>75%</th>\n",
       "      <th>max</th>\n",
       "      <th>count</th>\n",
       "      <th>mean</th>\n",
       "      <th>std</th>\n",
       "      <th>min</th>\n",
       "      <th>25%</th>\n",
       "      <th>50%</th>\n",
       "      <th>75%</th>\n",
       "      <th>max</th>\n",
       "    </tr>\n",
       "    <tr>\n",
       "      <th>vendor_id</th>\n",
       "      <th></th>\n",
       "      <th></th>\n",
       "      <th></th>\n",
       "      <th></th>\n",
       "      <th></th>\n",
       "      <th></th>\n",
       "      <th></th>\n",
       "      <th></th>\n",
       "      <th></th>\n",
       "      <th></th>\n",
       "      <th></th>\n",
       "      <th></th>\n",
       "      <th></th>\n",
       "      <th></th>\n",
       "      <th></th>\n",
       "      <th></th>\n",
       "      <th></th>\n",
       "      <th></th>\n",
       "      <th></th>\n",
       "      <th></th>\n",
       "      <th></th>\n",
       "    </tr>\n",
       "  </thead>\n",
       "  <tbody>\n",
       "    <tr>\n",
       "      <th>1</th>\n",
       "      <td>338841.0</td>\n",
       "      <td>837.096021</td>\n",
       "      <td>3396.706635</td>\n",
       "      <td>1.0</td>\n",
       "      <td>394.0</td>\n",
       "      <td>659.0</td>\n",
       "      <td>1068.0</td>\n",
       "      <td>1939736.0</td>\n",
       "      <td>338841.0</td>\n",
       "      <td>2668.309508</td>\n",
       "      <td>...</td>\n",
       "      <td>2658.268333</td>\n",
       "      <td>660978.356561</td>\n",
       "      <td>338841.0</td>\n",
       "      <td>10.586744</td>\n",
       "      <td>11.738329</td>\n",
       "      <td>0.0</td>\n",
       "      <td>4.808456</td>\n",
       "      <td>9.021424</td>\n",
       "      <td>14.023499</td>\n",
       "      <td>4194.190315</td>\n",
       "    </tr>\n",
       "    <tr>\n",
       "      <th>2</th>\n",
       "      <td>390481.0</td>\n",
       "      <td>1052.136219</td>\n",
       "      <td>4226.377832</td>\n",
       "      <td>1.0</td>\n",
       "      <td>399.0</td>\n",
       "      <td>666.0</td>\n",
       "      <td>1083.0</td>\n",
       "      <td>86391.0</td>\n",
       "      <td>390481.0</td>\n",
       "      <td>2744.017740</td>\n",
       "      <td>...</td>\n",
       "      <td>2703.195186</td>\n",
       "      <td>147363.244679</td>\n",
       "      <td>390481.0</td>\n",
       "      <td>10.667191</td>\n",
       "      <td>9.732638</td>\n",
       "      <td>0.0</td>\n",
       "      <td>4.798245</td>\n",
       "      <td>9.060421</td>\n",
       "      <td>14.143761</td>\n",
       "      <td>1661.835516</td>\n",
       "    </tr>\n",
       "  </tbody>\n",
       "</table>\n",
       "<p>2 rows × 24 columns</p>\n",
       "</div>"
      ],
      "text/plain": [
       "          trip_duration                                                       \\\n",
       "                  count         mean          std  min    25%    50%     75%   \n",
       "vendor_id                                                                      \n",
       "1              338841.0   837.096021  3396.706635  1.0  394.0  659.0  1068.0   \n",
       "2              390481.0  1052.136219  4226.377832  1.0  399.0  666.0  1083.0   \n",
       "\n",
       "                      distance               ...                              \\\n",
       "                 max     count         mean  ...          75%            max   \n",
       "vendor_id                                    ...                               \n",
       "1          1939736.0  338841.0  2668.309508  ...  2658.268333  660978.356561   \n",
       "2            86391.0  390481.0  2744.017740  ...  2703.195186  147363.244679   \n",
       "\n",
       "          avg_speed                                                            \\\n",
       "              count       mean        std  min       25%       50%        75%   \n",
       "vendor_id                                                                       \n",
       "1          338841.0  10.586744  11.738329  0.0  4.808456  9.021424  14.023499   \n",
       "2          390481.0  10.667191   9.732638  0.0  4.798245  9.060421  14.143761   \n",
       "\n",
       "                        \n",
       "                   max  \n",
       "vendor_id               \n",
       "1          4194.190315  \n",
       "2          1661.835516  \n",
       "\n",
       "[2 rows x 24 columns]"
      ]
     },
     "execution_count": 10,
     "metadata": {},
     "output_type": "execute_result"
    }
   ],
   "source": [
    "vendor_bivall=dataset.groupby('vendor_id')[['trip_duration','distance','avg_speed']].describe()\n",
    "vendor_bivall"
   ]
  },
  {
   "cell_type": "code",
   "execution_count": 11,
   "metadata": {},
   "outputs": [
    {
     "name": "stdout",
     "output_type": "stream",
     "text": [
      "0.046118957197495036\n",
      "0.04611917117335107\n"
     ]
    }
   ],
   "source": [
    "n1=vendor_bivall.iloc[1,0]\n",
    "n2=vendor_bivall.iloc[0,0]\n",
    "m1=vendor_bivall.iloc[1,1]\n",
    "m2=vendor_bivall.iloc[0,1]\n",
    "s1=vendor_bivall.iloc[1,2]\n",
    "s2=vendor_bivall.iloc[0,2]\n",
    "\n",
    "print(onetailed_Ztest(m1,m2,s1,s2,n1,n2,200))\n",
    "print(onetailed_Ttest(m1,m2,s1,s2,n1,n2,200))"
   ]
  },
  {
   "cell_type": "markdown",
   "metadata": {},
   "source": [
    "As p-value is less than 0.5, we reject the Null Hypothesis\n",
    "<br>Diff is greater than 200 for Trip_Duration betweeen Vendor 2 and 1"
   ]
  },
  {
   "cell_type": "code",
   "execution_count": 12,
   "metadata": {
    "scrolled": true
   },
   "outputs": [
    {
     "name": "stdout",
     "output_type": "stream",
     "text": [
      "0.021758359408008854\n",
      "0.02175854202460714\n"
     ]
    }
   ],
   "source": [
    "n1=vendor_bivall.iloc[1,8]\n",
    "n2=vendor_bivall.iloc[0,8]\n",
    "m1=vendor_bivall.iloc[1,9]\n",
    "m2=vendor_bivall.iloc[0,9]\n",
    "s1=vendor_bivall.iloc[1,10]\n",
    "s2=vendor_bivall.iloc[0,10]\n",
    "\n",
    "print(onetailed_Ztest(m1,m2,s1,s2,n1,n2,55))\n",
    "print(onetailed_Ttest(m1,m2,s1,s2,n1,n2,55))"
   ]
  },
  {
   "cell_type": "markdown",
   "metadata": {},
   "source": [
    "As p-value is less than 0.5, we reject the Null Hypothesis\n",
    "<br> Diff is greater than 55m for Distance Travelled betweeen Vendor 2 and 1 which isn't much"
   ]
  },
  {
   "cell_type": "code",
   "execution_count": 15,
   "metadata": {},
   "outputs": [
    {
     "name": "stdout",
     "output_type": "stream",
     "text": [
      "0.0015924958222797159\n",
      "0.0015925606576501217\n",
      "0.1160526825748367\n",
      "0.1160528768639203\n"
     ]
    }
   ],
   "source": [
    "n1=vendor_bivall.iloc[1,16]\n",
    "n2=vendor_bivall.iloc[0,16]\n",
    "m1=vendor_bivall.iloc[1,17]\n",
    "m2=vendor_bivall.iloc[0,17]\n",
    "s1=vendor_bivall.iloc[1,18]\n",
    "s2=vendor_bivall.iloc[0,18]\n",
    "\n",
    "print(twotailed_Ztest(m1,m2,s1,s2,n1,n2))\n",
    "print(twotailed_Ttest(m1,m2,s1,s2,n1,n2))\n",
    "print(onetailed_Ztest(m1,m2,s1,s2,n1,n2,0.05))\n",
    "print(onetailed_Ttest(m1,m2,s1,s2,n1,n2,0.05))\n"
   ]
  },
  {
   "cell_type": "markdown",
   "metadata": {},
   "source": [
    "As p-value is less than 0.5, we reject the Null Hypothesis\n",
    "<br> Vendor 2 has higher average speed than Vendor 1"
   ]
  },
  {
   "cell_type": "code",
   "execution_count": null,
   "metadata": {},
   "outputs": [],
   "source": []
  },
  {
   "cell_type": "markdown",
   "metadata": {},
   "source": [
    "## MEAN MODELS"
   ]
  },
  {
   "cell_type": "code",
   "execution_count": 58,
   "metadata": {},
   "outputs": [],
   "source": [
    "from sklearn.metrics import mean_squared_log_error as msle\n",
    "from sklearn.metrics import mean_absolute_error as mae\n",
    "from sklearn.metrics import mean_squared_error as mse\n",
    "\n",
    "\n",
    "from sklearn.utils import shuffle"
   ]
  },
  {
   "cell_type": "code",
   "execution_count": 44,
   "metadata": {},
   "outputs": [
    {
     "data": {
      "text/plain": [
       "729322"
      ]
     },
     "execution_count": 44,
     "metadata": {},
     "output_type": "execute_result"
    }
   ],
   "source": [
    "lent=dataset.shape[0]\n",
    "lent"
   ]
  },
  {
   "cell_type": "code",
   "execution_count": 49,
   "metadata": {},
   "outputs": [
    {
     "name": "stdout",
     "output_type": "stream",
     "text": [
      "583458\n",
      "145864\n"
     ]
    }
   ],
   "source": [
    "a=round(80*lent/100)\n",
    "b=lent-a\n",
    "print(a)\n",
    "print(b)"
   ]
  },
  {
   "cell_type": "code",
   "execution_count": 46,
   "metadata": {},
   "outputs": [],
   "source": [
    "\n",
    "list1=[]\n",
    "for i in range(lent):\n",
    "    if(i<a):\n",
    "        list1.append(True)\n",
    "    else:\n",
    "        list1.append(False)"
   ]
  },
  {
   "cell_type": "code",
   "execution_count": 47,
   "metadata": {},
   "outputs": [],
   "source": [
    "new_df=shuffle(dataset,random_state=50)\n",
    "train=new_df[list1]\n",
    "test=new_df[[not a for a in list1]]"
   ]
  },
  {
   "cell_type": "code",
   "execution_count": 50,
   "metadata": {},
   "outputs": [
    {
     "name": "stdout",
     "output_type": "stream",
     "text": [
      "145864\n",
      "583458\n"
     ]
    }
   ],
   "source": [
    "print(len(test))\n",
    "print(len(train))"
   ]
  },
  {
   "cell_type": "markdown",
   "metadata": {},
   "source": [
    "## Simple Mean"
   ]
  },
  {
   "cell_type": "code",
   "execution_count": 56,
   "metadata": {},
   "outputs": [
    {
     "name": "stderr",
     "output_type": "stream",
     "text": [
      "C:\\ProgramData\\Anaconda3\\lib\\site-packages\\ipykernel_launcher.py:1: SettingWithCopyWarning: \n",
      "A value is trying to be set on a copy of a slice from a DataFrame.\n",
      "Try using .loc[row_indexer,col_indexer] = value instead\n",
      "\n",
      "See the caveats in the documentation: https://pandas.pydata.org/pandas-docs/stable/user_guide/indexing.html#returning-a-view-versus-a-copy\n",
      "  \"\"\"Entry point for launching an IPython kernel.\n",
      "C:\\ProgramData\\Anaconda3\\lib\\site-packages\\ipykernel_launcher.py:2: SettingWithCopyWarning: \n",
      "A value is trying to be set on a copy of a slice from a DataFrame.\n",
      "Try using .loc[row_indexer,col_indexer] = value instead\n",
      "\n",
      "See the caveats in the documentation: https://pandas.pydata.org/pandas-docs/stable/user_guide/indexing.html#returning-a-view-versus-a-copy\n",
      "  \n"
     ]
    }
   ],
   "source": [
    "train[\"simple_mean\"]=train.trip_duration.mean()\n",
    "test[\"simple_mean\"]=train.trip_duration.mean()"
   ]
  },
  {
   "cell_type": "code",
   "execution_count": 57,
   "metadata": {},
   "outputs": [
    {
     "data": {
      "text/plain": [
       "329666    951.260864\n",
       "27983     951.260864\n",
       "103532    951.260864\n",
       "671270    951.260864\n",
       "143202    951.260864\n",
       "             ...    \n",
       "246000    951.260864\n",
       "65359     951.260864\n",
       "221985    951.260864\n",
       "113988    951.260864\n",
       "176570    951.260864\n",
       "Name: simple_mean, Length: 583458, dtype: float64"
      ]
     },
     "execution_count": 57,
     "metadata": {},
     "output_type": "execute_result"
    }
   ],
   "source": [
    "train.simple_mean"
   ]
  },
  {
   "cell_type": "code",
   "execution_count": 69,
   "metadata": {},
   "outputs": [
    {
     "name": "stdout",
     "output_type": "stream",
     "text": [
      "RMSLE_Test 0.8844186281797533\n",
      "RMSLE_Train 0.8864329597463309\n",
      "RMSE_Train 3157.165508512641\n",
      "RMSE_Test 5899.650196399025\n",
      "MAE_Train 617.6793000934512\n",
      "MAE_Test 621.2808564545121\n"
     ]
    }
   ],
   "source": [
    "print(f\"RMSLE_Test {np.sqrt(msle(test.trip_duration,test.simple_mean))}\")\n",
    "print(f\"RMSLE_Train {np.sqrt(msle(train.trip_duration,train.simple_mean))}\")\n",
    "print(f\"RMSE_Train {np.sqrt(mse(train.trip_duration,train.simple_mean))}\")\n",
    "print(f\"RMSE_Test {np.sqrt(mse(test.trip_duration,test.simple_mean))}\")\n",
    "print(f\"MAE_Train {mae(train.trip_duration,train.simple_mean)}\")\n",
    "print(f\"MAE_Test {mae(test.trip_duration,test.simple_mean)}\")"
   ]
  },
  {
   "cell_type": "raw",
   "metadata": {},
   "source": [
    "msle(train.trip_duration,train.simple_mean)"
   ]
  },
  {
   "cell_type": "markdown",
   "metadata": {},
   "source": [
    "## Vendor ID mean"
   ]
  },
  {
   "cell_type": "code",
   "execution_count": 72,
   "metadata": {},
   "outputs": [
    {
     "data": {
      "text/plain": [
       "1056.2088941576021"
      ]
     },
     "execution_count": 72,
     "metadata": {},
     "output_type": "execute_result"
    }
   ],
   "source": [
    "v1=train[train.vendor_id==1][\"trip_duration\"].mean()\n",
    "v1\n",
    "v2=train[train.vendor_id==2][\"trip_duration\"].mean()\n",
    "v2\n"
   ]
  },
  {
   "cell_type": "code",
   "execution_count": 74,
   "metadata": {},
   "outputs": [
    {
     "name": "stderr",
     "output_type": "stream",
     "text": [
      "C:\\ProgramData\\Anaconda3\\lib\\site-packages\\ipykernel_launcher.py:1: SettingWithCopyWarning: \n",
      "A value is trying to be set on a copy of a slice from a DataFrame.\n",
      "Try using .loc[row_indexer,col_indexer] = value instead\n",
      "\n",
      "See the caveats in the documentation: https://pandas.pydata.org/pandas-docs/stable/user_guide/indexing.html#returning-a-view-versus-a-copy\n",
      "  \"\"\"Entry point for launching an IPython kernel.\n"
     ]
    },
    {
     "data": {
      "text/plain": [
       "329666     830.543342\n",
       "27983     1056.208894\n",
       "103532     830.543342\n",
       "671270    1056.208894\n",
       "143202    1056.208894\n",
       "             ...     \n",
       "246000    1056.208894\n",
       "65359     1056.208894\n",
       "221985    1056.208894\n",
       "113988     830.543342\n",
       "176570    1056.208894\n",
       "Name: Vendor_ID_mean, Length: 583458, dtype: float64"
      ]
     },
     "execution_count": 74,
     "metadata": {},
     "output_type": "execute_result"
    }
   ],
   "source": [
    "train[\"Vendor_ID_mean\"]=list(map(lambda x: v1 if x==1 else v2, train[\"vendor_id\"]))\n",
    "train.Vendor_ID_mean"
   ]
  },
  {
   "cell_type": "code",
   "execution_count": 75,
   "metadata": {},
   "outputs": [
    {
     "name": "stderr",
     "output_type": "stream",
     "text": [
      "C:\\ProgramData\\Anaconda3\\lib\\site-packages\\ipykernel_launcher.py:1: SettingWithCopyWarning: \n",
      "A value is trying to be set on a copy of a slice from a DataFrame.\n",
      "Try using .loc[row_indexer,col_indexer] = value instead\n",
      "\n",
      "See the caveats in the documentation: https://pandas.pydata.org/pandas-docs/stable/user_guide/indexing.html#returning-a-view-versus-a-copy\n",
      "  \"\"\"Entry point for launching an IPython kernel.\n"
     ]
    },
    {
     "data": {
      "text/plain": [
       "301963    1056.208894\n",
       "389717    1056.208894\n",
       "446842     830.543342\n",
       "170480     830.543342\n",
       "484886    1056.208894\n",
       "             ...     \n",
       "321502    1056.208894\n",
       "441633    1056.208894\n",
       "677997     830.543342\n",
       "239499     830.543342\n",
       "103904     830.543342\n",
       "Name: Vendor_ID_mean, Length: 145864, dtype: float64"
      ]
     },
     "execution_count": 75,
     "metadata": {},
     "output_type": "execute_result"
    }
   ],
   "source": [
    "test[\"Vendor_ID_mean\"]=list(map(lambda x: v1 if x==1 else v2, test[\"vendor_id\"]))\n",
    "test.Vendor_ID_mean"
   ]
  },
  {
   "cell_type": "code",
   "execution_count": 76,
   "metadata": {},
   "outputs": [
    {
     "name": "stdout",
     "output_type": "stream",
     "text": [
      "RMSLE_Test 0.8878438412695892\n",
      "RMSLE_Train 0.8892407121627409\n",
      "RMSE_Train 3155.158471769479\n",
      "RMSE_Test 5899.082565192395\n",
      "MAE_Train 623.630364108748\n",
      "MAE_Test 627.8301353634984\n"
     ]
    }
   ],
   "source": [
    "print(f\"RMSLE_Test {np.sqrt(msle(test.trip_duration,test.Vendor_ID_mean))}\")\n",
    "print(f\"RMSLE_Train {np.sqrt(msle(train.trip_duration,train.Vendor_ID_mean))}\")\n",
    "print(f\"RMSE_Train {np.sqrt(mse(train.trip_duration,train.Vendor_ID_mean))}\")\n",
    "print(f\"RMSE_Test {np.sqrt(mse(test.trip_duration,test.Vendor_ID_mean))}\")\n",
    "print(f\"MAE_Train {mae(train.trip_duration,train.Vendor_ID_mean)}\")\n",
    "print(f\"MAE_Test {mae(test.trip_duration,test.Vendor_ID_mean)}\")"
   ]
  }
 ],
 "metadata": {
  "kernelspec": {
   "display_name": "Python 3",
   "language": "python",
   "name": "python3"
  },
  "language_info": {
   "codemirror_mode": {
    "name": "ipython",
    "version": 3
   },
   "file_extension": ".py",
   "mimetype": "text/x-python",
   "name": "python",
   "nbconvert_exporter": "python",
   "pygments_lexer": "ipython3",
   "version": "3.7.6"
  }
 },
 "nbformat": 4,
 "nbformat_minor": 4
}
